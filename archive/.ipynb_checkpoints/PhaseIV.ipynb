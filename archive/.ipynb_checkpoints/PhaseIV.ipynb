{
 "cells": [
  {
   "cell_type": "code",
   "execution_count": 68,
   "id": "5d8c2e44",
   "metadata": {},
   "outputs": [],
   "source": [
    "import requests\n",
    "from bs4 import BeautifulSoup\n",
    "\n",
    "import pandas as pd\n",
    "import numpy as np\n",
    "import time\n",
    "\n",
    "import seaborn\n",
    "from matplotlib import pyplot as plt\n",
    "\n",
    "from sklearn.linear_model import LogisticRegression\n",
    "from sklearn.linear_model import LinearRegression\n",
    "from sklearn import preprocessing\n",
    "from sklearn import utils\n",
    "import scipy.stats as stats\n",
    "from scipy.stats import binom, poisson, norm\n",
    "from sklearn.metrics import log_loss\n",
    "from sklearn.model_selection import train_test_split, KFold, cross_val_score\n",
    "import matplotlib.dates as mdates\n",
    "from sklearn import metrics"
   ]
  },
  {
   "cell_type": "code",
   "execution_count": 69,
   "id": "3c0814a9",
   "metadata": {},
   "outputs": [
    {
     "name": "stdout",
     "output_type": "stream",
     "text": [
      "The sql extension is already loaded. To reload it, use:\n",
      "  %reload_ext sql\n"
     ]
    }
   ],
   "source": [
    "%load_ext sql\n",
    "\n",
    "%config SqlMagic.autopandas = True\n",
    "%config SqlMagic.feedback = False\n",
    "%config SqlMagic.displaycon = False\n",
    "\n",
    "%sql duckdb:///:memory:"
   ]
  },
  {
   "cell_type": "markdown",
   "id": "524f95a6",
   "metadata": {},
   "source": [
    "## Phase IV"
   ]
  },
  {
   "cell_type": "markdown",
   "id": "ffbc4dab",
   "metadata": {},
   "source": [
    "### *Introduction*"
   ]
  },
  {
   "cell_type": "markdown",
   "id": "4210cbc2",
   "metadata": {},
   "source": [
    "**Research question: Can we utilize the popularity of Pitbull as a way to discover correlations between his success and recessions, as well as use it as a predictive model?**\n",
    "\n",
    "Pitbull has been a colorful character in American music history, with a peak in the late aughts and early 2010s-- overlapping with the Great Recession. Here, we wanted to examine if we could utilize this interesting overlap to evaluate seemingly unrelated datasets to create some interesting findings. Through tracking his popularity through readily available Billboard Hot 100 data and US economic health through federal unemployment data, as well as supplementing these datasets with Wikipedia award data and Google Trends data, we aimed to see if there were statiscally significant findings relating to his success in the US and abroad and create a sort of Pitbull recession index.\n",
    "\n",
    "There are many recession indexes, such as the lipstick index, where people making small purchases, like a lipstick, at a lower frequency indicates the beginning of an economic downturn. Similarly, we wanted to see if people enjoyed his music more or less while the country was experiencing economic downturn, and if we could dissect it by ethnic group, age, and time. Ultimately, we did not create a recession index, with our main findings lacking statistical significance for the most part, though when using Google search term popularity for 'Pitbull', we find statistically significant coefficients with a positive relationship between the unemployment rate and Pitbull popularity. Through exploratory data of Billboard Hot 100 mentionings of Pitbull, Wikipedia awards charts of Pitbull, Google trends of Pitbull, and federal unemployment data, we saw some data points that spanned the whole of unemployment."
   ]
  },
  {
   "cell_type": "markdown",
   "id": "292f05f3",
   "metadata": {},
   "source": [
    "### *Data description*"
   ]
  },
  {
   "cell_type": "markdown",
   "id": "3d692630",
   "metadata": {},
   "source": [
    "Our data consists of csv files from Kaggle, noting unemployment data and Billboard Hot 100 data. Additionally, we underwent webscraping to collect Wikipedia data on Pitbull's billboard awards.The unemployment data we needed to remove NaN values and bound the dates in between 2009 and 2012. Additionally, we needed to merge the month and date columns so we could do a time series. The same could be said for the Billboard Hot 100 file, because we needed to merge the month and the data. We also had to make sure that the only artist we accounted for was Pitbull. The Pitbull awards data scraping involved using two Wikipedia tables to create a fuller picture of how successful he was according to the Billboard awards. This meant that we added an additional column regarding whether or not the award won was for the Billboard Latin Awards or the Billboard Awards. \n",
    "\n",
    "#### Detailed Information\n",
    "\n",
    "- The unemployment dataset was created to keep track of unemployment rate as an economic measure; the Wikipedia page for Pitbull's Billboard awards was likely created as a general information source for the public to learn about Pitbull as an artist and public figure; we are unsure about what the motivation was for creating the Billboard Hot 100 dataset other than to keep track of which songs appear on there and how often.\n",
    "\n",
    "- Although we used the unemployment dataset from Kaggle, the data is the same as in FRED (Federal Reserve Economic Data) and is government-funded, Wikipedia pages are usually funded through indvidual donations and volunteer contributions, and we are unsure of where the funding comes from (if any) for the Billboard Hot 100 dataset from Kaggle.\n",
    "\n",
    "- Since the Billboard Hot 100 data on Kaggle does not explicitly mention how the data is collected, and billboard.com (listed as the provenance) does not have a way to view past weeks, this can be a source of many human errors, including missing details from a given week or inputting incorrect details from manual data input (if the inpur process was manual). As for the unemployment dataset, the actual collection of such data can be found here: https://www.bls.gov/cps/cps_htgm.htm, but the main processes that would affect the recording process would be in the sample selection itself, which may result in the over-generalization of unemployment rate numbers. As for the Wikipedia page, any contributor must rely on other sources of data available to be reliable in order to compile those pieces of data into one page, in this case Billboard Awards.\n",
    "\n",
    "- Although we are unsure of what and how preprocessing was performed on any of these datasets, we do know that data had to be transferred from a different site (FRED and Billboard) into the datasets that we downloaded, which can have various problems as discussed previously.\n",
    "\n",
    "- For the unemployment data, people were aware of the data collection and probably expected it to be used for government purposes, which it was, though they may have not predicted it would be used to study correlation between unemployment and Pitbull popularity.\n",
    "\n",
    "#### Minutae of datasets\n",
    "\n",
    "**Billboard Hot 100:**\n",
    "\n",
    "*Preexisting columns*- date, rank, song, artist, last-week, peak-rank, weeks-on-board  \n",
    "\n",
    "*How we changed it-*\n",
    "- Turned date into datetime and added values\n",
    "- Changed weeks on board into songfreq column\n",
    "\n",
    "**Wikipedia awards dataset:**\n",
    "\n",
    "*Preexisting columns*- Year, Nominee / work, Award, Result\n",
    "\n",
    "*How we changed it-*\n",
    "- Added Latin binary column\n",
    "\n",
    "**Federal unemployment dataset:**\n",
    "\n",
    "*Preexisting columns*- date, unrate, unrate_men, unrate_women, unrate_16_to_17, unrate_18_to_19, unrate_20_to_24, unrate_25_to_34, unrate_35_to_44, unrate_45_to_54, unrate_55_over\n",
    "\n",
    "*How we changed it-*\n",
    "- Changed date to datetime format\n",
    "\n",
    "**Google trends dataset (Keikei please add)**"
   ]
  },
  {
   "cell_type": "markdown",
   "id": "5cf30067",
   "metadata": {},
   "source": [
    "### Preregistration statement"
   ]
  },
  {
   "cell_type": "markdown",
   "id": "8f93f117",
   "metadata": {},
   "source": [
    "**Hypothesis #1**\n",
    "\n",
    "There's a correlation between an award in a given year being Latin and the unemployment rate from 2009 to 2012. In other words, the likelihood of Pitbull receiving a Latin award depends on the U.S. unemployment rate, where beta on unemployment does not equal zero.\n",
    "\n",
    "*What we're going to do*\n",
    "- We will perform a logistic regression where the dependent variable = 1 for receiving a Latin award and 0 otherwise\n",
    "- We will also perform a cdf on the probability that given a Latin Billboard music award between 2009 and 2018, Pitbull would be a recipient. Towards that end, we calculated z-scores to find the probability that a song's award is Latin, computed cdfs, and then plotted those points on the distributions to see if the results are statiscally significant or if we just didn't have enough data.\n",
    "- We will also utilize a correlation matrix.\n",
    "\n",
    "*Why we chose this hypothesis and our methodologies*\n",
    "- First off, it was important to me to put all of the information we had on Pitbull to work. Harkening back to hw4, I wanted to see what other publicly curated datasets could be useful in informing Pitbull's success. As a middlingly successful media juggernaut, Wikipedia and its award dataframes were a wealth of information.\n",
    "- Beyond that, I want to tap into the socio-economic aspects of Pitbull as a Latin-American artist, especially during the late aughts and especially as a man from Florida. As one of the hardest hit states following the Great Recession with a high Hispanic population that was stastically more underemployed than other ethnic groups, it was interesting to see an awards metric be so illuminating. While there do exist charts and trends data, the Billboard Latin Music Awards are interesting 1) because of the volume of awards he'd won and 2) how it represented an embrace of identity. \n",
    "- So, we got to work. The logistic regression was to serve as a baseline to understand the limitations of our data's predictive capabilities. Due to awards seasons clustering around certain months, it was difficult to visualize anything substantive. We would up using a time series of unemloyment between 2009 and 2018, and set it against a scatterplot of recieving awards. Towards that end, we did notice some overlap.\n",
    "- We performed cdfs to account for standardization of comparison against different data sets. While the awards df was very small, the unemployment one was not, so we had a large hurdle. When faced with vastly different stds and information, it was important to maintain neutrality and cdfs do exactly that. Moreover, since they were cumulative it was important, because our entire arguement rests on how everything builds atop eachother.\n",
    "- The correlation matrix was again very standard, and did not show anything significant.\n",
    "\n",
    "**Hypothesis #2**\n",
    "\n",
    "Given a host of variables in our unemployment data-- age range of those unemployed, their gender, and the cumulative unemployment rate-- we can predict whether or not Pitbull would make it onto the Billboard Charts. In other words, the likelihood of Pitbull having a song in the Billboard Hot 100 depends on the unemployment rate, where beta on unemployment is greater than 0.\n",
    "\n",
    "*What we're going to do*\n",
    "- We will use K-folds to see if we can train the data set on unemployment-- given a host of variables-- to see if we can predict Pitbull's chart success.Moreover, we will utilize these K-folds to measure the F1 of our model.\n",
    "\n",
    "*Why we chose this hypothesis and our methodologies*\n",
    "- We chose this hypothesis to give us the largest view of the American public during Pitbull's rise, peak, and eventual floundering. By having the opportunity to build a model with many variables, we want to see if this information had greater predictive capacities over Pitbull. \n",
    "- Intially thinking about a logistic regression with a train test split, we understood our data set was incredibly small and it would've been nearly impossible to test a model on 40 data points. Resultantly, with K-folds, we were able to not overwork our data. \n",
    "- Moreover, during the process, we thought about how to avoid multicollinearity by focusing on his target demographic-- young people and how their unemployment could inform his success. It did.\n",
    "- Referring back to hw5 as a resource, we made sure to include a host of variables for their predictive capacities, and then we whittled it down to think about another hypothesis-- that the economy could predict Pitbull and not the other way around. We were successful towards that end, building an excellent model that was able to predict how he charted."
   ]
  },
  {
   "cell_type": "markdown",
   "id": "00eb199b",
   "metadata": {},
   "source": [
    "### *Data Analysis*"
   ]
  },
  {
   "cell_type": "markdown",
   "id": "77c64004",
   "metadata": {},
   "source": [
    "#### **Exploratory Data Analysis**"
   ]
  },
  {
   "cell_type": "code",
   "execution_count": 70,
   "id": "40af908d",
   "metadata": {},
   "outputs": [
    {
     "name": "stdout",
     "output_type": "stream",
     "text": [
      "billboard_freq_means\n",
      "2.6387832699619773\n",
      "billboard_freq_median\n",
      "3.0\n",
      "billboard_freq_variances\n",
      "3.445360345978571\n",
      "billboard_freq_std\n",
      "1.8561681890331412\n"
     ]
    }
   ],
   "source": [
    "simplecomp_df=pd.read_csv('simplecomp_df.csv')\n",
    "billboard_freq_means = (simplecomp_df['songfreq'].mean(axis=0))\n",
    "print ('billboard_freq_means')\n",
    "print (billboard_freq_means)\n",
    "billboard_freq_median= (simplecomp_df['songfreq'].median(axis=0))\n",
    "print ('billboard_freq_median')\n",
    "print (billboard_freq_median)\n",
    "billboard_freq_variances= (simplecomp_df['songfreq'].var(axis=0))\n",
    "print ('billboard_freq_variances')\n",
    "print (billboard_freq_variances)\n",
    "billboard_freq_std= (simplecomp_df['songfreq'].std(axis=0))\n",
    "print ('billboard_freq_std')\n",
    "print (billboard_freq_std)"
   ]
  },
  {
   "cell_type": "code",
   "execution_count": 71,
   "id": "0988d28a",
   "metadata": {},
   "outputs": [
    {
     "name": "stdout",
     "output_type": "stream",
     "text": [
      "unrate_means\n",
      "6.911406844106461\n",
      "unrate_median\n",
      "6.6\n",
      "unrate_variances\n",
      "3.600632746059853\n",
      "unrate_std\n",
      "1.8975333320023269\n"
     ]
    }
   ],
   "source": [
    "unrate_means = (simplecomp_df['unrate'].mean(axis=0))\n",
    "print ('unrate_means')\n",
    "print (unrate_means)\n",
    "unrate_median= (simplecomp_df['unrate'].median(axis=0))\n",
    "print ('unrate_median')\n",
    "print (unrate_median)\n",
    "unrate_variances= (simplecomp_df['unrate'].var(axis=0))\n",
    "print ('unrate_variances')\n",
    "print (unrate_variances)\n",
    "unrate_std= (simplecomp_df['unrate'].std(axis=0))\n",
    "print ('unrate_std')\n",
    "print (unrate_std)"
   ]
  },
  {
   "cell_type": "code",
   "execution_count": 72,
   "id": "4a5686e5",
   "metadata": {},
   "outputs": [
    {
     "name": "stdout",
     "output_type": "stream",
     "text": [
      "Latin award total count:\n",
      "36\n",
      "US award total count:\n",
      "11\n"
     ]
    }
   ],
   "source": [
    "unemployaward_df=pd.read_csv('unemployaward_df.csv')\n",
    "print('Latin award total count:')\n",
    "print (unemployaward_df.loc[unemployaward_df.Latin == 'Yes', 'Latin'].count())\n",
    "print('US award total count:')\n",
    "print (unemployaward_df.loc[unemployaward_df.Latin == 'No', 'Latin'].count())"
   ]
  },
  {
   "cell_type": "markdown",
   "id": "654084a6",
   "metadata": {},
   "source": [
    "#### **Plots**"
   ]
  },
  {
   "cell_type": "markdown",
   "id": "98322906",
   "metadata": {},
   "source": [
    "##### Time Series on Pitbull Billboard Appearances"
   ]
  },
  {
   "cell_type": "code",
   "execution_count": 73,
   "id": "7a7ced50",
   "metadata": {},
   "outputs": [
    {
     "data": {
      "text/plain": [
       "Text(0, 0.5, 'Billboard Song Freq')"
      ]
     },
     "execution_count": 73,
     "metadata": {},
     "output_type": "execute_result"
    },
    {
     "data": {
      "image/png": "[encoded data removed]",
      "text/plain": [
       "<Figure size 640x480 with 1 Axes>"
      ]
     },
     "metadata": {},
     "output_type": "display_data"
    }
   ],
   "source": [
    "x = np.asarray(simplecomp_df['date'], dtype='datetime64[s]')\n",
    "A= plt.scatter(x,'songfreq', data=simplecomp_df)\n",
    "A= plt.xticks(rotation=60)\n",
    "plt.xlabel ('Date')\n",
    "plt.ylabel (\"Billboard Song Freq\")\n"
   ]
  },
  {
   "cell_type": "markdown",
   "id": "2df656bb",
   "metadata": {},
   "source": [
    "##### Time Series on Unemployment"
   ]
  },
  {
   "cell_type": "code",
   "execution_count": 74,
   "id": "bf8609fd",
   "metadata": {},
   "outputs": [
    {
     "data": {
      "text/plain": [
       "Text(0, 0.5, 'Unemployment Rate')"
      ]
     },
     "execution_count": 74,
     "metadata": {},
     "output_type": "execute_result"
    },
    {
     "data": {
      "image/png": "[encoded data removed]",
      "text/plain": [
       "<Figure size 640x480 with 1 Axes>"
      ]
     },
     "metadata": {},
     "output_type": "display_data"
    }
   ],
   "source": [
    "y = np.asarray(simplecomp_df['date'], dtype='datetime64[s]')\n",
    "plt.scatter(y,'unrate', data=simplecomp_df)\n",
    "plt.xticks(rotation=60)\n",
    "plt.xlabel ('Date')\n",
    "plt.ylabel (\"Unemployment Rate\")"
   ]
  },
  {
   "cell_type": "markdown",
   "id": "16475d29",
   "metadata": {},
   "source": [
    "### *Evaluation of significance*"
   ]
  },
  {
   "cell_type": "markdown",
   "id": "fbf7a4fc",
   "metadata": {},
   "source": [
    "Ultimately, we were unable to determine anything fully solid in a traditional sense. While we attempted logistic regressions and correlation matrixes, they didn't prove as fruitful as we'd hope. With negative slopes and negative coefficients, we were unable to parlay our unemployment rate data and our awards/billboard music data in a way that would've been well-suited to either or them. The unemployment data was incredibly vast and quite accurate, so it was difficult when we were trying to use very little information to predict it.\n",
    "\n",
    "As a result, we decided to make a pivot through visualizations and understanding our data in a unique and fun way. Through a time series with a colorful scatterplot, we were able to show how it was possible to *feel* Pitbull's success during hard times, even if it wasn't completely all there. Moreover, through the implementation of cdfs, we found a way to normalize our data in a manner that scaled down our data gap. We could for outliers and variance, we looked towards the divots in these cdfs in a manner we just couldn't do with histograms. Again, to reiterate, the scarcity of our data meant that a lot of avenues were closed, mainly because it was going to look odd either way. \n",
    "\n",
    "Nevertheless, we soldiered on, until we stumbled upon a treasure trove of Pitbull data from the years 2012-2018 and from 2004-2099 (for Billboard). Ultimately, this meant that we were able to be smart about how we allocated our data, and how we fed a K-folds model. We walked knowing that while Pitbull couldn't be a recession index, the recession could be a Pitbull index with a a roughly 88% f1 score."
   ]
  },
  {
   "cell_type": "markdown",
   "id": "7eba7542",
   "metadata": {},
   "source": [
    "### Interpretation and conclusions"
   ]
  },
  {
   "cell_type": "markdown",
   "id": "c0efbc1a",
   "metadata": {},
   "source": [
    "**Hypothesis 1:**\n",
    "Our first hypothesis regarding having the award be Latin as an indicator of unemployment proved mixed and ultimately incorrect. While the logistic regression showed Pitbull's success towards higher unemployment, it was not a great indicator, simply because we have such a small dataset and the points all clustered towards the same values because he won all the awards at the same time each year. Moreover, the cdf for the probabilities of him winnig an award in a given year and the tracking of the unemployment in a given year proved inconclusive, because there was much overlap around 50% confidence. However, what was interesting was that there was a decrease in unemployment in 2012 and that same year Pitbull won the most awards, so the highest probability of his winning an award and the lowest probability of a specific unemployment rate were at the same time. The correlation matrix showed nothing of worth.\n",
    "\n",
    "We performed this hypothesis to evaluate the social components of Pitbull's success-- in this case with regards to success in Latin circles, and how it may influence the unemployment rate. our line of thinking followed that the relevancy of Pitbull's success with the Latin awards was that historically he's more popular with a Latin fanbase and they were also more impacted by the Great Recession-- with an increase of 2.9% overall for their unemployment, as opposed to merely 2.0% for the rest of the population. While this may have to do more with scale, we were trying to see that if he won more or less awards, it would be indicator of an improving economy. Through our time series, we found ourselves amused at some similar overlap. \n",
    "\n",
    "Moreover, I think our group  walked away with a lot of respect for probability and data visualization. To compensate for the lack of statistical findings, we were forced to be creative with how we deployed and thought about data-- how Pitbull's success was an indication of American resillience. We found ourselves moving beyond normal distributions and tried to figure out how to work in the z-scores and standard deviations we performed in Phase II's exploratory data analysis to devise instruments. \n",
    "\n",
    "**Hypothesis 2:**\n",
    "We came to see if we could use the unemployment data better-- taking it as an opportunity to develop more complicated instruments that could predict Pitbull's Billboard Hot 100 success and not the other way around. The K-folds proved much more promising, because the standard deviations were lower and our f1 scores were much higher than we intially anticipated. I think sampling with replacement was telling as we have so little data to work with and this aided us in avoiding overfitting. Intially, our produced F1 scores were not the most promising, as they were middling. Here, we were trying to see if the introduction of multiple variables could predict his success on the charts. When taking age, gender, and the general unemployment rate into account, we were trying to see if we could measure his chart success in a given year and if we could improve our model.\n",
    "\n",
    "we were able to do with slightly by removing variables like sex and older demographics, and performing a second K-fold with just unemployment rate and the unemployment rate of those between 20 and 24. Since Pitbull's listeners are generally younger, the thinking went that the way this demographic listened and worked may be an indicator of his success. However, with an influx of data, we were capable of using unemployments rates based on gender, age ranges, and the general public to train and test a successful model. \n",
    "\n",
    "And we did do that. We were incredibly pleased at how well our model did, and we were excited to discover something useful.\n",
    "\n",
    "**Hypothesis 3:**\n",
    "When utilizing data from Google Trends, which indicates the interest over time, calculated by search frequency, we find prmising results when using this interest index as a measure for Pitbull popularity. Specifically we find that unemployment rate as varied by ages 16-54, exept 20-24, has a significant relationship (at the 5% level) with Pitbull popularity, where an increase in the unemployment rate in those age brackets have a positive impact on the interest index for Pitbull. This is interesting because the largest impacts, in terms of coefficient value, fall on ages 25 and above. Even though Pitbull's music may be suitable for most age ranges 18 and above, the results suggest that people 25 and older are the ones searching for Pitbull on Google most often. This may come from tech-savviness and an older population looking up Pitbull every time they'd like to listen to one of his songs, whereas younger populations may use Youtube or other platforms directly for music listening. Overall, unemployment rate in ages 25+ have the most weight on search term popularity, and thus the interest index appears sensitive to changes in the unemployment rate for those age brackets.\n"
   ]
  },
  {
   "cell_type": "markdown",
   "id": "2881f59e",
   "metadata": {},
   "source": [
    "### Limitations"
   ]
  },
  {
   "cell_type": "markdown",
   "id": "f8384812",
   "metadata": {},
   "source": [
    "**a. Definition of popularity:**\n",
    "\n",
    "Our defintion of popularity is limited, given that we define popularity in terms of Billboard Hot 100 appearance, music awards information, and search frequency for the term 'Pitbull'. We rely on the data to be accurate, which may not be true, especially for the Billboard Hot 100 dataset from Kaggle, but we did not notice any obvious manipulations. Our general idea of popularity is most closely related to how often people listen to Pitbull, and how that frequency changes as the unemployment rate changes. Since we do not have access to such data, we found the datasets we used to be the most reasonable, though by no means precise. Additionally, when evaluating awards as a measure of popularity, we do so by choosing awards that are Latin since Pitbull, producing mainly Latin-American music, is more likely to be a recipient of those Awards because that is his category, regardless of U.S. popularity. Awards seem to also reflect delayed popularity rather than an instant measure of it, since the process of awareness of the songs/albums, to nomination, to announcement of winning all take long and may not reflect people's perception of Pitbull at the time the award is given or nominated. \n",
    "\n",
    "**b. Timespan:**\n",
    "\n",
    "In our Billboard Hot 100 analysis, that dataset only included information on 3 years, 2009-2012, which is a small timeframe, particularly for significant changes in the economy, specially unemployment rate. Therefore, such analyses may not be reflective of Pitbull's popularity trend overall (2009-2022), since an artist's career tends to flourish as time passes from their most significant debut (2009 for Pitbull).\n",
    "\n",
    "**c. Measure of unemployment:**\n",
    "\n",
    "Though FRED is a reliable source of U.S. economic data, used by policymakers, economists, researchers, etc., the way unemployment is calculated is incredibly complex, surveying different cohorts of households at different points in time, with limits on how many times any given household may participate in the survey. Moreover, unemployment only measures a small fraction of the U.S. population, surveying about 60,000 households (https://www.brookings.edu/blog/up-front/2021/02/18/what-does-the-unemployment-rate-measure/). Thus, measures of unemployment may not be entirely reflective of U.S. economic health, compared to inflation and interest rates, but we chose unemployment because of its individual-based influence on the data (employment status) vs. other measures, like inflation and itnerest rates, which are far more influenced by larger corporations as a whole, policy changes, banks, etc., who do not have an obvious relationship with Pitbull popularity since they cannot 'listen' to Ptibull."
   ]
  },
  {
   "cell_type": "markdown",
   "id": "97c1aa1a",
   "metadata": {},
   "source": [
    "### Acknowledgments"
   ]
  },
  {
   "cell_type": "markdown",
   "id": "500486b2",
   "metadata": {},
   "source": [
    "* https://www.statology.org/statsmodels-linear-regression-p-value/ for a very detailed explanation of how to get a regression table with summary statistics\n",
    "* INFO 2950, HW5 for multivariable regression and train/test split model for linear regression"
   ]
  },
  {
   "cell_type": "markdown",
   "id": "69350e3f",
   "metadata": {},
   "source": [
    "#### Questions for reviewers"
   ]
  },
  {
   "cell_type": "markdown",
   "id": "d35904cd",
   "metadata": {},
   "source": [
    "1. I don't think I did the cdf correctly for Hypothesis 1, and I don't know if the histogram was the correct course of a action. I would like to know what I should do instead, and whether or not the probabilities I calculated can be effectuated better or if I should start over to find something more significant or telling.\n",
    "\n",
    "2. For hypothesis 3, I followed a similar process to what we did in HW5 with the diamonds df, but I'm not sure if I should be excluding one of the variables to have it as my reference variable since it's a multivariable regression, but we didn't do that in HW5 for the multivariable regression so I wasn't sure. Should I omit a variable for refrerence (if so, do I leave it out of the regression or how should I do that?) or is it correct the way it is (no variables omitted?)?\n",
    "\n",
    "3. For hypothesis 3, what do I do with the date variables? Do they matter and should I include them in the regression? Or is it okay to just leave them out?\n",
    "\n",
    "4. For the regression summary in hypothesis 3, the table notes that the results indicate multicollinearity- how should we address this? Should we add interaction variables for age and gender? What about with the total unemployment rate (unrate)?"
   ]
  },
  {
   "cell_type": "markdown",
   "id": "8472bfa5",
   "metadata": {},
   "source": [
    "#### Hypothesis #1\n",
    "\n",
    "There's a correlation between an award in a given year being Latin and the unemployment rate fluctuating by a certain amount from 2009 to 2012.\n",
    "- We will also perform a logistical regression on his success in a year with regards to Latin Awards and the unemployment rate.\n",
    "- We will perform a cdf on the probability that in a given year Pitbull would win a Latin Billboard Award. \n",
    "- To compare the ability of the cdf for Pitbull's success in a given year, we decided to utilize a time series to determine unemployment rate set against the rate of his award winning. Moreover, to compare it with the probability that a given a song's award is Latin, we likewise used a cdf to see how a continuous distributive function would perform over a given period of time to indicate the statistical significance of his success as an indicator of recession.\n",
    "- We will also utilize a correlation matrix."
   ]
  },
  {
   "cell_type": "code",
   "execution_count": 75,
   "id": "6ec88643",
   "metadata": {},
   "outputs": [
    {
     "data": {
      "text/html": [
       "<div>\n",
       "<style scoped>\n",
       "    .dataframe tbody tr th:only-of-type {\n",
       "        vertical-align: middle;\n",
       "    }\n",
       "\n",
       "    .dataframe tbody tr th {\n",
       "        vertical-align: top;\n",
       "    }\n",
       "\n",
       "    .dataframe thead th {\n",
       "        text-align: right;\n",
       "    }\n",
       "</style>\n",
       "<table border=\"1\" class=\"dataframe\">\n",
       "  <thead>\n",
       "    <tr style=\"text-align: right;\">\n",
       "      <th></th>\n",
       "      <th>Unnamed: 0</th>\n",
       "      <th>unrate</th>\n",
       "      <th>Year</th>\n",
       "      <th>Month</th>\n",
       "      <th>date</th>\n",
       "      <th>Latin</th>\n",
       "    </tr>\n",
       "  </thead>\n",
       "  <tbody>\n",
       "    <tr>\n",
       "      <th>0</th>\n",
       "      <td>0</td>\n",
       "      <td>8.5</td>\n",
       "      <td>2009</td>\n",
       "      <td>1</td>\n",
       "      <td>2009-01-01</td>\n",
       "      <td>0</td>\n",
       "    </tr>\n",
       "    <tr>\n",
       "      <th>1</th>\n",
       "      <td>1</td>\n",
       "      <td>8.9</td>\n",
       "      <td>2009</td>\n",
       "      <td>2</td>\n",
       "      <td>2009-02-01</td>\n",
       "      <td>0</td>\n",
       "    </tr>\n",
       "    <tr>\n",
       "      <th>2</th>\n",
       "      <td>2</td>\n",
       "      <td>9.0</td>\n",
       "      <td>2009</td>\n",
       "      <td>3</td>\n",
       "      <td>2009-03-01</td>\n",
       "      <td>0</td>\n",
       "    </tr>\n",
       "    <tr>\n",
       "      <th>3</th>\n",
       "      <td>3</td>\n",
       "      <td>8.6</td>\n",
       "      <td>2009</td>\n",
       "      <td>4</td>\n",
       "      <td>2009-04-01</td>\n",
       "      <td>0</td>\n",
       "    </tr>\n",
       "    <tr>\n",
       "      <th>4</th>\n",
       "      <td>4</td>\n",
       "      <td>9.1</td>\n",
       "      <td>2009</td>\n",
       "      <td>5</td>\n",
       "      <td>2009-05-01</td>\n",
       "      <td>0</td>\n",
       "    </tr>\n",
       "    <tr>\n",
       "      <th>...</th>\n",
       "      <td>...</td>\n",
       "      <td>...</td>\n",
       "      <td>...</td>\n",
       "      <td>...</td>\n",
       "      <td>...</td>\n",
       "      <td>...</td>\n",
       "    </tr>\n",
       "    <tr>\n",
       "      <th>138</th>\n",
       "      <td>138</td>\n",
       "      <td>4.1</td>\n",
       "      <td>2017</td>\n",
       "      <td>9</td>\n",
       "      <td>2017-09-01</td>\n",
       "      <td>Yes</td>\n",
       "    </tr>\n",
       "    <tr>\n",
       "      <th>139</th>\n",
       "      <td>139</td>\n",
       "      <td>3.9</td>\n",
       "      <td>2017</td>\n",
       "      <td>10</td>\n",
       "      <td>2017-10-01</td>\n",
       "      <td>0</td>\n",
       "    </tr>\n",
       "    <tr>\n",
       "      <th>140</th>\n",
       "      <td>140</td>\n",
       "      <td>3.9</td>\n",
       "      <td>2017</td>\n",
       "      <td>11</td>\n",
       "      <td>2017-11-01</td>\n",
       "      <td>0</td>\n",
       "    </tr>\n",
       "    <tr>\n",
       "      <th>141</th>\n",
       "      <td>141</td>\n",
       "      <td>3.9</td>\n",
       "      <td>2017</td>\n",
       "      <td>12</td>\n",
       "      <td>2017-12-01</td>\n",
       "      <td>0</td>\n",
       "    </tr>\n",
       "    <tr>\n",
       "      <th>142</th>\n",
       "      <td>142</td>\n",
       "      <td>3.6</td>\n",
       "      <td>2018</td>\n",
       "      <td>9</td>\n",
       "      <td>2018-09-01</td>\n",
       "      <td>Yes</td>\n",
       "    </tr>\n",
       "  </tbody>\n",
       "</table>\n",
       "<p>143 rows × 6 columns</p>\n",
       "</div>"
      ],
      "text/plain": [
       "     Unnamed: 0  unrate  Year  Month        date Latin\n",
       "0             0     8.5  2009      1  2009-01-01     0\n",
       "1             1     8.9  2009      2  2009-02-01     0\n",
       "2             2     9.0  2009      3  2009-03-01     0\n",
       "3             3     8.6  2009      4  2009-04-01     0\n",
       "4             4     9.1  2009      5  2009-05-01     0\n",
       "..          ...     ...   ...    ...         ...   ...\n",
       "138         138     4.1  2017      9  2017-09-01   Yes\n",
       "139         139     3.9  2017     10  2017-10-01     0\n",
       "140         140     3.9  2017     11  2017-11-01     0\n",
       "141         141     3.9  2017     12  2017-12-01     0\n",
       "142         142     3.6  2018      9  2018-09-01   Yes\n",
       "\n",
       "[143 rows x 6 columns]"
      ]
     },
     "execution_count": 75,
     "metadata": {},
     "output_type": "execute_result"
    }
   ],
   "source": [
    "unemployaward_df = pd.read_csv('unemployaward_df.csv')\n",
    "unemployaward_df"
   ]
  },
  {
   "cell_type": "code",
   "execution_count": 76,
   "id": "a6d3ce0d",
   "metadata": {},
   "outputs": [
    {
     "data": {
      "text/html": [
       "<div>\n",
       "<style scoped>\n",
       "    .dataframe tbody tr th:only-of-type {\n",
       "        vertical-align: middle;\n",
       "    }\n",
       "\n",
       "    .dataframe tbody tr th {\n",
       "        vertical-align: top;\n",
       "    }\n",
       "\n",
       "    .dataframe thead th {\n",
       "        text-align: right;\n",
       "    }\n",
       "</style>\n",
       "<table border=\"1\" class=\"dataframe\">\n",
       "  <thead>\n",
       "    <tr style=\"text-align: right;\">\n",
       "      <th></th>\n",
       "      <th>unrate</th>\n",
       "      <th>Year</th>\n",
       "      <th>Month</th>\n",
       "      <th>date</th>\n",
       "      <th>Latin</th>\n",
       "      <th>no_award</th>\n",
       "      <th>Latin_No</th>\n",
       "      <th>Latin_Yes</th>\n",
       "    </tr>\n",
       "  </thead>\n",
       "  <tbody>\n",
       "    <tr>\n",
       "      <th>0</th>\n",
       "      <td>8.5</td>\n",
       "      <td>2009</td>\n",
       "      <td>1</td>\n",
       "      <td>2009-01-01</td>\n",
       "      <td>0</td>\n",
       "      <td>1</td>\n",
       "      <td>0</td>\n",
       "      <td>0</td>\n",
       "    </tr>\n",
       "    <tr>\n",
       "      <th>1</th>\n",
       "      <td>8.9</td>\n",
       "      <td>2009</td>\n",
       "      <td>2</td>\n",
       "      <td>2009-02-01</td>\n",
       "      <td>0</td>\n",
       "      <td>1</td>\n",
       "      <td>0</td>\n",
       "      <td>0</td>\n",
       "    </tr>\n",
       "    <tr>\n",
       "      <th>2</th>\n",
       "      <td>9.0</td>\n",
       "      <td>2009</td>\n",
       "      <td>3</td>\n",
       "      <td>2009-03-01</td>\n",
       "      <td>0</td>\n",
       "      <td>1</td>\n",
       "      <td>0</td>\n",
       "      <td>0</td>\n",
       "    </tr>\n",
       "    <tr>\n",
       "      <th>3</th>\n",
       "      <td>8.6</td>\n",
       "      <td>2009</td>\n",
       "      <td>4</td>\n",
       "      <td>2009-04-01</td>\n",
       "      <td>0</td>\n",
       "      <td>1</td>\n",
       "      <td>0</td>\n",
       "      <td>0</td>\n",
       "    </tr>\n",
       "    <tr>\n",
       "      <th>4</th>\n",
       "      <td>9.1</td>\n",
       "      <td>2009</td>\n",
       "      <td>5</td>\n",
       "      <td>2009-05-01</td>\n",
       "      <td>0</td>\n",
       "      <td>1</td>\n",
       "      <td>0</td>\n",
       "      <td>0</td>\n",
       "    </tr>\n",
       "  </tbody>\n",
       "</table>\n",
       "</div>"
      ],
      "text/plain": [
       "   unrate  Year  Month        date Latin  no_award  Latin_No  Latin_Yes\n",
       "0     8.5  2009      1  2009-01-01     0         1         0          0\n",
       "1     8.9  2009      2  2009-02-01     0         1         0          0\n",
       "2     9.0  2009      3  2009-03-01     0         1         0          0\n",
       "3     8.6  2009      4  2009-04-01     0         1         0          0\n",
       "4     9.1  2009      5  2009-05-01     0         1         0          0"
      ]
     },
     "execution_count": 76,
     "metadata": {},
     "output_type": "execute_result"
    }
   ],
   "source": [
    "style_dummies= pd.get_dummies(unemployaward_df, columns = ['Latin'])\n",
    "frames = [unemployaward_df, style_dummies]\n",
    "unemployaward_df= pd.concat(frames, axis=1)\n",
    "unemployaward_df= unemployaward_df.rename(columns= {'Latin_0':'no_award'})\n",
    "unemployaward_df = unemployaward_df.loc[:,~unemployaward_df.columns.duplicated()].copy()\n",
    "unemployaward_df = unemployaward_df.drop(columns= ['Unnamed: 0'])\n",
    "unemployaward_df.head()"
   ]
  },
  {
   "cell_type": "markdown",
   "id": "2a5abed1",
   "metadata": {},
   "source": [
    "The above cell was created to use dummy variables to determine whether or not there were awards in a given year. This was to transform categorical variables into binary variables and make it easier to run a regression."
   ]
  },
  {
   "cell_type": "code",
   "execution_count": 77,
   "id": "3d40b060",
   "metadata": {},
   "outputs": [
    {
     "name": "stdout",
     "output_type": "stream",
     "text": [
      "The slope and the intercept of the logistic regression is respectively:\n",
      "[[0.02696205]] [-1.28312515]\n"
     ]
    }
   ],
   "source": [
    "unemployaward_df[['unrate','Latin_Yes']]\n",
    "y= unemployaward_df['Latin_Yes']\n",
    "x= unemployaward_df['unrate'].values.reshape(-1,1)\n",
    "pitbullaward_logreg = LogisticRegression()\n",
    "pitbullaward_logreg.fit(x, y)\n",
    "unemployaward_df['predict_unrate'] = pitbullaward_logreg.predict_proba(x)[:,0]\n",
    "print('The slope and the intercept of the logistic regression is respectively:')\n",
    "print (pitbullaward_logreg.coef_, pitbullaward_logreg.intercept_)\n"
   ]
  },
  {
   "cell_type": "code",
   "execution_count": 78,
   "id": "fe8580ae",
   "metadata": {},
   "outputs": [
    {
     "data": {
      "text/plain": [
       "<AxesSubplot:xlabel='unrate', ylabel='Latin_Yes'>"
      ]
     },
     "execution_count": 78,
     "metadata": {},
     "output_type": "execute_result"
    },
    {
     "data": {
      "image/png": "[encoded data removed]",
      "text/plain": [
       "<Figure size 640x480 with 1 Axes>"
      ]
     },
     "metadata": {},
     "output_type": "display_data"
    }
   ],
   "source": [
    "seaborn.scatterplot (data= unemployaward_df, x = unemployaward_df['unrate'], y = unemployaward_df['Latin_Yes'], hue= unemployaward_df['predict_unrate'])"
   ]
  },
  {
   "cell_type": "markdown",
   "id": "d52d9e72",
   "metadata": {},
   "source": [
    "The above logistical regression reveals that for every Latin award, the unemployment rate decreases by -1.28312515. Nevertheless, this is countered by the many more no awards, which increases the numbers a lot more. Additionally, all of the \"yes awards\" are clustered tightly around certain unemployment rates, because they were all released at the same time. What I was thinking about the relevancy of Pitbull's success with the Latin awards was that historically he's more popular with a Latin fanbase and they were also more impacted by the Great Recession-- with an increase of 2.9% overall for their unemployment, as opposed to merely 2.0% for the rest of the population. While this may have to do more with scale, we were trying to see that if he won more Latin awards, it might be an indicator of lowered unemployment and more listening.\n",
    "\n",
    "Nevertheless, while there is a spread in the predicted unemployment rate, I think it would not be erroneous to chalk that up to changing employment tides from 2009 to 2018. As a prolific musical artist with a long career, I think we definetely can say that he won a lot of awards during a tumultuous time, something that this regression indicates. "
   ]
  },
  {
   "cell_type": "code",
   "execution_count": 79,
   "id": "32162843",
   "metadata": {},
   "outputs": [
    {
     "name": "stdout",
     "output_type": "stream",
     "text": [
      "Latin award total count:\n",
      "36\n",
      "US award total count:\n",
      "11\n",
      "Average unemployment rate between 2009-2018:\n",
      "7.166433566433566\n",
      "Std unemployment rate between 2009-2018:\n",
      "1.819918898361088\n"
     ]
    }
   ],
   "source": [
    "print('Latin award total count:')\n",
    "print (unemployaward_df.loc[unemployaward_df.Latin == 'Yes', 'Latin'].count())\n",
    "print('US award total count:')\n",
    "print (unemployaward_df.loc[unemployaward_df.Latin == 'No', 'Latin'].count())\n",
    "print('Average unemployment rate between 2009-2018:')\n",
    "print (unemployaward_df['unrate'].mean())\n",
    "print('Std unemployment rate between 2009-2018:')\n",
    "print (unemployaward_df['unrate'].std())"
   ]
  },
  {
   "cell_type": "markdown",
   "id": "18e3d1de",
   "metadata": {},
   "source": [
    "The above cell will be utilized when we're doing the cdf on the Latin Award counts-- in particular, to determine both the mean and standard deviation. We will use the mean and standard deviation to determine the probabilities of an award in a given year and their counts. The latter two lines of code (the avg unemployment rate and the standard deviation of unemployment) will be used to plot a cdf distribution, to find if the unemployment rate during a year's awards season is statisically significant and to evaluate the mulititude of probabilities are included under his success and what it means for the economy. We will be performing a cdf on these values. "
   ]
  },
  {
   "cell_type": "code",
   "execution_count": 80,
   "id": "182dbdd8",
   "metadata": {},
   "outputs": [],
   "source": [
    "pitbull_latin_year_df = unemployaward_df.groupby([\"Year\"]).Latin_Yes.sum().reset_index()\n",
    "pitbull_us_year_df = unemployaward_df.groupby([\"Year\"]).Latin_No.sum().reset_index()"
   ]
  },
  {
   "cell_type": "code",
   "execution_count": 81,
   "id": "f35f13f1",
   "metadata": {},
   "outputs": [
    {
     "name": "stdout",
     "output_type": "stream",
     "text": [
      "   Year  Latin_Yes  latin_award_zscore\n",
      "0  2009          1           -0.749308\n",
      "1  2010          2           -0.461112\n",
      "2  2011          7            0.979864\n",
      "3  2012         10            1.844449\n",
      "4  2013          9            1.556254\n",
      "5  2014          1           -0.749308\n",
      "6  2015          0           -1.037503\n",
      "7  2016          3           -0.172917\n",
      "8  2017          2           -0.461112\n",
      "9  2018          1           -0.749308\n",
      "   Year  Latin_No  us_award_zscore\n",
      "0  2009         0        -0.697097\n",
      "1  2010         0        -0.697097\n",
      "2  2011         2         0.570352\n",
      "3  2012         5         2.471525\n",
      "4  2013         2         0.570352\n",
      "5  2014         2         0.570352\n",
      "6  2015         0        -0.697097\n",
      "7  2016         0        -0.697097\n",
      "8  2017         0        -0.697097\n",
      "9  2018         0        -0.697097\n"
     ]
    }
   ],
   "source": [
    "pitbull_latin_year_df['latin_award_zscore'] = stats.zscore(pitbull_latin_year_df['Latin_Yes'])\n",
    "pitbull_us_year_df['us_award_zscore'] = stats.zscore(pitbull_us_year_df['Latin_No'])\n",
    "print (pitbull_latin_year_df)\n",
    "print (pitbull_us_year_df)"
   ]
  },
  {
   "cell_type": "markdown",
   "id": "152258b0",
   "metadata": {},
   "source": [
    "We calculated the z scores to determine the probability in the following steps. This is because we can input the z-scores into a cdf to get probabilities of Pitbull recieving an award in a given year"
   ]
  },
  {
   "cell_type": "code",
   "execution_count": 82,
   "id": "adfa5973",
   "metadata": {},
   "outputs": [
    {
     "name": "stdout",
     "output_type": "stream",
     "text": [
      "5.1001089312985375\n",
      "0.7659574468085106\n"
     ]
    }
   ],
   "source": [
    "year_frames= [pitbull_latin_year_df, pitbull_us_year_df]\n",
    "both_years_df= pd.concat(year_frames, axis=1)\n",
    "both_years_df['Award']= both_years_df['Latin_Yes']+both_years_df['Latin_No']\n",
    "std= both_years_df['Award'].std()\n",
    "mean= (36/47)\n",
    "print (std)\n",
    "print(mean)\n"
   ]
  },
  {
   "cell_type": "code",
   "execution_count": 83,
   "id": "56acd9d7",
   "metadata": {},
   "outputs": [
    {
     "name": "stdout",
     "output_type": "stream",
     "text": [
      "[38.319 40.493 51.673 58.374 56.157 38.319 36.181 42.697 40.493 38.319]\n"
     ]
    }
   ],
   "source": [
    "probabilites= norm.cdf(pitbull_latin_year_df['latin_award_zscore'], loc= 0.7659574468085106, scale= 5.1001089312985375)\n",
    "print (str(probabilites.round(5) * 100))"
   ]
  },
  {
   "cell_type": "markdown",
   "id": "6ff13420",
   "metadata": {},
   "source": [
    "The above code reveals that we got these probabilities from a cdf that he would recieve the number of awards he did in these years, inputting the standard deviation as our scale and the mean as our loc. We can use these probabilites to compare with the unemployment rate probability around the same time, and see if there's overlap in the probabilities."
   ]
  },
  {
   "cell_type": "code",
   "execution_count": 84,
   "id": "55cbf5d1",
   "metadata": {},
   "outputs": [
    {
     "name": "stdout",
     "output_type": "stream",
     "text": [
      "     unrate  Year  Month        date Latin  no_award  Latin_No  Latin_Yes  \\\n",
      "8       9.5  2009      9  2009-09-01   Yes         0         0          1   \n",
      "20      9.2  2010      9  2010-09-01   Yes         0         0          1   \n",
      "34      8.8  2011      9  2011-09-01   Yes         0         0          1   \n",
      "56      7.6  2012      9  2012-09-01   Yes         0         0          1   \n",
      "78      7.0  2013      9  2013-09-01   Yes         0         0          1   \n",
      "99      5.7  2014      9  2014-09-01   Yes         0         0          1   \n",
      "111     4.9  2015      9  2015-09-01     0         1         0          0   \n",
      "123     4.8  2016      9  2016-09-01   Yes         0         0          1   \n",
      "137     4.1  2017      9  2017-09-01   Yes         0         0          1   \n",
      "142     3.6  2018      9  2018-09-01   Yes         0         0          1   \n",
      "\n",
      "     predict_unrate  \n",
      "8          0.736331  \n",
      "20         0.737898  \n",
      "34         0.739979  \n",
      "56         0.746156  \n",
      "78         0.749208  \n",
      "99         0.755736  \n",
      "111        0.759696  \n",
      "123        0.760187  \n",
      "137        0.763611  \n",
      "142        0.766036  \n"
     ]
    }
   ],
   "source": [
    "avg2009= unemployaward_df[unemployaward_df.date == '2009-09-01']\n",
    "avg2010= unemployaward_df[unemployaward_df.date == '2010-09-01']\n",
    "avg2011= unemployaward_df[unemployaward_df.date == '2011-09-01']\n",
    "avg2012= unemployaward_df[unemployaward_df.date == '2012-09-01']\n",
    "avg2013= unemployaward_df[unemployaward_df.date == '2013-09-01']\n",
    "avg2014= unemployaward_df[unemployaward_df.date == '2014-09-01']\n",
    "avg2015= unemployaward_df[unemployaward_df.date == '2015-09-01']\n",
    "avg2016= unemployaward_df[unemployaward_df.date == '2016-09-01']\n",
    "avg2017= unemployaward_df[unemployaward_df.date == '2017-09-01']\n",
    "avg2018= unemployaward_df[unemployaward_df.date == '2018-09-01']\n",
    "frames = [avg2009, avg2010, avg2011, avg2012, avg2013, avg2014, avg2015, avg2016, avg2017, avg2018]\n",
    "result = pd.concat(frames)\n",
    "result = result.drop_duplicates()\n",
    "pd.to_datetime(result['date'])\n",
    "print (result)"
   ]
  },
  {
   "cell_type": "markdown",
   "id": "19dfcf66",
   "metadata": {},
   "source": [
    "We got the unemployment rate from the months that he got his awards, and will use them when plotting the axvlines. "
   ]
  },
  {
   "cell_type": "code",
   "execution_count": 120,
   "id": "0ae5c4ea",
   "metadata": {},
   "outputs": [
    {
     "data": {
      "image/png": "[encoded data removed]",
      "text/plain": [
       "<Figure size 640x480 with 2 Axes>"
      ]
     },
     "metadata": {},
     "output_type": "display_data"
    }
   ],
   "source": [
    "awardsimplecomp_df= simplecomp_df.loc[simplecomp_df['date'].between('2009-01-01', '2018-12-01')]\n",
    "y = np.asarray(awardsimplecomp_df['date'], dtype='datetime64[s]')\n",
    "fig = plt.figure()\n",
    "ax=fig.add_subplot(111, label=\"1\")\n",
    "ax.scatter(y,'unrate', data=awardsimplecomp_df)\n",
    "plt.xticks(rotation=60)\n",
    "plt.xlabel ('Date')\n",
    "plt.ylabel (\"Unemployment Rate\")\n",
    "\n",
    "x_values=[2009,2010,2011,2012,2013, 2014, 2015, 2016, 2017, 2018]\n",
    "y_values_awards=[1, 2, 7, 10, 9, 1, 0, 3, 2, 1]\n",
    "\n",
    "ax2= fig.add_subplot(111, label=\"2\", frame_on=False)\n",
    "ax2.scatter(x_values, y_values_awards, color=\"C1\")\n",
    "ax2.xaxis.tick_top()\n",
    "ax2.yaxis.tick_right()\n",
    "ax2.set_ylabel('Number of Awards', color=\"C1\")       \n",
    "ax2.xaxis.set_label_position('top') \n",
    "ax2.yaxis.set_label_position('right') \n",
    "ax2.tick_params(axis='x', colors=\"C1\")\n",
    "ax2.tick_params(axis='y', colors=\"C1\")\n",
    "\n",
    "intervalvalue2009= (2009)\n",
    "intervalvalue2010= (2010)\n",
    "intervalvalue2011= (2011)\n",
    "intervalvalue2012= (2012)\n",
    "intervalvalue2013= (2013)\n",
    "intervalvalue2014= (2014)\n",
    "intervalvalue2015= (2015)\n",
    "intervalvalue2016= (2016)\n",
    "intervalvalue2017= (2017)\n",
    "intervalvalue2018= (2018)\n",
    "line1= plt.axvline(intervalvalue2009, color='C1', linestyle=':')\n",
    "line2= plt.axvline(intervalvalue2010, color='C1', linestyle=':')\n",
    "line3= plt.axvline(intervalvalue2011, color='C1', linestyle=':')\n",
    "line4= plt.axvline(intervalvalue2012, color='C1', linestyle=':')\n",
    "line5= plt.axvline(intervalvalue2013, color='C1', linestyle=':')\n",
    "line6= plt.axvline(intervalvalue2014, color='C1', linestyle=':')\n",
    "line7= plt.axvline(intervalvalue2015, color='C1', linestyle=':')\n",
    "line8= plt.axvline(intervalvalue2016, color='C1', linestyle=':')\n",
    "line9= plt.axvline(intervalvalue2017, color='C1', linestyle=':')\n",
    "line10= plt.axvline(intervalvalue2018, color='C1', linestyle=':')\n"
   ]
  },
  {
   "cell_type": "markdown",
   "id": "38a28912",
   "metadata": {},
   "source": [
    "I thought the above plot would be a useful visualizer in seeing why we thought it would be interesting to measure him as an artist. With his rise to fame and peak as a solo artist during what can arguably be considered the height of a modern American depression, and a teetering off during economic recovery, it seemed interesting to evaluate how this came to be. It seems apropos that people would like to listen to his fun music during time of economic strife, especially within communities that were hit particularly hard. Hailing from Florida, Pitbull's homestate was hit particularly hard by housing crisis of 2008. With foreclosures ballooning, and housing prices stabilizing along with cheap debt in the late 2010s, it was interesting to see how much economic recovery seemed to correspond with a drop in awards."
   ]
  },
  {
   "cell_type": "code",
   "execution_count": 86,
   "id": "dbbd4da9",
   "metadata": {},
   "outputs": [
    {
     "name": "stdout",
     "output_type": "stream",
     "text": [
      "90.012% is the probability for 2009\n"
     ]
    }
   ],
   "source": [
    "result_2009= norm.cdf(9.5, 7.166433566433566, 1.819918898361088)\n",
    "answer= result_2009*100\n",
    "print (str(answer.round(3))+ \"% is the probability for 2009\")"
   ]
  },
  {
   "cell_type": "code",
   "execution_count": 87,
   "id": "9f26210f",
   "metadata": {},
   "outputs": [
    {
     "name": "stdout",
     "output_type": "stream",
     "text": [
      "86.809% is the probability for 2010\n"
     ]
    }
   ],
   "source": [
    "result_2010= norm.cdf(9.2, 7.166433566433566, 1.819918898361088)\n",
    "answer= result_2010*100\n",
    "print (str(answer.round(3))+ \"% is the probability for 2010\")"
   ]
  },
  {
   "cell_type": "code",
   "execution_count": 88,
   "id": "148d8288",
   "metadata": {},
   "outputs": [
    {
     "name": "stdout",
     "output_type": "stream",
     "text": [
      "81.53% is the probability for 2011\n"
     ]
    }
   ],
   "source": [
    "result_2011= norm.cdf(8.8, 7.166433566433566, 1.819918898361088)\n",
    "answer= result_2011*100\n",
    "print (str(answer.round(3))+ \"% is the probability for 2011\")"
   ]
  },
  {
   "cell_type": "code",
   "execution_count": 89,
   "id": "03c6aa7a",
   "metadata": {},
   "outputs": [
    {
     "name": "stdout",
     "output_type": "stream",
     "text": [
      "59.415% is the probability for 2012\n"
     ]
    }
   ],
   "source": [
    "result_2012= norm.cdf(7.6, 7.166433566433566, 1.819918898361088)\n",
    "answer= result_2012*100\n",
    "print (str(answer.round(3))+ \"% is the probability for 2012\")"
   ]
  },
  {
   "cell_type": "code",
   "execution_count": 90,
   "id": "064fa2a1",
   "metadata": {},
   "outputs": [
    {
     "name": "stdout",
     "output_type": "stream",
     "text": [
      "46.357% is the probability for 2013\n"
     ]
    }
   ],
   "source": [
    "result_2013= norm.cdf(7.0, 7.166433566433566, 1.819918898361088)\n",
    "answer= result_2013*100\n",
    "print (str(answer.round(3))+ \"% is the probability for 2013\")"
   ]
  },
  {
   "cell_type": "code",
   "execution_count": 91,
   "id": "edecd404",
   "metadata": {},
   "outputs": [
    {
     "name": "stdout",
     "output_type": "stream",
     "text": [
      "21.019% is the probability for 2014\n"
     ]
    }
   ],
   "source": [
    "result_2014= norm.cdf(5.7, 7.166433566433566, 1.819918898361088)\n",
    "answer= result_2014*100\n",
    "print (str(answer.round(3))+ \"% is the probability for 2014\")"
   ]
  },
  {
   "cell_type": "code",
   "execution_count": 92,
   "id": "957a7ff2",
   "metadata": {},
   "outputs": [
    {
     "name": "stdout",
     "output_type": "stream",
     "text": [
      "10.65% is the probability for 2015\n"
     ]
    }
   ],
   "source": [
    "result_2015= norm.cdf(4.9, 7.166433566433566, 1.819918898361088)\n",
    "answer= result_2015*100\n",
    "print (str(answer.round(3))+ \"% is the probability for 2015\")"
   ]
  },
  {
   "cell_type": "code",
   "execution_count": 93,
   "id": "a41ad665",
   "metadata": {},
   "outputs": [
    {
     "name": "stdout",
     "output_type": "stream",
     "text": [
      "9.675% is the probability for 2016\n"
     ]
    }
   ],
   "source": [
    "result_2016= norm.cdf(4.8, 7.166433566433566, 1.819918898361088)\n",
    "answer= result_2016*100\n",
    "print (str(answer.round(3))+ \"% is the probability for 2016\")"
   ]
  },
  {
   "cell_type": "code",
   "execution_count": 94,
   "id": "04355be7",
   "metadata": {},
   "outputs": [
    {
     "name": "stdout",
     "output_type": "stream",
     "text": [
      "4.6% is the probability for 2017\n"
     ]
    }
   ],
   "source": [
    "result_2017= norm.cdf(4.1, 7.166433566433566, 1.819918898361088)\n",
    "answer= result_2017*100\n",
    "print (str(answer.round(3))+ \"% is the probability for 2017\")"
   ]
  },
  {
   "cell_type": "code",
   "execution_count": 95,
   "id": "44e5bf2e",
   "metadata": {},
   "outputs": [
    {
     "name": "stdout",
     "output_type": "stream",
     "text": [
      "2.502% is the probability for 2018\n"
     ]
    }
   ],
   "source": [
    "result_2018= norm.cdf(3.6, 7.166433566433566, 1.819918898361088)\n",
    "answer= result_2018*100\n",
    "print (str(answer.round(3))+ \"% is the probability for 2018\")"
   ]
  },
  {
   "cell_type": "markdown",
   "id": "6e4cab9e",
   "metadata": {},
   "source": [
    "**Probabilities of Pitbull winning his number of Latin awards in a given year**\n",
    "\n",
    "- 38.319% is the probability for 2009\n",
    "- 40.493% is the probability for 2010\n",
    "- 51.673% is the probability for 2011\n",
    "- 58.374% is the probability for 2012\n",
    "- 56.157% is the probability for 2013\n",
    "- 38.319% is the probability for 2014 \n",
    "- 36.182% is the probability for 2015 \n",
    "- 42.697% is the probability for 2016\n",
    "- 40.493% is the probability for 2017\n",
    "- 38.319% is the probability for 2018\n",
    "\n",
    "**Probabilities of the unemployment rate during Pitbull winning Latin awards in a given year**\n",
    "\n",
    "- 90.012% is the probability for 2009\n",
    "- 86.809% is the probability for 2010\n",
    "- 81.53% is the probability for 2011\n",
    "- 59.415% is the probability for 2012\n",
    "- 46.357% is the probability for 2013\n",
    "- 21.019% is the probability for 2014\n",
    "- 10.65% is the probability for 2015\n",
    "- 9.675% is the probability for 2016\n",
    "- 4.6% is the probability for 2017\n",
    "- 2.502% is the probability for 2018"
   ]
  },
  {
   "cell_type": "code",
   "execution_count": 96,
   "id": "e04651f9",
   "metadata": {},
   "outputs": [
    {
     "data": {
      "image/png": "[encoded data removed]",
      "text/plain": [
       "<Figure size 640x480 with 2 Axes>"
      ]
     },
     "metadata": {},
     "output_type": "display_data"
    }
   ],
   "source": [
    "fig = plt.figure()\n",
    "ax=fig.add_subplot(111, label=\"1\")\n",
    "step=0.05\n",
    "indices = np.arange(0,1+step,step)\n",
    "latin_awards_recieved= pitbull_latin_year_df[\"Latin_Yes\"]\n",
    "CDF = pd.DataFrame({'dummy':latin_awards_recieved})['dummy'].quantile(indices)\n",
    "ax.plot(CDF,linewidth=3, label='awards', color='pink')\n",
    "plt.xlabel ('Probability of Latin Award Per Year')\n",
    "plt.ylabel (\"Maximum Number of Awards Won in Given Year\")\n",
    "\n",
    "ax2= fig.add_subplot(111, label=\"2\", frame_on=False)\n",
    "x_values=[2009,2010,2011,2012,2013, 2014, 2015, 2016, 2017, 2018]\n",
    "y_values_awards=[38.319, 40.493, 51.673, 58.374, 56.157, 38.319, 36.181, 42.697, 40.493, 38.319]\n",
    "ax2.scatter(x_values, y_values_awards, color=\"red\")\n",
    "ax2.xaxis.tick_top()\n",
    "ax2.yaxis.tick_right()\n",
    "ax2.set_ylabel('Computed CDFs', color=\"red\")       \n",
    "ax2.xaxis.set_label_position('top') \n",
    "ax2.yaxis.set_label_position('right') \n",
    "ax2.tick_params(axis='x', colors=\"red\")\n",
    "ax2.tick_params(axis='y', colors=\"red\")"
   ]
  },
  {
   "cell_type": "markdown",
   "id": "a34ccf9d",
   "metadata": {},
   "source": [
    "This graph is inidicative of very skewed model with a lot of outliers. With such a drastic divot in the center, this cdf plot lets us know how much more data we needed to make a significant discovery. The lacksadasical tilt of this curve indicates high variabiltiy and and wide ranges of values-- something we most definetely recognized in our data sets. Moreover, our calculated cdfs did not align with this curve, which was interesting. "
   ]
  },
  {
   "cell_type": "code",
   "execution_count": 97,
   "id": "aa87ae45",
   "metadata": {},
   "outputs": [
    {
     "data": {
      "image/png": "[encoded data removed]",
      "text/plain": [
       "<Figure size 640x480 with 2 Axes>"
      ]
     },
     "metadata": {},
     "output_type": "display_data"
    }
   ],
   "source": [
    "fig = plt.figure()\n",
    "step=0.05\n",
    "indices = np.arange(0,1+step,step)\n",
    "unrate= awardsimplecomp_df[\"unrate\"]\n",
    "CDF = pd.DataFrame({'dummy': unrate})['dummy'].quantile(indices)\n",
    "plt.plot(CDF,linewidth=3, label='awards', color='blue')\n",
    "plt.xlabel ('The Improbable Decline Into Unemployment')\n",
    "plt.ylabel (\"Maximum Unemployment\")\n",
    "\n",
    "ax3= fig.add_subplot(111, label=\"3\", frame_on=False)\n",
    "x_values=[2009,2010,2011,2012,2013, 2014, 2015, 2016, 2017, 2018]\n",
    "y_values=[90.012, 86.809, 81.53, 59.415, 46.357, 21.019, 10.65, 9.675, 4.6, 2.502]\n",
    "ax3.scatter(x_values, y_values, color=\"g\")\n",
    "ax3.xaxis.tick_top()\n",
    "ax3.yaxis.tick_right()\n",
    "ax3.set_ylabel('Computed CDFs', color=\"g\")       \n",
    "ax3.xaxis.set_label_position('top') \n",
    "ax3.yaxis.set_label_position('right') \n",
    "ax3.tick_params(axis='x', colors=\"g\")\n",
    "ax3.tick_params(axis='y', colors=\"g\")"
   ]
  },
  {
   "cell_type": "markdown",
   "id": "bbc3e5b5",
   "metadata": {},
   "source": [
    "Ultimately, these cdfs are incredibly valuable, not only in their ability to (not) tell us about Pitbull, but also about how to evaluate data. With such skewed, unreliable, and misscaled data, it was imperative that we found a distribution that was continuous and normalizing-- allowing us to account for real values and real probabilities. Ultimately, though, much of the work computed was not the most useful-- in a predictive sense or in a statistical sense. Moreover, it was interesting to see the unemployment cdf as incredibly steep, especially considering how it's a stepwise function. It's also cool to see how it's very much an inverse of the ppf, and how to compare the tradjectory of American unemployment with Pitbull's career success."
   ]
  },
  {
   "cell_type": "code",
   "execution_count": 98,
   "id": "6f5838ed",
   "metadata": {},
   "outputs": [
    {
     "data": {
      "text/html": [
       "<div>\n",
       "<style scoped>\n",
       "    .dataframe tbody tr th:only-of-type {\n",
       "        vertical-align: middle;\n",
       "    }\n",
       "\n",
       "    .dataframe tbody tr th {\n",
       "        vertical-align: top;\n",
       "    }\n",
       "\n",
       "    .dataframe thead th {\n",
       "        text-align: right;\n",
       "    }\n",
       "</style>\n",
       "<table border=\"1\" class=\"dataframe\">\n",
       "  <thead>\n",
       "    <tr style=\"text-align: right;\">\n",
       "      <th></th>\n",
       "      <th>unrate</th>\n",
       "      <th>Year</th>\n",
       "      <th>Month</th>\n",
       "      <th>no_award</th>\n",
       "      <th>Latin_No</th>\n",
       "      <th>Latin_Yes</th>\n",
       "      <th>predict_unrate</th>\n",
       "    </tr>\n",
       "  </thead>\n",
       "  <tbody>\n",
       "    <tr>\n",
       "      <th>unrate</th>\n",
       "      <td>1.000000</td>\n",
       "      <td>-0.958823</td>\n",
       "      <td>-0.132585</td>\n",
       "      <td>-0.059742</td>\n",
       "      <td>0.070461</td>\n",
       "      <td>0.021397</td>\n",
       "      <td>-0.999941</td>\n",
       "    </tr>\n",
       "    <tr>\n",
       "      <th>Year</th>\n",
       "      <td>-0.958823</td>\n",
       "      <td>1.000000</td>\n",
       "      <td>-0.008362</td>\n",
       "      <td>0.082863</td>\n",
       "      <td>-0.064573</td>\n",
       "      <td>-0.050036</td>\n",
       "      <td>0.958346</td>\n",
       "    </tr>\n",
       "    <tr>\n",
       "      <th>Month</th>\n",
       "      <td>-0.132585</td>\n",
       "      <td>-0.008362</td>\n",
       "      <td>1.000000</td>\n",
       "      <td>-0.251939</td>\n",
       "      <td>-0.173524</td>\n",
       "      <td>0.379207</td>\n",
       "      <td>0.132889</td>\n",
       "    </tr>\n",
       "    <tr>\n",
       "      <th>no_award</th>\n",
       "      <td>-0.059742</td>\n",
       "      <td>0.082863</td>\n",
       "      <td>-0.251939</td>\n",
       "      <td>1.000000</td>\n",
       "      <td>-0.412568</td>\n",
       "      <td>-0.828984</td>\n",
       "      <td>0.056606</td>\n",
       "    </tr>\n",
       "    <tr>\n",
       "      <th>Latin_No</th>\n",
       "      <td>0.070461</td>\n",
       "      <td>-0.064573</td>\n",
       "      <td>-0.173524</td>\n",
       "      <td>-0.412568</td>\n",
       "      <td>1.000000</td>\n",
       "      <td>-0.167444</td>\n",
       "      <td>-0.068075</td>\n",
       "    </tr>\n",
       "    <tr>\n",
       "      <th>Latin_Yes</th>\n",
       "      <td>0.021397</td>\n",
       "      <td>-0.050036</td>\n",
       "      <td>0.379207</td>\n",
       "      <td>-0.828984</td>\n",
       "      <td>-0.167444</td>\n",
       "      <td>1.000000</td>\n",
       "      <td>-0.019468</td>\n",
       "    </tr>\n",
       "    <tr>\n",
       "      <th>predict_unrate</th>\n",
       "      <td>-0.999941</td>\n",
       "      <td>0.958346</td>\n",
       "      <td>0.132889</td>\n",
       "      <td>0.056606</td>\n",
       "      <td>-0.068075</td>\n",
       "      <td>-0.019468</td>\n",
       "      <td>1.000000</td>\n",
       "    </tr>\n",
       "  </tbody>\n",
       "</table>\n",
       "</div>"
      ],
      "text/plain": [
       "                  unrate      Year     Month  no_award  Latin_No  Latin_Yes  \\\n",
       "unrate          1.000000 -0.958823 -0.132585 -0.059742  0.070461   0.021397   \n",
       "Year           -0.958823  1.000000 -0.008362  0.082863 -0.064573  -0.050036   \n",
       "Month          -0.132585 -0.008362  1.000000 -0.251939 -0.173524   0.379207   \n",
       "no_award       -0.059742  0.082863 -0.251939  1.000000 -0.412568  -0.828984   \n",
       "Latin_No        0.070461 -0.064573 -0.173524 -0.412568  1.000000  -0.167444   \n",
       "Latin_Yes       0.021397 -0.050036  0.379207 -0.828984 -0.167444   1.000000   \n",
       "predict_unrate -0.999941  0.958346  0.132889  0.056606 -0.068075  -0.019468   \n",
       "\n",
       "                predict_unrate  \n",
       "unrate               -0.999941  \n",
       "Year                  0.958346  \n",
       "Month                 0.132889  \n",
       "no_award              0.056606  \n",
       "Latin_No             -0.068075  \n",
       "Latin_Yes            -0.019468  \n",
       "predict_unrate        1.000000  "
      ]
     },
     "execution_count": 98,
     "metadata": {},
     "output_type": "execute_result"
    }
   ],
   "source": [
    "corr_matrix = unemployaward_df.corr()\n",
    "corr_matrix"
   ]
  },
  {
   "cell_type": "markdown",
   "id": "7b84ad43",
   "metadata": {},
   "source": [
    "The correlation matrix does not prove our hypothesis, because we're looking for correlation between the Latin Yes and unemployment rate. A -0.354744 value is not indicative of any real correlation. Also, our predicted model does not prove adaquete correlation for the actual Latin Yes, so it's quite bad."
   ]
  },
  {
   "cell_type": "markdown",
   "id": "31f47520",
   "metadata": {},
   "source": [
    "#### Hypothesis #2\n",
    "\n",
    "Given a host of variables in our unemployment data-- age range of those unemployed, their gender, and the cumulative unemployment rate-- we can predict whether or not Pitbull would make it onto the Billboard Charts.\n",
    " - Intially, we said we would do a train-test split logistical regression to see if we can train the data set on unemployment-- given a host of variables-- to see if we can predict Pitbull's chart success, as well as understand the relationship and effect different variables have on Pitbull chart success\n",
    " - Per feedback, we will utilize K-Folds instead"
   ]
  },
  {
   "cell_type": "code",
   "execution_count": 99,
   "id": "bdcfe0fa",
   "metadata": {},
   "outputs": [],
   "source": [
    "simplecomp_df = pd.read_csv('simplecomp_df.csv')\n",
    "simplecomp_df= simplecomp_df.loc[simplecomp_df['date'].between('2004-01-01', '2014-06-01')]"
   ]
  },
  {
   "cell_type": "code",
   "execution_count": 119,
   "id": "f24da1da",
   "metadata": {},
   "outputs": [
    {
     "name": "stdout",
     "output_type": "stream",
     "text": [
      "F1 scores:\n",
      "[0.78362573 0.96517413]\n",
      "F1 mean scores:\n",
      "0.8743999301736929\n",
      "F1 scores standard deviation:\n",
      "0.09077419917954077\n"
     ]
    }
   ],
   "source": [
    "estimator= LogisticRegression()\n",
    "list_of_variables= ['unrate', 'unrate_20_to_24', 'unrate_men', 'unrate_55_over']\n",
    "kf = KFold(n_splits= 2, shuffle= False)\n",
    "x= simplecomp_df[list_of_variables]\n",
    "y= simplecomp_df['appearance']\n",
    "my_scorer = 'f1'\n",
    "result = cross_val_score(estimator, x, y, cv= kf, scoring= my_scorer)\n",
    "print ('F1 scores:')\n",
    "print (result)\n",
    "print ('F1 mean scores:')\n",
    "print (np.mean(result))\n",
    "print ('F1 scores standard deviation:')\n",
    "print (np.std(result))"
   ]
  },
  {
   "cell_type": "code",
   "execution_count": 117,
   "id": "7d366e12",
   "metadata": {},
   "outputs": [
    {
     "name": "stdout",
     "output_type": "stream",
     "text": [
      "F1 scores:\n",
      "[0.78362573 0.96517413]\n",
      "F1 mean scores:\n",
      "0.8743999301736929\n",
      "F1 scores standard deviation:\n",
      "0.09077419917954077\n"
     ]
    }
   ],
   "source": [
    "estimator= LogisticRegression()\n",
    "list_of_variables= ['unrate_20_to_24', 'unrate']\n",
    "kf = KFold(n_splits= 2, shuffle= False)\n",
    "x= simplecomp_df[list_of_variables]\n",
    "y= simplecomp_df['appearance']\n",
    "my_scorer = 'f1'\n",
    "new_result = cross_val_score(estimator, x, y, cv= kf, scoring= my_scorer)\n",
    "print ('F1 scores:')\n",
    "print (new_result)\n",
    "print ('F1 mean scores:')\n",
    "print (np.mean(new_result))\n",
    "print ('F1 scores standard deviation:')\n",
    "print (np.std(new_result))"
   ]
  },
  {
   "cell_type": "markdown",
   "id": "faa04627",
   "metadata": {},
   "source": [
    "When sampling with replacement, these K-folds proved to be quite useful in measuring the accuracy of our logistic regression model, especially considering our small sample size. We wanted to avoid multicollinearity, and so the first piece of code includes more variables and the latter has fewer. We wanted to take sex, the total unemployment rate, and different age groups into account when measuring our model for the first K-fold. For the latter, we dropped sex from consideration so that we could form something more conclusive of the population as a whole. From this, our F1 score improved marginally from the second time around, with a lower standard deviation. \n",
    "\n",
    "We did this because we were thinking about how certain groups and their unemployment rates could impact whether or not they listen to Pitvull. With a listener demographic that skews younger, we wanted to see from the first K-fold to the second K-fold whether the F1 score would change. With the second K-fold including only cumulative unemployment rates and the unemployment rates of those between the ages of 20 and 24, we wanted to see if their employment status could be an indicator of listening to Pitbull and his chart success.\n",
    "\n",
    "Nevertheless, we luckily expanded our data set greatly just a few short days ago and reran the model, finding spectacularly (and without multicollinearity) that it is incredibly precise. With the inclusion of much more Billboard data, we discovered that while Pitbull couldn't predict unemployment, unemployment could predict Pitbull's success. Our old hypothesis regarding inclusions of a younger demographic proved wrong, as dropping additional variables for collinearity's sake did nothing. Moreover, we were able to predict with fairly good precision and recall on our first time around with our K-folds and even better the second time."
   ]
  },
  {
   "cell_type": "markdown",
   "id": "d77dd37b",
   "metadata": {},
   "source": [
    "#### Hypothesis #3\n",
    "We want to know the magnitude of the effect, if any, that the unemployment rate on a given month, both total average per month and by different categories, has on Pitbull popularity as measured by search trends. We do this by testing the hypothesis that the coefficients on the different unemployment measures are zero, having no effect on search term popularity. \n",
    "* We run a linear regression since the dependent variable, interest index, is discrete, ranging from 7 to 100"
   ]
  },
  {
   "cell_type": "code",
   "execution_count": 102,
   "id": "bfc7877b",
   "metadata": {},
   "outputs": [],
   "source": [
    "ucomplex_df=pd.read_csv('ucomplex_df.csv')\n",
    "gtrends_df=pd.read_csv('gtrends_df.csv')"
   ]
  },
  {
   "cell_type": "code",
   "execution_count": 103,
   "id": "09fde6c7",
   "metadata": {
    "scrolled": true
   },
   "outputs": [
    {
     "data": {
      "text/html": [
       "<div>\n",
       "<style scoped>\n",
       "    .dataframe tbody tr th:only-of-type {\n",
       "        vertical-align: middle;\n",
       "    }\n",
       "\n",
       "    .dataframe tbody tr th {\n",
       "        vertical-align: top;\n",
       "    }\n",
       "\n",
       "    .dataframe thead th {\n",
       "        text-align: right;\n",
       "    }\n",
       "</style>\n",
       "<table border=\"1\" class=\"dataframe\">\n",
       "  <thead>\n",
       "    <tr style=\"text-align: right;\">\n",
       "      <th></th>\n",
       "      <th>Unnamed: 0</th>\n",
       "      <th>date</th>\n",
       "      <th>unrate</th>\n",
       "      <th>u_men</th>\n",
       "      <th>u_women</th>\n",
       "      <th>u16_17</th>\n",
       "      <th>u18_19</th>\n",
       "      <th>u20_24</th>\n",
       "      <th>u25_34</th>\n",
       "      <th>u35_44</th>\n",
       "      <th>u45_54</th>\n",
       "    </tr>\n",
       "  </thead>\n",
       "  <tbody>\n",
       "    <tr>\n",
       "      <th>0</th>\n",
       "      <td>0</td>\n",
       "      <td>1948-01-01</td>\n",
       "      <td>4.0</td>\n",
       "      <td>4.2</td>\n",
       "      <td>3.5</td>\n",
       "      <td>10.8</td>\n",
       "      <td>9.6</td>\n",
       "      <td>6.6</td>\n",
       "      <td>3.6</td>\n",
       "      <td>2.6</td>\n",
       "      <td>2.7</td>\n",
       "    </tr>\n",
       "    <tr>\n",
       "      <th>1</th>\n",
       "      <td>1</td>\n",
       "      <td>1948-02-01</td>\n",
       "      <td>4.7</td>\n",
       "      <td>4.7</td>\n",
       "      <td>4.8</td>\n",
       "      <td>15.0</td>\n",
       "      <td>9.5</td>\n",
       "      <td>8.0</td>\n",
       "      <td>4.0</td>\n",
       "      <td>3.2</td>\n",
       "      <td>3.4</td>\n",
       "    </tr>\n",
       "    <tr>\n",
       "      <th>2</th>\n",
       "      <td>2</td>\n",
       "      <td>1948-03-01</td>\n",
       "      <td>4.5</td>\n",
       "      <td>4.5</td>\n",
       "      <td>4.4</td>\n",
       "      <td>13.2</td>\n",
       "      <td>9.3</td>\n",
       "      <td>8.6</td>\n",
       "      <td>3.5</td>\n",
       "      <td>3.2</td>\n",
       "      <td>2.9</td>\n",
       "    </tr>\n",
       "    <tr>\n",
       "      <th>3</th>\n",
       "      <td>3</td>\n",
       "      <td>1948-04-01</td>\n",
       "      <td>4.0</td>\n",
       "      <td>4.0</td>\n",
       "      <td>4.1</td>\n",
       "      <td>9.9</td>\n",
       "      <td>8.1</td>\n",
       "      <td>6.8</td>\n",
       "      <td>3.5</td>\n",
       "      <td>3.1</td>\n",
       "      <td>2.9</td>\n",
       "    </tr>\n",
       "    <tr>\n",
       "      <th>4</th>\n",
       "      <td>4</td>\n",
       "      <td>1948-05-01</td>\n",
       "      <td>3.4</td>\n",
       "      <td>3.3</td>\n",
       "      <td>3.4</td>\n",
       "      <td>6.4</td>\n",
       "      <td>7.2</td>\n",
       "      <td>6.3</td>\n",
       "      <td>2.8</td>\n",
       "      <td>2.5</td>\n",
       "      <td>2.3</td>\n",
       "    </tr>\n",
       "  </tbody>\n",
       "</table>\n",
       "</div>"
      ],
      "text/plain": [
       "   Unnamed: 0        date  unrate  u_men  u_women  u16_17  u18_19  u20_24  \\\n",
       "0           0  1948-01-01     4.0    4.2      3.5    10.8     9.6     6.6   \n",
       "1           1  1948-02-01     4.7    4.7      4.8    15.0     9.5     8.0   \n",
       "2           2  1948-03-01     4.5    4.5      4.4    13.2     9.3     8.6   \n",
       "3           3  1948-04-01     4.0    4.0      4.1     9.9     8.1     6.8   \n",
       "4           4  1948-05-01     3.4    3.3      3.4     6.4     7.2     6.3   \n",
       "\n",
       "   u25_34  u35_44  u45_54  \n",
       "0     3.6     2.6     2.7  \n",
       "1     4.0     3.2     3.4  \n",
       "2     3.5     3.2     2.9  \n",
       "3     3.5     3.1     2.9  \n",
       "4     2.8     2.5     2.3  "
      ]
     },
     "execution_count": 103,
     "metadata": {},
     "output_type": "execute_result"
    }
   ],
   "source": [
    "ucomplex_df.head(5)"
   ]
  },
  {
   "cell_type": "code",
   "execution_count": 104,
   "id": "9a1c8cb2",
   "metadata": {},
   "outputs": [
    {
     "data": {
      "text/html": [
       "<div>\n",
       "<style scoped>\n",
       "    .dataframe tbody tr th:only-of-type {\n",
       "        vertical-align: middle;\n",
       "    }\n",
       "\n",
       "    .dataframe tbody tr th {\n",
       "        vertical-align: top;\n",
       "    }\n",
       "\n",
       "    .dataframe thead th {\n",
       "        text-align: right;\n",
       "    }\n",
       "</style>\n",
       "<table border=\"1\" class=\"dataframe\">\n",
       "  <thead>\n",
       "    <tr style=\"text-align: right;\">\n",
       "      <th></th>\n",
       "      <th>Unnamed: 0</th>\n",
       "      <th>Interest Index</th>\n",
       "      <th>Date</th>\n",
       "      <th>Month</th>\n",
       "      <th>Year</th>\n",
       "    </tr>\n",
       "  </thead>\n",
       "  <tbody>\n",
       "    <tr>\n",
       "      <th>0</th>\n",
       "      <td>1</td>\n",
       "      <td>7</td>\n",
       "      <td>2004-01-01</td>\n",
       "      <td>1</td>\n",
       "      <td>2004</td>\n",
       "    </tr>\n",
       "    <tr>\n",
       "      <th>1</th>\n",
       "      <td>2</td>\n",
       "      <td>9</td>\n",
       "      <td>2004-02-01</td>\n",
       "      <td>2</td>\n",
       "      <td>2004</td>\n",
       "    </tr>\n",
       "    <tr>\n",
       "      <th>2</th>\n",
       "      <td>3</td>\n",
       "      <td>10</td>\n",
       "      <td>2004-03-01</td>\n",
       "      <td>3</td>\n",
       "      <td>2004</td>\n",
       "    </tr>\n",
       "    <tr>\n",
       "      <th>3</th>\n",
       "      <td>4</td>\n",
       "      <td>13</td>\n",
       "      <td>2004-04-01</td>\n",
       "      <td>4</td>\n",
       "      <td>2004</td>\n",
       "    </tr>\n",
       "    <tr>\n",
       "      <th>4</th>\n",
       "      <td>5</td>\n",
       "      <td>20</td>\n",
       "      <td>2004-05-01</td>\n",
       "      <td>5</td>\n",
       "      <td>2004</td>\n",
       "    </tr>\n",
       "  </tbody>\n",
       "</table>\n",
       "</div>"
      ],
      "text/plain": [
       "   Unnamed: 0  Interest Index        Date  Month  Year\n",
       "0           1               7  2004-01-01      1  2004\n",
       "1           2               9  2004-02-01      2  2004\n",
       "2           3              10  2004-03-01      3  2004\n",
       "3           4              13  2004-04-01      4  2004\n",
       "4           5              20  2004-05-01      5  2004"
      ]
     },
     "execution_count": 104,
     "metadata": {},
     "output_type": "execute_result"
    }
   ],
   "source": [
    "gtrends_df.head(5)"
   ]
  },
  {
   "cell_type": "code",
   "execution_count": 105,
   "id": "eeca8986",
   "metadata": {},
   "outputs": [
    {
     "name": "stdout",
     "output_type": "stream",
     "text": [
      "Returning data to local variable uandg_df\n"
     ]
    },
    {
     "data": {
      "text/html": [
       "<div>\n",
       "<style scoped>\n",
       "    .dataframe tbody tr th:only-of-type {\n",
       "        vertical-align: middle;\n",
       "    }\n",
       "\n",
       "    .dataframe tbody tr th {\n",
       "        vertical-align: top;\n",
       "    }\n",
       "\n",
       "    .dataframe thead th {\n",
       "        text-align: right;\n",
       "    }\n",
       "</style>\n",
       "<table border=\"1\" class=\"dataframe\">\n",
       "  <thead>\n",
       "    <tr style=\"text-align: right;\">\n",
       "      <th></th>\n",
       "      <th>Unnamed: 0</th>\n",
       "      <th>date</th>\n",
       "      <th>unrate</th>\n",
       "      <th>u_men</th>\n",
       "      <th>u_women</th>\n",
       "      <th>u16_17</th>\n",
       "      <th>u18_19</th>\n",
       "      <th>u20_24</th>\n",
       "      <th>u25_34</th>\n",
       "      <th>u35_44</th>\n",
       "      <th>u45_54</th>\n",
       "      <th>Unnamed: 0</th>\n",
       "      <th>Interest Index</th>\n",
       "      <th>Date</th>\n",
       "      <th>Month</th>\n",
       "      <th>Year</th>\n",
       "    </tr>\n",
       "  </thead>\n",
       "  <tbody>\n",
       "    <tr>\n",
       "      <th>0</th>\n",
       "      <td>672</td>\n",
       "      <td>2004-01-01</td>\n",
       "      <td>6.3</td>\n",
       "      <td>6.7</td>\n",
       "      <td>5.8</td>\n",
       "      <td>18.4</td>\n",
       "      <td>16.9</td>\n",
       "      <td>10.7</td>\n",
       "      <td>6.6</td>\n",
       "      <td>5.0</td>\n",
       "      <td>4.5</td>\n",
       "      <td>1</td>\n",
       "      <td>7</td>\n",
       "      <td>2004-01-01</td>\n",
       "      <td>1</td>\n",
       "      <td>2004</td>\n",
       "    </tr>\n",
       "    <tr>\n",
       "      <th>1</th>\n",
       "      <td>673</td>\n",
       "      <td>2004-02-01</td>\n",
       "      <td>6.0</td>\n",
       "      <td>6.4</td>\n",
       "      <td>5.5</td>\n",
       "      <td>17.9</td>\n",
       "      <td>16.6</td>\n",
       "      <td>10.1</td>\n",
       "      <td>6.2</td>\n",
       "      <td>4.9</td>\n",
       "      <td>4.3</td>\n",
       "      <td>2</td>\n",
       "      <td>9</td>\n",
       "      <td>2004-02-01</td>\n",
       "      <td>2</td>\n",
       "      <td>2004</td>\n",
       "    </tr>\n",
       "    <tr>\n",
       "      <th>2</th>\n",
       "      <td>674</td>\n",
       "      <td>2004-03-01</td>\n",
       "      <td>6.0</td>\n",
       "      <td>6.4</td>\n",
       "      <td>5.6</td>\n",
       "      <td>20.4</td>\n",
       "      <td>14.7</td>\n",
       "      <td>10.1</td>\n",
       "      <td>6.2</td>\n",
       "      <td>5.2</td>\n",
       "      <td>4.3</td>\n",
       "      <td>3</td>\n",
       "      <td>10</td>\n",
       "      <td>2004-03-01</td>\n",
       "      <td>3</td>\n",
       "      <td>2004</td>\n",
       "    </tr>\n",
       "    <tr>\n",
       "      <th>3</th>\n",
       "      <td>675</td>\n",
       "      <td>2004-04-01</td>\n",
       "      <td>5.4</td>\n",
       "      <td>5.6</td>\n",
       "      <td>5.1</td>\n",
       "      <td>21.1</td>\n",
       "      <td>13.3</td>\n",
       "      <td>8.7</td>\n",
       "      <td>5.4</td>\n",
       "      <td>4.3</td>\n",
       "      <td>4.0</td>\n",
       "      <td>4</td>\n",
       "      <td>13</td>\n",
       "      <td>2004-04-01</td>\n",
       "      <td>4</td>\n",
       "      <td>2004</td>\n",
       "    </tr>\n",
       "    <tr>\n",
       "      <th>4</th>\n",
       "      <td>676</td>\n",
       "      <td>2004-05-01</td>\n",
       "      <td>5.3</td>\n",
       "      <td>5.5</td>\n",
       "      <td>5.1</td>\n",
       "      <td>22.7</td>\n",
       "      <td>14.2</td>\n",
       "      <td>9.9</td>\n",
       "      <td>5.2</td>\n",
       "      <td>3.9</td>\n",
       "      <td>3.6</td>\n",
       "      <td>5</td>\n",
       "      <td>20</td>\n",
       "      <td>2004-05-01</td>\n",
       "      <td>5</td>\n",
       "      <td>2004</td>\n",
       "    </tr>\n",
       "  </tbody>\n",
       "</table>\n",
       "</div>"
      ],
      "text/plain": [
       "   Unnamed: 0        date  unrate  u_men  u_women  u16_17  u18_19  u20_24  \\\n",
       "0         672  2004-01-01     6.3    6.7      5.8    18.4    16.9    10.7   \n",
       "1         673  2004-02-01     6.0    6.4      5.5    17.9    16.6    10.1   \n",
       "2         674  2004-03-01     6.0    6.4      5.6    20.4    14.7    10.1   \n",
       "3         675  2004-04-01     5.4    5.6      5.1    21.1    13.3     8.7   \n",
       "4         676  2004-05-01     5.3    5.5      5.1    22.7    14.2     9.9   \n",
       "\n",
       "   u25_34  u35_44  u45_54  Unnamed: 0  Interest Index        Date  Month  Year  \n",
       "0     6.6     5.0     4.5           1               7  2004-01-01      1  2004  \n",
       "1     6.2     4.9     4.3           2               9  2004-02-01      2  2004  \n",
       "2     6.2     5.2     4.3           3              10  2004-03-01      3  2004  \n",
       "3     5.4     4.3     4.0           4              13  2004-04-01      4  2004  \n",
       "4     5.2     3.9     3.6           5              20  2004-05-01      5  2004  "
      ]
     },
     "execution_count": 105,
     "metadata": {},
     "output_type": "execute_result"
    }
   ],
   "source": [
    "%sql uandg_df << SELECT * FROM ucomplex_df INNER JOIN gtrends_df ON ucomplex_df.date=gtrends_df.Date\n",
    "uandg_df.head(5)"
   ]
  },
  {
   "cell_type": "code",
   "execution_count": 106,
   "id": "304b7400",
   "metadata": {},
   "outputs": [],
   "source": [
    "uandg_df.drop('Date',axis=1,inplace=True)"
   ]
  },
  {
   "cell_type": "code",
   "execution_count": 107,
   "id": "7c762e11",
   "metadata": {},
   "outputs": [],
   "source": [
    "uandg_df.drop('Unnamed: 0',axis=1,inplace=True)"
   ]
  },
  {
   "cell_type": "code",
   "execution_count": 108,
   "id": "499267dc",
   "metadata": {},
   "outputs": [
    {
     "data": {
      "text/html": [
       "<div>\n",
       "<style scoped>\n",
       "    .dataframe tbody tr th:only-of-type {\n",
       "        vertical-align: middle;\n",
       "    }\n",
       "\n",
       "    .dataframe tbody tr th {\n",
       "        vertical-align: top;\n",
       "    }\n",
       "\n",
       "    .dataframe thead th {\n",
       "        text-align: right;\n",
       "    }\n",
       "</style>\n",
       "<table border=\"1\" class=\"dataframe\">\n",
       "  <thead>\n",
       "    <tr style=\"text-align: right;\">\n",
       "      <th></th>\n",
       "      <th>date</th>\n",
       "      <th>unrate</th>\n",
       "      <th>u_men</th>\n",
       "      <th>u_women</th>\n",
       "      <th>u16_17</th>\n",
       "      <th>u18_19</th>\n",
       "      <th>u20_24</th>\n",
       "      <th>u25_34</th>\n",
       "      <th>u35_44</th>\n",
       "      <th>u45_54</th>\n",
       "      <th>Interest Index</th>\n",
       "      <th>Month</th>\n",
       "      <th>Year</th>\n",
       "    </tr>\n",
       "  </thead>\n",
       "  <tbody>\n",
       "    <tr>\n",
       "      <th>0</th>\n",
       "      <td>2004-01-01</td>\n",
       "      <td>6.3</td>\n",
       "      <td>6.7</td>\n",
       "      <td>5.8</td>\n",
       "      <td>18.4</td>\n",
       "      <td>16.9</td>\n",
       "      <td>10.7</td>\n",
       "      <td>6.6</td>\n",
       "      <td>5.0</td>\n",
       "      <td>4.5</td>\n",
       "      <td>7</td>\n",
       "      <td>1</td>\n",
       "      <td>2004</td>\n",
       "    </tr>\n",
       "    <tr>\n",
       "      <th>1</th>\n",
       "      <td>2004-02-01</td>\n",
       "      <td>6.0</td>\n",
       "      <td>6.4</td>\n",
       "      <td>5.5</td>\n",
       "      <td>17.9</td>\n",
       "      <td>16.6</td>\n",
       "      <td>10.1</td>\n",
       "      <td>6.2</td>\n",
       "      <td>4.9</td>\n",
       "      <td>4.3</td>\n",
       "      <td>9</td>\n",
       "      <td>2</td>\n",
       "      <td>2004</td>\n",
       "    </tr>\n",
       "    <tr>\n",
       "      <th>2</th>\n",
       "      <td>2004-03-01</td>\n",
       "      <td>6.0</td>\n",
       "      <td>6.4</td>\n",
       "      <td>5.6</td>\n",
       "      <td>20.4</td>\n",
       "      <td>14.7</td>\n",
       "      <td>10.1</td>\n",
       "      <td>6.2</td>\n",
       "      <td>5.2</td>\n",
       "      <td>4.3</td>\n",
       "      <td>10</td>\n",
       "      <td>3</td>\n",
       "      <td>2004</td>\n",
       "    </tr>\n",
       "    <tr>\n",
       "      <th>3</th>\n",
       "      <td>2004-04-01</td>\n",
       "      <td>5.4</td>\n",
       "      <td>5.6</td>\n",
       "      <td>5.1</td>\n",
       "      <td>21.1</td>\n",
       "      <td>13.3</td>\n",
       "      <td>8.7</td>\n",
       "      <td>5.4</td>\n",
       "      <td>4.3</td>\n",
       "      <td>4.0</td>\n",
       "      <td>13</td>\n",
       "      <td>4</td>\n",
       "      <td>2004</td>\n",
       "    </tr>\n",
       "    <tr>\n",
       "      <th>4</th>\n",
       "      <td>2004-05-01</td>\n",
       "      <td>5.3</td>\n",
       "      <td>5.5</td>\n",
       "      <td>5.1</td>\n",
       "      <td>22.7</td>\n",
       "      <td>14.2</td>\n",
       "      <td>9.9</td>\n",
       "      <td>5.2</td>\n",
       "      <td>3.9</td>\n",
       "      <td>3.6</td>\n",
       "      <td>20</td>\n",
       "      <td>5</td>\n",
       "      <td>2004</td>\n",
       "    </tr>\n",
       "  </tbody>\n",
       "</table>\n",
       "</div>"
      ],
      "text/plain": [
       "         date  unrate  u_men  u_women  u16_17  u18_19  u20_24  u25_34  u35_44  \\\n",
       "0  2004-01-01     6.3    6.7      5.8    18.4    16.9    10.7     6.6     5.0   \n",
       "1  2004-02-01     6.0    6.4      5.5    17.9    16.6    10.1     6.2     4.9   \n",
       "2  2004-03-01     6.0    6.4      5.6    20.4    14.7    10.1     6.2     5.2   \n",
       "3  2004-04-01     5.4    5.6      5.1    21.1    13.3     8.7     5.4     4.3   \n",
       "4  2004-05-01     5.3    5.5      5.1    22.7    14.2     9.9     5.2     3.9   \n",
       "\n",
       "   u45_54  Interest Index  Month  Year  \n",
       "0     4.5               7      1  2004  \n",
       "1     4.3               9      2  2004  \n",
       "2     4.3              10      3  2004  \n",
       "3     4.0              13      4  2004  \n",
       "4     3.6              20      5  2004  "
      ]
     },
     "execution_count": 108,
     "metadata": {},
     "output_type": "execute_result"
    }
   ],
   "source": [
    "uandg_df.head(5)"
   ]
  },
  {
   "cell_type": "code",
   "execution_count": 109,
   "id": "c9919738",
   "metadata": {},
   "outputs": [],
   "source": [
    "intcol=uandg_df.pop('Interest Index')\n",
    "mcol=uandg_df.pop('Month')\n",
    "ycol=uandg_df.pop('Year')\n",
    "uandg_df.insert(0, 'Year', ycol)"
   ]
  },
  {
   "cell_type": "code",
   "execution_count": 110,
   "id": "7aa4f485",
   "metadata": {},
   "outputs": [],
   "source": [
    "uandg_df.insert(1, 'Month', mcol)\n",
    "uandg_df.insert(2, 'Interest Index', intcol)"
   ]
  },
  {
   "cell_type": "code",
   "execution_count": 111,
   "id": "ab812c5f",
   "metadata": {},
   "outputs": [
    {
     "data": {
      "text/html": [
       "<div>\n",
       "<style scoped>\n",
       "    .dataframe tbody tr th:only-of-type {\n",
       "        vertical-align: middle;\n",
       "    }\n",
       "\n",
       "    .dataframe tbody tr th {\n",
       "        vertical-align: top;\n",
       "    }\n",
       "\n",
       "    .dataframe thead th {\n",
       "        text-align: right;\n",
       "    }\n",
       "</style>\n",
       "<table border=\"1\" class=\"dataframe\">\n",
       "  <thead>\n",
       "    <tr style=\"text-align: right;\">\n",
       "      <th></th>\n",
       "      <th>Year</th>\n",
       "      <th>Month</th>\n",
       "      <th>Interest Index</th>\n",
       "      <th>date</th>\n",
       "      <th>unrate</th>\n",
       "      <th>u_men</th>\n",
       "      <th>u_women</th>\n",
       "      <th>u16_17</th>\n",
       "      <th>u18_19</th>\n",
       "      <th>u20_24</th>\n",
       "      <th>u25_34</th>\n",
       "      <th>u35_44</th>\n",
       "      <th>u45_54</th>\n",
       "    </tr>\n",
       "  </thead>\n",
       "  <tbody>\n",
       "    <tr>\n",
       "      <th>0</th>\n",
       "      <td>2004</td>\n",
       "      <td>1</td>\n",
       "      <td>7</td>\n",
       "      <td>2004-01-01</td>\n",
       "      <td>6.3</td>\n",
       "      <td>6.7</td>\n",
       "      <td>5.8</td>\n",
       "      <td>18.4</td>\n",
       "      <td>16.9</td>\n",
       "      <td>10.7</td>\n",
       "      <td>6.6</td>\n",
       "      <td>5.0</td>\n",
       "      <td>4.5</td>\n",
       "    </tr>\n",
       "    <tr>\n",
       "      <th>1</th>\n",
       "      <td>2004</td>\n",
       "      <td>2</td>\n",
       "      <td>9</td>\n",
       "      <td>2004-02-01</td>\n",
       "      <td>6.0</td>\n",
       "      <td>6.4</td>\n",
       "      <td>5.5</td>\n",
       "      <td>17.9</td>\n",
       "      <td>16.6</td>\n",
       "      <td>10.1</td>\n",
       "      <td>6.2</td>\n",
       "      <td>4.9</td>\n",
       "      <td>4.3</td>\n",
       "    </tr>\n",
       "    <tr>\n",
       "      <th>2</th>\n",
       "      <td>2004</td>\n",
       "      <td>3</td>\n",
       "      <td>10</td>\n",
       "      <td>2004-03-01</td>\n",
       "      <td>6.0</td>\n",
       "      <td>6.4</td>\n",
       "      <td>5.6</td>\n",
       "      <td>20.4</td>\n",
       "      <td>14.7</td>\n",
       "      <td>10.1</td>\n",
       "      <td>6.2</td>\n",
       "      <td>5.2</td>\n",
       "      <td>4.3</td>\n",
       "    </tr>\n",
       "    <tr>\n",
       "      <th>3</th>\n",
       "      <td>2004</td>\n",
       "      <td>4</td>\n",
       "      <td>13</td>\n",
       "      <td>2004-04-01</td>\n",
       "      <td>5.4</td>\n",
       "      <td>5.6</td>\n",
       "      <td>5.1</td>\n",
       "      <td>21.1</td>\n",
       "      <td>13.3</td>\n",
       "      <td>8.7</td>\n",
       "      <td>5.4</td>\n",
       "      <td>4.3</td>\n",
       "      <td>4.0</td>\n",
       "    </tr>\n",
       "    <tr>\n",
       "      <th>4</th>\n",
       "      <td>2004</td>\n",
       "      <td>5</td>\n",
       "      <td>20</td>\n",
       "      <td>2004-05-01</td>\n",
       "      <td>5.3</td>\n",
       "      <td>5.5</td>\n",
       "      <td>5.1</td>\n",
       "      <td>22.7</td>\n",
       "      <td>14.2</td>\n",
       "      <td>9.9</td>\n",
       "      <td>5.2</td>\n",
       "      <td>3.9</td>\n",
       "      <td>3.6</td>\n",
       "    </tr>\n",
       "  </tbody>\n",
       "</table>\n",
       "</div>"
      ],
      "text/plain": [
       "   Year  Month  Interest Index        date  unrate  u_men  u_women  u16_17  \\\n",
       "0  2004      1               7  2004-01-01     6.3    6.7      5.8    18.4   \n",
       "1  2004      2               9  2004-02-01     6.0    6.4      5.5    17.9   \n",
       "2  2004      3              10  2004-03-01     6.0    6.4      5.6    20.4   \n",
       "3  2004      4              13  2004-04-01     5.4    5.6      5.1    21.1   \n",
       "4  2004      5              20  2004-05-01     5.3    5.5      5.1    22.7   \n",
       "\n",
       "   u18_19  u20_24  u25_34  u35_44  u45_54  \n",
       "0    16.9    10.7     6.6     5.0     4.5  \n",
       "1    16.6    10.1     6.2     4.9     4.3  \n",
       "2    14.7    10.1     6.2     5.2     4.3  \n",
       "3    13.3     8.7     5.4     4.3     4.0  \n",
       "4    14.2     9.9     5.2     3.9     3.6  "
      ]
     },
     "execution_count": 111,
     "metadata": {},
     "output_type": "execute_result"
    }
   ],
   "source": [
    "uandg_df.head(5)"
   ]
  },
  {
   "cell_type": "code",
   "execution_count": 112,
   "id": "d4bbb06f",
   "metadata": {},
   "outputs": [],
   "source": [
    "from sklearn.metrics import mean_squared_error\n",
    "def run_regression(lst,train,test,name):\n",
    "    model=LinearRegression().fit(train[lst], train[name])\n",
    "    \n",
    "    trainpre=model.predict(train[lst])\n",
    "    testpre=model.predict(test[lst])\n",
    "\n",
    "    trainrmse=np.sqrt(mean_squared_error(trainpre,train[name]))\n",
    "    testrmse=np.sqrt(mean_squared_error(testpre,test[name]))\n",
    "    \n",
    "    trainmae=np.mean(np.abs(train[name]-trainpre))\n",
    "    testmae=np.mean(np.abs(test[name]-testpre))\n",
    "    \n",
    "    print(\"input: \",lst)\n",
    "    print(\"coefficient: \",model.coef_)\n",
    "    print(\"intercept:\", model.intercept_)\n",
    "    print(\"train RMSE: \",trainrmse)\n",
    "    print(\"test RMSE: \",testrmse)\n",
    "    print(\"train MAE: \",trainmae)\n",
    "    print(\"test MAE: \",testmae)\n",
    "    return model"
   ]
  },
  {
   "cell_type": "code",
   "execution_count": 113,
   "id": "c6b71e36",
   "metadata": {},
   "outputs": [
    {
     "name": "stdout",
     "output_type": "stream",
     "text": [
      "input:  ['unrate', 'u_men', 'u_women', 'u16_17', 'u18_19', 'u20_24', 'u25_34', 'u35_44', 'u45_54']\n",
      "coefficient:  [-10.46060731 -40.46392029 -22.34230201   3.11399681   3.20899678\n",
      "   3.22504809  22.56872939  21.75780188  21.15433849]\n",
      "intercept: -9.903228781391483\n",
      "train RMSE:  13.207094572511128\n",
      "test RMSE:  10.2497693524732\n",
      "train MAE:  9.698975351538737\n",
      "test MAE:  8.162806013000408\n"
     ]
    }
   ],
   "source": [
    "ug_train, ug_test = train_test_split(uandg_df, test_size=.1)\n",
    "cats=['unrate','u_men','u_women','u16_17','u18_19','u20_24','u25_34','u35_44','u45_54']\n",
    "ugr=run_regression(cats,ug_train,ug_test,'Interest Index')"
   ]
  },
  {
   "cell_type": "markdown",
   "id": "ff9486bb",
   "metadata": {},
   "source": [
    "The train RMSE and MAE are both slightly higher than their test counterparts, which suggests that we shouldn't be too concerned with overfitting, as the model performs marginally better on the test data. Futhermore, we perform another OLS regression with the statsmodel package in order to get the full regression summary table. As mentioned in the acknowledgements, the website: https://www.statology.org/statsmodels-linear-regression-p-value/ helped us with the code below."
   ]
  },
  {
   "cell_type": "code",
   "execution_count": 114,
   "id": "c9cd8400",
   "metadata": {},
   "outputs": [
    {
     "ename": "ModuleNotFoundError",
     "evalue": "No module named 'statsmodels'",
     "output_type": "error",
     "traceback": [
      "\u001b[1;31m---------------------------------------------------------------------------\u001b[0m",
      "\u001b[1;31mModuleNotFoundError\u001b[0m                       Traceback (most recent call last)",
      "\u001b[1;32mc:\\Users\\yasmi\\Downloads\\info2950\\datasci-finalproj-1\\archive\\.ipynb_checkpoints\\phaseiv.ipynb Cell 85\u001b[0m in \u001b[0;36m<cell line: 1>\u001b[1;34m()\u001b[0m\n\u001b[1;32m----> <a href='vscode-notebook-cell:/c%3A/Users/yasmi/Downloads/info2950/datasci-finalproj-1/archive/.ipynb_checkpoints/phaseiv.ipynb#Y112sZmlsZQ%3D%3D?line=0'>1</a>\u001b[0m \u001b[39mimport\u001b[39;00m \u001b[39mstatsmodels\u001b[39;00m\u001b[39m.\u001b[39;00m\u001b[39mapi\u001b[39;00m \u001b[39mas\u001b[39;00m \u001b[39msm\u001b[39;00m\n",
      "\u001b[1;31mModuleNotFoundError\u001b[0m: No module named 'statsmodels'"
     ]
    }
   ],
   "source": [
    "import statsmodels.api as sm"
   ]
  },
  {
   "cell_type": "code",
   "execution_count": null,
   "id": "4642995c",
   "metadata": {},
   "outputs": [
    {
     "name": "stdout",
     "output_type": "stream",
     "text": [
      "                            OLS Regression Results                            \n",
      "==============================================================================\n",
      "Dep. Variable:         Interest Index   R-squared:                       0.545\n",
      "Model:                            OLS   Adj. R-squared:                  0.523\n",
      "Method:                 Least Squares   F-statistic:                     24.38\n",
      "Date:                Tue, 22 Nov 2022   Prob (F-statistic):           4.07e-27\n",
      "Time:                        18:10:38   Log-Likelihood:                -772.86\n",
      "No. Observations:                 193   AIC:                             1566.\n",
      "Df Residuals:                     183   BIC:                             1598.\n",
      "Df Model:                           9                                         \n",
      "Covariance Type:            nonrobust                                         \n",
      "==============================================================================\n",
      "                 coef    std err          t      P>|t|      [0.025      0.975]\n",
      "------------------------------------------------------------------------------\n",
      "const         -9.9049      4.450     -2.226      0.027     -18.685      -1.125\n",
      "unrate        -3.4988     27.653     -0.127      0.899     -58.059      51.061\n",
      "u_men        -43.9371     15.639     -2.809      0.006     -74.794     -13.080\n",
      "u_women      -26.3327     13.022     -2.022      0.045     -52.025      -0.641\n",
      "u16_17         3.0376      0.420      7.237      0.000       2.209       3.866\n",
      "u18_19         3.4269      0.627      5.462      0.000       2.189       4.665\n",
      "u20_24         2.9757      2.090      1.424      0.156      -1.148       7.100\n",
      "u25_34        22.7419      4.829      4.709      0.000      13.214      32.270\n",
      "u35_44        21.5049      5.667      3.795      0.000      10.324      32.686\n",
      "u45_54        21.9396      4.858      4.516      0.000      12.354      31.525\n",
      "==============================================================================\n",
      "Omnibus:                       25.600   Durbin-Watson:                   1.864\n",
      "Prob(Omnibus):                  0.000   Jarque-Bera (JB):               36.957\n",
      "Skew:                           0.776   Prob(JB):                     9.44e-09\n",
      "Kurtosis:                       4.479   Cond. No.                     1.12e+03\n",
      "==============================================================================\n",
      "\n",
      "Notes:\n",
      "[1] Standard Errors assume that the covariance matrix of the errors is correctly specified.\n",
      "[2] The condition number is large, 1.12e+03. This might indicate that there are\n",
      "strong multicollinearity or other numerical problems.\n"
     ]
    }
   ],
   "source": [
    "yp = ug_train['Interest Index']\n",
    "xp = ug_train[cats]\n",
    "\n",
    "xp = sm.add_constant(xp)\n",
    "\n",
    "pmodel = sm.OLS(yp, xp).fit()\n",
    "\n",
    "print(pmodel.summary())"
   ]
  },
  {
   "cell_type": "markdown",
   "id": "d386c138",
   "metadata": {},
   "source": [
    "From the above results, we see that the coefficients on u16_17, u18_19, u25_34, u35_44, and u45_54 are all significant at the 5% significance level, with reported p-values of 0.000. The interpretations for these coefficients are as follows:\n",
    "\n",
    "u16_17: all else equal, a 1-unit increase in percentage point in the unemployment rate for those aged 16 and 17 corresponds to a 3.0376 unit increase in the interest index for 'Pitbull'. \n",
    "\n",
    "u18_19: all else equal, a 1-unit increase in percentage point in the unemployment rate for those aged 18 and 19 corresponds to a 3.4269 unit increase in the interest index for 'Pitbull'.\n",
    "\n",
    "u25_34: all else equal, a 1-unit increase in percentage point in the unemployment rate for those aged 25 through 34 corresponds to a 22.7419 unit increase in the interest index for 'Pitbull'.\n",
    "\n",
    "u35_44: all else equal, a 1-unit increase in percentage point in the unemployment rate for those aged 35 through 44 corresponds to a 21.5049 unit increase in the interest index for 'Pitbull'.\n",
    "\n",
    "u45_54: all else equal, a 1-unit increase in percentage point in the unemployment rate for those aged 45 through 54 corresponds to a 21.9396 unit increase in the interest index for 'Pitbull'."
   ]
  },
  {
   "cell_type": "markdown",
   "id": "9014ed6b",
   "metadata": {},
   "source": []
  }
 ],
 "metadata": {
  "kernelspec": {
   "display_name": "Python 3.9.13 ('info2950')",
   "language": "python",
   "name": "python3"
  },
  "language_info": {
   "codemirror_mode": {
    "name": "ipython",
    "version": 3
   },
   "file_extension": ".py",
   "mimetype": "text/x-python",
   "name": "python",
   "nbconvert_exporter": "python",
   "pygments_lexer": "ipython3",
   "version": "3.9.13 (main, Aug 25 2022, 23:51:50) [MSC v.1916 64 bit (AMD64)]"
  },
  "vscode": {
   "interpreter": {
    "hash": "8daba514033a87bf47d8f23dd57148c3350d20787ea38b0ee3e79ed68a01cd3b"
   }
  }
 },
 "nbformat": 4,
 "nbformat_minor": 5
}
