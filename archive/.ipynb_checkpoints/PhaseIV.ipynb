{
 "cells": [
  {
   "cell_type": "code",
   "execution_count": 3,
   "id": "5d8c2e44",
   "metadata": {},
   "outputs": [],
   "source": [
    "import requests\n",
    "from bs4 import BeautifulSoup\n",
    "\n",
    "import pandas as pd\n",
    "import numpy as np\n",
    "import time\n",
    "\n",
    "import seaborn\n",
    "from matplotlib import pyplot as plt\n",
    "\n",
    "from sklearn.linear_model import LogisticRegression\n",
    "from sklearn.linear_model import LinearRegression\n",
    "from sklearn import preprocessing\n",
    "from sklearn import utils\n",
    "import scipy.stats as stats\n",
    "from scipy.stats import binom, poisson, norm\n",
    "from sklearn.metrics import log_loss\n",
    "from sklearn.model_selection import train_test_split, KFold, cross_val_score\n",
    "import matplotlib.dates as mdates\n",
    "from sklearn import metrics"
   ]
  },
  {
   "cell_type": "code",
   "execution_count": 4,
   "id": "3c0814a9",
   "metadata": {},
   "outputs": [],
   "source": [
    "%load_ext sql\n",
    "\n",
    "%config SqlMagic.autopandas = True\n",
    "%config SqlMagic.feedback = False\n",
    "%config SqlMagic.displaycon = False\n",
    "\n",
    "%sql duckdb:///:memory:"
   ]
  },
  {
   "cell_type": "markdown",
   "id": "524f95a6",
   "metadata": {},
   "source": [
    "## Phase IV"
   ]
  },
  {
   "cell_type": "markdown",
   "id": "ffbc4dab",
   "metadata": {},
   "source": [
    "### *Introduction*"
   ]
  },
  {
   "cell_type": "markdown",
   "id": "4210cbc2",
   "metadata": {},
   "source": [
    "**Research question: What is the relationship between the popularity of Pitbull and unemployment rate in the United States? Could we use Pitbull popularity as a predictive model and thus a recession index?**\n",
    "\n",
    "Pitbull, a Cuban-American artist, has been a colorful character in American music history, with a peak in the late aughts and early 2010s-- overlapping with the Great Recession. Here, we wanted to examine if we could utilize this interesting overlap to evaluate seemingly unrelated datasets to create some interesting findings. Through tracking his popularity through readily available Billboard Hot 100 data and US economic health through federal unemployment data, as well as supplementing these datasets with Wikipedia award data and Google Trends data, we aimed to see if there were statiscally significant findings relating to his success in the US and abroad and create a sort of Pitbull recession index.\n",
    "\n",
    "We look at Latin awards separately as well since Pitbull is a Cuban-American artist, whose music appeals greatly to the Latin American population, particularly because a lot of his music is in Spanish. Therefore, we think that Latin awards could capture Pitbull's popularity better than American awards, given that a lot of his songs and albums qualify for Latin awards but not necessarily American awards. Moreover, various sources, including Quora and Wikipedia, claim that the Hot 100 chart is measured differently accross time in order to keep up with consumer trends, but mainly consists of factors such as sales, streaming, and radio airplay, though the exact weight assigned to each factor is kept secret.\n",
    "\n",
    "There are many peculiar recession indexes, such as the lipstick index, where people making small purchases, like a lipstick, at a lower frequency indicates the beginning of an economic downturn. Similarly, we wanted to see if people enjoyed his music more or less as the U.S. was experiencing economic downturn, and if we could dissect it by race or ethnicity, age, and time. Ultimately, we did not create a recession index, with our main findings lacking statistical significance for the most part, though when using Google search term popularity for 'Pitbull', we find statistically significant coefficients with a positive relationship between the unemployment rate and Pitbull popularity. Particularly, we look at the years 2009-2018 for Wikipedia awards charts for Pitbull, given that Pitbull received awards only during those years. However, for Billboard Hot 100 data, we are able to look at the years 2004-2021, since he first appered on the Hot 100 chart in 2004 and last appeared in 2018 (per Kaggle data that has data until 2021). Similarly, for Google Search Term trends of Pitbull, we are able to look at the years 2004 through 2021, since there's interest index data points for all of those years. Federal unemployment data spans for all years of interest, including 2021.\n"
   ]
  },
  {
   "cell_type": "markdown",
   "id": "292f05f3",
   "metadata": {},
   "source": [
    "### *Data description*"
   ]
  },
  {
   "cell_type": "markdown",
   "id": "3d692630",
   "metadata": {},
   "source": [
    "Our data consists of .csv files from Kaggle, noting unemployment data and Billboard Hot 100 data. Additionally, we underwent webscraping to collect Wikipedia data on Pitbull's billboard awards.The unemployment data we needed to remove NaN values and bound the dates in between 2009 and 2018. Additionally, we needed to merge the month and date columns so we could do a time series. Similarly for the Billboard Hot 100 file since we needed to merge the month and the data. We also had to make sure that we accounted for songs where he is the only artist, but also where he is featured (since he has many features both as the main artist and not). The Pitbull awards data scraping involved using two Wikipedia tables to create a fuller picture of how successful he was according to the Billboard awards. This meant that we added an additional column regarding whether or not the award won was for the Billboard Latin Awards or the Billboard Awards. \n",
    "\n",
    "#### Detailed Information\n",
    "\n",
    "- The unemployment dataset was created to keep track of unemployment rate as an economic measure; the Wikipedia page for Pitbull's Billboard awards was likely created as a general information source for the public to learn about Pitbull as an artist and public figure; we are unsure about what the motivation was for creating the Billboard Hot 100 dataset other than to keep track of which songs appear on there and how often.\n",
    "\n",
    "- Although we used the unemployment dataset from Kaggle, the data is the same as in FRED (Federal Reserve Economic Data) and is government-funded, Wikipedia pages are usually funded through indvidual donations and volunteer contributions, and we are unsure of where the funding comes from (if any) for the Billboard Hot 100 dataset from Kaggle.\n",
    "\n",
    "- Since the Billboard Hot 100 data on Kaggle (https://www.kaggle.com/datasets/dhruvildave/billboard-the-hot-100-songs) does not explicitly mention how the data is collected, and billboard.com (listed as the provenance) does not have a way to view past weeks, this can be a source of many human errors, including missing details from a given week or inputting incorrect details from manual data input (if the input process was manual). As for the unemployment dataset, the actual collection of such data can be found here: https://www.bls.gov/cps/cps_htgm.htm, but the main processes that would affect the recording process would be in the sample selection itself, which may result in the over-generalization of unemployment rate numbers. As for the Wikipedia page (https://en.wikipedia.org/wiki/List_of_awards_and_nominations_received_by_Pitbull), any contributor must rely on other sources of data available to be reliable in order to compile those pieces of data into one page, in this case Billboard Awards.\n",
    "\n",
    "- Although we are unsure of what and how preprocessing was performed on any of these datasets, we do know that data had to be transferred from a different site (FRED and Billboard) into the datasets that we downloaded, which can have various problems as discussed previously.\n",
    "\n",
    "- For the unemployment data, people were aware of the data collection and probably expected it to be used for government purposes, which it was, though they may have not predicted it would be used to study correlation between unemployment and Pitbull popularity.\n",
    "\n",
    "#### Minutae of datasets\n",
    "\n",
    "**Billboard Hot 100:**\n",
    "\n",
    "*Preexisting columns*- date, rank, song, artist, last-week, peak-rank, weeks-on-board  \n",
    "\n",
    "*How we changed it-*\n",
    "- Turned date into datetime and added values\n",
    "- Changed weeks on board into songfreq column\n",
    "\n",
    "**Wikipedia awards dataset:**\n",
    "\n",
    "*Preexisting columns*- Year, Nominee / work, Award, Result\n",
    "\n",
    "*How we changed it-*\n",
    "- Added Latin binary column\n",
    "\n",
    "**Federal unemployment dataset:**\n",
    "\n",
    "*Preexisting columns*- date, unrate, unrate_men, unrate_women, unrate_16_to_17, unrate_18_to_19, unrate_20_to_24, unrate_25_to_34, unrate_35_to_44, unrate_45_to_54, unrate_55_over\n",
    "\n",
    "*How we changed it-*\n",
    "- Changed date to datetime format\n",
    "\n",
    "**Google trends dataset:**\n",
    "\n",
    "*Preexisting columns*- Interest Index, Date (Month, Year)\n",
    "\n",
    "*How we changed it-*\n",
    "\n",
    "- Changed date to datetime format, adding '01' for the day of each month in the Date column, creating a column for Month, and one for Year\n",
    "- We also rearranged the dataset so that columns and rows were properly shown; more detail explained in the Data Cleaning file"
   ]
  },
  {
   "cell_type": "markdown",
   "id": "5cf30067",
   "metadata": {},
   "source": [
    "### Preregistration statement"
   ]
  },
  {
   "cell_type": "markdown",
   "id": "8f93f117",
   "metadata": {},
   "source": [
    "**Hypothesis #1**\n",
    "\n",
    "There's a correlation between an award in a given year being Latin and the unemployment rate from 2009 to 2018. In other words, the likelihood of Pitbull receiving a Latin award depends on the U.S. unemployment rate, where beta on unemployment does not equal zero.\n",
    "\n",
    "*What we're going to do*\n",
    "- We will perform a logistic regression where the dependent variable = 1 for receiving a Latin award and 0 otherwise\n",
    "- We will also perform a cdf on the probability that given a Latin Billboard music award between 2009 and 2018, Pitbull would be a recipient. Towards that end, we calculated z-scores to find the probability that a song's award is Latin, computed cdfs, and then plotted those points on the distributions to see if the results are statiscally significant or if we just didn't have enough data.\n",
    "- We will also utilize a correlation matrix.\n",
    "\n",
    "*Why we chose this hypothesis and our methodologies*\n",
    "- Because of the limited data on evaluating Pitbull's popularity, we wanted to get the most use out of the data we could find that would still be appropriate to measure his popularity, such as award data. \n",
    "- Florida, Pitbull's home state, was one of the states hit the hardest following the Great Recession with a high Hispanic population that was stastically more underemployed than other ethnic groups. Thus, it was interesting to see an awards metric be so illuminating. While there do exist charts and trends data, the Billboard Latin Music Awards are interesting 1) because of the volume of awards he'd won and 2) how it represented an embrace of identity. \n",
    "- The logistic regression should serve as a baseline to understand the limitations of our data's predictive capabilities, particularly it will help us understand how and whether the unemployment rate can predict Pitbull winning an award in a given year. \n",
    "- We performed cdfs to account for standardization of comparison against different data sets. While the awards df was very small, the unemployment one was not. When faced with vastly different stds and information, we perform cdfs to make everything more uniform and easier to work with. \n",
    "\n",
    "\n",
    "**Hypothesis #2**\n",
    "\n",
    "Given a host of variables in our unemployment data-- age range of those unemployed, their gender, and the cumulative unemployment rate-- we can predict whether or not Pitbull would make it onto the Billboard Charts. In other words, the likelihood of Pitbull having a song in the Billboard Hot 100 depends on the unemployment rate, where beta on unemployment is greater than 0.\n",
    "\n",
    "*What we're going to do*\n",
    "- We will use K-folds to see if we can train the data set on unemployment-- given a host of variables-- to see if we can predict Pitbull's chart success.Moreover, we will utilize these K-folds to measure the F1 of our model.\n",
    "\n",
    "*Why we chose this hypothesis and our methodologies*\n",
    "- We chose this hypothesis to give us the largest view of the American public during Pitbull's rise, peak, and eventual floundering. By having the opportunity to build a model with many variables, we want to see if this information had greater predictive capacities over Pitbull. \n",
    "- Intially thinking about a logistic regression with a train test split, we understand our data set is incredibly small and it seems nearly impossible to test a model on 40 data points. Thus, with K-folds, we are able to not overwork our data. \n",
    "\n",
    "**Hypothesis #3**\n",
    "\n",
    "We want to know the magnitude of the effect, if any, that the unemployment rate on a given month, both total average per month and by different categories, has on Pitbull popularity as measured by search trends. We do this by testing the hypothesis that the coefficients on the different unemployment measures are zero, having no effect on search term popularity. \n",
    "\n",
    "*What we're going to do*\n",
    "- Run a linear regression since the dependent variable, interest index, is discrete, ranging from 7 to 100\n",
    "\n",
    "*Why*\n",
    "- The results of a linear regression can help us visualize an interpret the relationship between the unemployemnt rate for a given month and its effect on the Google interest index. We can also look at different demographic data like age and sex and what the relationship is between those demographic categories and what effect they have on the Google interest index. In other words, as unemployment in general, as well as unemployment for certain demographics, increases, we can look at how search term popularity for Pitbull changes."
   ]
  },
  {
   "cell_type": "markdown",
   "id": "00eb199b",
   "metadata": {},
   "source": [
    "### *Data Analysis*"
   ]
  },
  {
   "cell_type": "markdown",
   "id": "77c64004",
   "metadata": {},
   "source": [
    "#### **Exploratory Data Analysis**"
   ]
  },
  {
   "cell_type": "code",
   "execution_count": 5,
   "id": "40af908d",
   "metadata": {},
   "outputs": [
    {
     "name": "stdout",
     "output_type": "stream",
     "text": [
      "billboard_freq_means\n",
      "2.6387832699619773\n",
      "billboard_freq_median\n",
      "3.0\n",
      "billboard_freq_variances\n",
      "3.445360345978571\n",
      "billboard_freq_std\n",
      "1.8561681890331412\n"
     ]
    }
   ],
   "source": [
    "simplecomp_df=pd.read_csv('simplecomp_df.csv')\n",
    "billboard_freq_means = (simplecomp_df['songfreq'].mean(axis=0))\n",
    "print ('billboard_freq_means')\n",
    "print (billboard_freq_means)\n",
    "billboard_freq_median= (simplecomp_df['songfreq'].median(axis=0))\n",
    "print ('billboard_freq_median')\n",
    "print (billboard_freq_median)\n",
    "billboard_freq_variances= (simplecomp_df['songfreq'].var(axis=0))\n",
    "print ('billboard_freq_variances')\n",
    "print (billboard_freq_variances)\n",
    "billboard_freq_std= (simplecomp_df['songfreq'].std(axis=0))\n",
    "print ('billboard_freq_std')\n",
    "print (billboard_freq_std)"
   ]
  },
  {
   "cell_type": "code",
   "execution_count": 6,
   "id": "0988d28a",
   "metadata": {},
   "outputs": [
    {
     "name": "stdout",
     "output_type": "stream",
     "text": [
      "unrate_means\n",
      "6.911406844106461\n",
      "unrate_median\n",
      "6.6\n",
      "unrate_variances\n",
      "3.600632746059853\n",
      "unrate_std\n",
      "1.8975333320023269\n"
     ]
    }
   ],
   "source": [
    "unrate_means = (simplecomp_df['unrate'].mean(axis=0))\n",
    "print ('unrate_means')\n",
    "print (unrate_means)\n",
    "unrate_median= (simplecomp_df['unrate'].median(axis=0))\n",
    "print ('unrate_median')\n",
    "print (unrate_median)\n",
    "unrate_variances= (simplecomp_df['unrate'].var(axis=0))\n",
    "print ('unrate_variances')\n",
    "print (unrate_variances)\n",
    "unrate_std= (simplecomp_df['unrate'].std(axis=0))\n",
    "print ('unrate_std')\n",
    "print (unrate_std)"
   ]
  },
  {
   "cell_type": "code",
   "execution_count": 7,
   "id": "4a5686e5",
   "metadata": {},
   "outputs": [
    {
     "name": "stdout",
     "output_type": "stream",
     "text": [
      "Latin award total count:\n",
      "36\n",
      "US award total count:\n",
      "11\n"
     ]
    }
   ],
   "source": [
    "unemployaward_df=pd.read_csv('unemployaward_df.csv')\n",
    "print('Latin award total count:')\n",
    "print (unemployaward_df.loc[unemployaward_df.Latin == 'Yes', 'Latin'].count())\n",
    "print('US award total count:')\n",
    "print (unemployaward_df.loc[unemployaward_df.Latin == 'No', 'Latin'].count())"
   ]
  },
  {
   "cell_type": "markdown",
   "id": "654084a6",
   "metadata": {},
   "source": [
    "#### **Plots**"
   ]
  },
  {
   "cell_type": "markdown",
   "id": "98322906",
   "metadata": {},
   "source": [
    "##### Time Series on Pitbull Billboard Appearances"
   ]
  },
  {
   "cell_type": "code",
   "execution_count": 8,
   "id": "7a7ced50",
   "metadata": {},
   "outputs": [
    {
     "data": {
      "text/plain": [
       "Text(0, 0.5, 'Billboard Song Freq')"
      ]
     },
     "execution_count": 8,
     "metadata": {},
     "output_type": "execute_result"
    },
    {
     "data": {
      "image/png": "iVBORw0KGgoAAAANSUhEUgAAAXgAAAEXCAYAAACnP18pAAAAOXRFWHRTb2Z0d2FyZQBNYXRwbG90bGliIHZlcnNpb24zLjUuMiwgaHR0cHM6Ly9tYXRwbG90bGliLm9yZy8qNh9FAAAACXBIWXMAAAsTAAALEwEAmpwYAAAkyElEQVR4nO3de5gcdZ3v8fd3mgYajAyRgSVjhghC2IMBIv0QFA+CK8YLuBFEjeC67PMY9Xhhj2t2BdlFd3FRI7c96K7By0HBoAjGG7vRs4IXXKITAoaLcbnHCYZwGbmNMky+54/qnvR0qqqru6v6Uvm8nidPprurfr9P/arqOz3Vv+42d0dERPJnoNsBREQkGyrwIiI5pQIvIpJTKvAiIjmlAi8iklO7dDtArX322cfnzZvX7RgiIn1j3bp1j7j7UNhjPVXg582bx+joaLdjiIj0DTN7IOoxXaIREckpFXgRkZxSgRcRySkVeBGRnFKBFxHJqUxn0ZjZ/cCTwBTwnLuXs+yv3ur1Y6xYs5HN4xPsVSpiBuPPTDJnsMTyxfNZsnA4V/1moXZbmsmfdAyi2j939QZWrd3EVOXD8AxwoGDG0kVzOX/JgsTZwpYbfeCx6fZr2zz98v/ipnsem1732INm86Kh5+2wLNDwvgOH9uDerc/MWKZ8wOwdslwz+uAOfV71rpcl3h9AwzGs3cYk+7b+sT12HeC/H3666YzN7vuobcmrVs+vpCzLT5OsFPiyuz+SZPlyuexpTZNcvX6Ms6/bwMTkVOjjpWKBC05ZkPrB061+sxC2LUnyJx0DILT9l47sNaPghTn2oNnc8uDvG2YLyzIAbAtpc79Zu7LlyWdj+21XVN/1wgpo2LYUBwwMJqe2n8dxY3jGMSPTvxyj9i3suF/ayVgrro+obemX86VZrZ5f9cxsXdST59xeolmxZmPsAToxOcWKNRtz028WwrYlSf6kYxDVfqPiDnDTPY8lyhbWR1SBzbq4x/VdL2wMwrZlcpvPKIgQP4ar1m6KbCtuv7STMWkfUdvSL+dLs1o9v5qR9RudHPiBmTnweXdfWb+AmS0DlgGMjIyk1vHm8YlUlumXfrMQlbNR/m6OQX27/TLWSaSxLdVLXq3u20ay2Pd52oe1stoHtbJ+Bn+su78UeB3wPjM7rn4Bd1/p7mV3Lw8Nhb7btiVzBkupLNMv/WYhKmej/EnHoBPj3y9jnUQa21Iwi22r3f2Sxb7P0z6s1er51YxMC7y7b678/zDwLeDoLPurtXzxfErFQuTjpWJh+kWdPPSbhbBtSZI/6RhEtX/sQbMbZjv2oNmJsoX1EXXQ7zdr14b9tivpCRc2BmHbUhwwigWbcV/cGFZfDI7bt432X7MZk/YRtS39cr40q9XzqxmZFXgz29PMZlV/Bl4D3J5Vf/WWLBzmglMWMDxYwoDBUpG99yhiwPBgKbMXbrrVbxbqtyVp/qRjENX+Ve96GWccMzL9bBOCWTQQPAM945gRrnrXyxJlC+vjorceOaP9aptrP3riDkXr2INmhy6b5L6D991zh2UueuuRM7Jc8tYjQ/sMm6ESti0rTjuCFW8+ouEYVvuvzqKJ27dhjx28754tZWxm30dtS7+cL81q9fxqRmazaMzsQIJn7RBc6/+au38ibp00Z9GIiOwM4mbRZPYiq7vfCxyRVfsiIhIvt9MkRUR2dirwIiI5pQIvIpJTKvAiIjmlAi8iklMq8CIiOaUCLyKSUyrwIiI5pQIvIpJTKvAiIjmlAi8iklMq8CIiOaUCLyKSUyrwIiI5pQIvIpJTKvAiIjmlAi8iklMq8CIiOaUCLyKSUyrwIiI5pQIvIpJTKvAiIjmlAi8iklMq8CIiOaUCLyKSUyrwIiI5pQIvIpJTKvAiIjmlAi8iklMq8CIiOaUCLyKSU7tk3YGZFYBRYMzdT8q6vzCr14+xYs1GNo9PsFepiBmMPzPJnMESyxfPZ8nC4dT7mTNY4oRDh7jh11unb6fVV30/WWzD2PgEBTOm3BluY1visobtl8efmZyxvgEOFMw45sC9uf/RiRltAYnanzNYYt4LStx87+NMuTc9LsOV9W+657EZ2fadtStbnnx2h+V322WAZ5/bFtnvYMT21iuYsXTRXM5fsmDG/WH7ae89irjD+MTkjH3XaF+FtVX9vzgAk9u2L7vfrF155KnJ6WWWLppL+YDZ0+vXjs0euxZ45tmp6XPhe7c9xPhEsL0DBtt8+7jWj0+S3HGyPEfS0Kl85i0c7E11YPYhoAw8v1GBL5fLPjo6mmr/q9ePcfZ1G5iYnAp9vFQscMEpC9oe3Eb9pNVXWD+d3IZm+ozLCiTuK0qxYOAwuW37MZxm+73kjGNGpot8M/sJ4vdVs22FGQC2NVyqea0e11meI2lIO5+ZrXP3cthjmV6iMbMXAm8AvpBlP3FWrNkYe/BOTE6xYs3GzPtJq6+wfjq5Dc30GZe1mb6iTE75jOKedvu9ZNXaTdM/N7ttcfsqjXHKorhD68d1ludIGjqZL+tLNJcAfwvMilrAzJYBywBGRkZSD7C55s/GdpZJq412+4pav5PbkHT5LLO20m8/q7180cr2dWtftCuP29rJfJk9gzezk4CH3X1d3HLuvtLdy+5eHhoaSj3HnMFSKsuk1Ua7fUWt38ltSLp8XNY08sb1m2X73VAwm/65lW3L8rjJUh63tZP5srxEcyzwRjO7H7gaeJWZXZlhf6GWL55PqViIfLxULEy/WJdlP2n1FdZPJ7ehmT7jsjbTV5RiwSgO2Iz70my/lyxdNHf652a3LW5fpTFOWRWRVo/rLM+RNHQyX2aXaNz9bOBsADM7Hviwu5+RVX9Rqi9aZD2Lpr6frGbRhPWTxTakMYsmSdYsZ9HUP5aXWTRR+6mVWTRRbfXzLJosz5E0dDJf5rNoYEaB7/gsGhGRPIubRZP5PHgAd78RuLETfYmISEDvZBURySkVeBGRnFKBFxHJKRV4EZGcUoEXEckpFXgRkZxSgRcRyamG8+DN7EmCNxPu8BDg7v781FOJiEjbkrzR6WLgd8BXCYr66cAsd/90lsFERKQ9SS7RLHb3z7n7k+7+hLv/K3Bq1sFERKQ9SQr8lJmdbmYFMxsws9OB/HyTgohITiUp8G8H3gJsqfw7rXKfiIj0sIbX4N39fuDPs48iIiJpavgM3swOMbP/NLPbK7cPN7Nzs48mIiLtSHKJ5nKCL+6YBHD3XwFvyzKUiIi0L0mB38Pdf1F333NZhBERkfQkKfCPmNlBVN7sZGZvBh7KNJWIiLQtyRud3gesBA41szHgPoI3O4mISA+LLfBmVgDe6+6vNrM9gQF3f7Iz0UREpB2xBd7dp8zsqMrPT3cmkoiIpCHJJZr1ZvYd4Bpgusi7+3WZpRIRkbYlKfCzgUeBV9Xc54AKvIhID4ss8Gb2z+5+jrufaWYnuvsPOxlMRETaEzdN8rU1P38q6yAiIpIufaOTiEhOxV2D39fMPkTwJR/Vn6e5+0WZJhMRkbbEFfjLgVkhP4uISB+ILPDu/vFOBhERkXTpGryISE6pwIuI5FSSNzq1xMx2B34C7Fbp55vufl5W/fWq1evHWLFmI2PjExTMmHJneLDE8sXzWbJwOHadzeMTzGmwbNa5azMADXMlyZ7F9jXbZv3yJxw6xA2/3jpj/dEHHmPV2k1MuU+vN9zEWMT1uVepiBmMPzO5w/rNjP3q9WN87Dt3MD4xCcDeexQ57+TDYttKMtZx6527esP0uBTMWLpoLucvWdDyvpDsmNccvKEL1M2eqfg9sM7db41Zz4A93f0pMysCPwPOcvebo9Ypl8s+OjqaKHg/WL1+jLOv28DE5I7fUV4qFrjglAWhxa9+nahlsxKWoThgYDA5tf14qc+VJHsW29dsm3H7pWoA2BbxWJKxaLbP6vpA4rE/9ahhvv6LTUxum3kOFwvGijcfEdpWkrGOG8/RBx7jypsf3GGdM44Z4fwlC3ri+N3ZmNk6dy+HPZbkEk0ZeA8wXPm3DDgeuNzM/jZqJQ88VblZrPyL/22SMyvWbIw8oScmp1ixZmOidaKWzUpYhsltPqPAhOVKkj2L7Wu2zbj9UhVV3CHZWDTbZ3X9ZsZ+1dodizsEvwii2koy1nHrrVq7KXSd6v29cPzKdkku0bwAeGm1WJvZecA3geOAdcCno1asfNzwOuDFwGfdfW3IMssIfmkwMjLSbP6etnl8ounHo9Zp1Faamumrdtkk2bPYvmbbzGos49pN0mezuaZi/vpuJ0vcuEX1WM3SC8evbJfkGfwI8GzN7UngAHefAP4Yt6K7T7n7kcALgaPN7CUhy6x097K7l4eGhpIn7wNzBktNPx61TqO20tRMX7XLJsmexfY122ZWYxnXbpI+5wyWmspWMGuprVaOy+r9UX1W7++F41e2S1LgvwbcbGbnVZ693wSsqnwByJ1JOnH3ceBGZn6+Te4tXzyfUrEQ+lipWJh+8azROlHLZiUsQ3HAKBZmntz1uZJkz2L7mm0zbr9UxZ0YScai2T6r6zcz9ksXzQ2uz9fnK1hkW0nGOm69pYvmhq5Tvb8Xjl/ZruElGnf/JzP7d+BYgo8teI+7V18JjfzqPjMbAibdfdzMSsCr2ck+tKz6olIzs2hq1+nWLISoDI1yJcmexfY122bY8lnPoqnvM24WTVjbUf2VD5gdO4um2ZyNxrP6WNQsml44fmW7hrNoYPpa+n7U/EJw9x1fSp+5zuHAFUCB4AnRN9z9H+PWydssGhGRrMXNomn4DN7MPgCcB2wBpgiexTtweNx67v4rYGHTaUVEJBVJZtGcBcx390ezDiMiIulJ8iLrJoI3NomISB9J8gz+XuBGM/s+NdMi9XnwIiK9LUmBf7Dyb9fKPxER6QNJpkl+HMDMZgU3pz9+QEREeljDa/Bm9hIzWw/cDtxhZuvM7LDso4mISDuSvMi6EviQux/g7gcAf0PwFX4iItLDkhT4Pd39huoNd78R2DOzRCIikopEs2jM7O+Br1ZunwHcl10kERFJQ5Jn8H8FDAHXAd+q/HxmlqFERKR9SWbRPA58EMDM9gbGPckH2IiISFdFPoM3s38ws0MrP+9mZj8C7ga2mNmrOxVQRERaE3eJ5q1A9Xu23llZdl/glcA/Z5xLRETaFFfgn625FLMYWFX5hqa7SPbirIiIdFFcgf9j5U1OQ8AJwA9qHtsj21giItKuuGfiZxF8ufYQcLG73wdgZq8H1ncgm4iItCGywLv7WuDQkPuvB67PMpSIiLQvyTx4ERHpQyrwIiI5pQIvIpJTkdfgzeyUuBXd/br044iISFriZtGcXPl/X+DlwI8qt08AbiT4bBoREelRcbNozgQws+8B/8PdH6rc3h/4bGfiiYhIq5Jcg59XLe4VW4BDMsojIiIpSfKRAzea2RpgFeDA24Ab4lcREZFuS/Jxwe83szcBx1XuWunu38o2loiItCu2wJvZAPArd38JwZd9iIhIn4i9Bu/u24DbzGykQ3lERCQlSa7B7w/cYWa/AJ6u3unub8wslYiItC1Jgf945ilERCR1SV5k/XEngoiISLoaFngzOwb4P8CfArsCBeBpd39+g/XmAl8B/gTYRjD75tK2E/ep1evHWLFmI5vHJ5gzWGL54vksWTjcM21W2xobn6BgxpQ7wynlTDtvFttd2xYQ2n7tsnuVipjB+DOTO2RIMpbnrt7AqrWbmKr5/vrBujZPOHSIG369NdVjJumYfOw7dzA+MQnA3nsUOe/kw1iycJhzV2/gqrUPUhMbYIfty+J4b0Vcjk4c891mXr+n6hcwGyWY+34NUAb+AjjY3c9psN7+wP7ufouZzQLWAUvc/c6odcrlso+Ojja5Cb1v9foxzr5uAxOTU9P3lYoFLjhlQVuFKa02w9pKK2faebPe7uKAgcHk1PbzolQscOpRw1y7bix0jGozAA3HcvSBx7jy5gebylq7fpbFZ/X6MZZfcxuT22bWhWLBOHre3tx0z2MN88GOY9CJ7PXijpWwjN3M2g4zW+fu5dDHkhR4dy+b2a/c/fDKfT9395c3GeLbwGXu/sOoZfJa4I/95I8YG5/Y4f7hwRI3feRVXW8zqq122kzaR7Ntd3K7a1Wf4cUZHiwBNBzL3/3+Dw3bilu/3X0Rp5kxCRM3Bllnrxd3rEDj/dTJrO2IK/BJXmR9xsx2BW41s08DDwF7NhlgHrAQWBvy2DJgGcDISD5nY26OOJCi7u90m43WaSdnozaabbuT210rSUFO0t7m8QlaK+3J+2hHu+3HrZ919qT9Jd1PeZDks2jeUVnu/QTTJOcCpybtwMyeB1wL/LW7P1H/uLuvdPeyu5eHhoaSNttX5lSeMSS9v9NtNlqnnZyN2mi27U5ud62CWaL2koxlkrbi1s9Su+3HjUHW2ZP2l3Q/5UHDAu/uDxC8SDpCUKj/zt3vTtK4mRUr61y1M39+/PLF8ykVCzPuKxUL0y/odbvNsLbabTNJH620nfV2FweMYmFmAS4VCyxdNDdyjGozJBnLpYvmNp21dv0sLV88P3gdok6xYBx70OzYdePGoBPZ68Xl6MQx3wuSzKI5HrgCuB8wYK6ZvdPdf9JgPQO+CNzl7he1nbSPVV+sSXNWQZpt1raV1YyCtPJmtd1JZtGUD5idaBZNdf2osawu14uzaKrttzuLpjoG3ZxFk+RY0Swas3XA2919Y+X2IcAqdz+qwXqvAH4KbCD4CwDgHHe/PmqdvL7IKiKSlXZfZC1WizuAu/+mcukllrv/jOAZv4iIdEGSAj9qZl8Evlq5fTrBnHYREelhSQr8e4H3AR8keEb+E+BzWYYSEZH2Jfksmj+a2WXAfxJcS9/o7s9mnkxERNqSZBbNG4B/A+4heAb/IjN7t7v/e9bhRESkdUku0VwInFCd+25mBwHfB1TgRUR6WJJ3sj5c98ame4GHM8ojIiIpiXwGb2anVH68w8yuB74BOHAa8MsOZBMRkTbEXaI5uebnLcArKz9vBfbOLJGIiKQissC7+5mdDCIiIumKu0TzL3EruvsH048jIiJpibtEo3erioj0sbhLNFd0MoiIiKQr7hLNdyH6y2fc/Y2ZJBIRkVTEXaL5TMdSiIhI6uIu0fy4k0FERCRdcZdovuHubzGzDYRcqnH3wzNNJiIibYm7RHNW5f+TOhFERETSFXeJ5qHK/w9U7zOzfYBHvdH3/ImISNdFftiYmR1jZjea2XVmttDMbgduB7aY2Ws7F1FERFoRd4nmMuAcYC/gR8Dr3P1mMzsUWAX8RwfyiYhIi+I+LngXd/+Bu18D/M7dbwZw9193JpqIiLQjrsBvq/l5ou4xXYMXEelxcZdojjCzJwi+pq9U+ZnK7d0zTyYiIm2Jm0VT6GQQERFJV5Kv7BMRkT6kAi8iklMq8CIiOaUCLyKSUyrwIiI5pQIvIpJTcfPg22JmXyL4JMqH3f0lWfUTZvX6MVas2cjm8QnmDJZYvng+SxYON71Mp1UzjY1PUDBjyp3hHsnWC5KOT/2+PeHQIW749dZU9vW5qzewau0mptwpmLF00VzOX7IgMl+S/Rh1LLZ6PMRlbNRn0myNJMketsxgqYgZPP7MZFPbrHMnnGX1wZBmdhzwFPCVpAW+XC776OhoW/2uXj/G2ddtYGJyavq+UrHABacsmHFgNVqm08IyVXU7Wy9IOj5xy4Ut34xzV2/gypsf3OH+M44ZoXzA7Jb6jToWTz1qmGvXjTV9PMRlrP1FlOT4b/U8SbKvgIbjFbZe1C+hnfncMbN17l4OeyyzSzTu/hPgsazaj7JizcYddvTE5BQr1mxsaplOC8tU1e1svSDp+MQtF7Z8M1at3RR5f6v9Rh2Lq9Zuaul4iMvYqM+k2RqNXZJ9lWS8kvarcydaZpdokjKzZcAygJGRkbbb2zxe/7E5O96fZJlOa9R3N7P1gqTjk3ScWhnPqYi/dqfcW+43ar2ovlpdr/b+pMd/q+dJVsdyVnnyrOsvsrr7Sncvu3t5aGio7fbmDJYa3p9kmU5r1Hc3s/WCpOOTdJxaGc+CWeT9rfYbtV5UX62uV3t/0uO/1fMkyeOtjH9WefKs6wU+bcsXz6dUnPkxOqVigeWL5ze1TKeFZarqdrZekHR84pYLW74ZSxfNjby/1X6jjsWli+a2dDzEZWzUZ9JsjcYuyb5KMl5J+9W5E63rl2jSVn0xJe6V/yTLdFptJs0E2FHS8Qnbt2nNoqm+SBk3Q6XZWTRxx2L5gNlNHw9JMiY9/ls9T5o5ltOYRaNzJ1qWs2hWAccD+wBbgPPc/Ytx66Qxi0ZEZGcSN4sms2fw7r40q7ZFRKSx3F2DFxGRgAq8iEhOqcCLiOSUCryISE6pwIuI5JQKvIhITqnAi4jklAq8iEhOqcCLiOSUCryISE6pwIuI5JQKvIhITqnAi4jklAq8iEhOqcCLiOSUCryISE6pwIuI5JQKvIhITqnAi4jklAq8iEhOqcCLiOSUCryISE6pwIuI5JQKvIhITqnAi4jklAq8iEhOqcCLiOSUCryISE6pwIuI5JQKvIhITqnAi4jk1C5ZNm5mrwUuBQrAF9z9k2n3sXr9GCvWbGRsfAIDvHL/3nsUOe/kw1iycLjh+h/7zh2MT0wCMGCwzaFgxpT7jDaTPDY8WGL54vmR/Tbqr7o+ML1d1cfq/w9bttm8UW3GjVvtmIe1nXTss1DNtnl8gjkJtmVnEbbPkuzrbos6v5s5fsO2vZnzrRPnVFbM3Rsv1UrDZgXgN8CJwG+BXwJL3f3OqHXK5bKPjo4m7mP1+jHOvm4DE5NToY8XC8aKNx8RW2yXX3Mbk9vSHYNSscAFpyzYod+k/RUHDAwmpxrnambZpKLyQ+Mxn87VYOyzEJYtblt2FnH7rJfHJ+mxVq92m5K0kcU5FJcpbWa2zt3LYY9leYnmaOBud7/X3Z8Frgb+PM0OVqzZGLvjJqecFWs2xq6fdnEHmJicCu03aX+T2zzxwdbMsklF5YfGYz6dq8HYZyEsW9y27Czi9lkvj0/SY61e7TYlaSOLcyguUydlWeCHgU01t39buW8GM1tmZqNmNrp169amOtg8PtHWMknWb1VY21n2l7aorM1sQ6e3N43MedRo+3t1fNrJVV23l7atG1myLPAWct8OvybdfaW7l929PDQ01FQHcwZLbS2TZP1WhbWdZX9pi8razDZ0envTyJxHjba/V8ennVzVdXtp27qRJcsC/1tgbs3tFwKb0+xg+eL5lIqFyMeLBZt+ASVq/eJA2O+h9pSKhdB+k/ZXHDCKhWS5mlk2qaj80HjMp3M1GPsshGWL25adRdw+6+XxSXqs1avdpiRtZHEOxWXqpCxn0fwSONjMXgSMAW8D3p5mB9UXLFqdRVN9rFOzaJL01+uzaOrHvJdm0dRm0yya7aL2Wa/Pook7v5Mev1Hbrlk0aTRu9nrgEoJpkl9y90/ELd/sLBoRkZ1d3CyaTOfBu/v1wPVZ9iEiIuH0TlYRkZxSgRcRySkVeBGRnFKBFxHJqUxn0TTLzLYCD7S4+j7AIynGyYpypq9fsipnupQzcIC7h75LtKcKfDvMbDRqqlAvUc709UtW5UyXcjamSzQiIjmlAi8iklN5KvArux0gIeVMX79kVc50KWcDubkGLyIiM+XpGbyIiNRQgRcRySkVeBGRnMpNgTczq/zf/DcEdFg/ZOwX1f0edVuap3MpP3JT4IE5ZlZw9ykAMxuo/N9TJ7yZHQm8ycz2rNyunkw9tS/MbF8ze7GZHV+5bbX/95A9zKxkZvuZmXll1kAP5qSSs2Rm+3Y7SwM6l1LUzXMp08+D77CrgEEzu8Ddv+7u2wC896YJfRX4hLs/Xbm9G/AHd99WW6B6wJeBccDN7CF33wg9OZ6XEnw15L3A7mZ2rbt/rwdzAqwADgF+Y2bXufuPuh0ogs6ldHXtXOqp33StsMBuwB3A3cBfmNkPzOxgM3uXmb3AzIpdjgmAmb0B2OLuV5tZwcw+ClxoZt82s0W9ckCa2fuBKeAvCcb1LDP7OzO7xMwO62q4GpWcBwJnAFcCPwXONLMLzWy/roarY2bvA0aA9wD3AJ8yswO7m2omnUvp6/a51PcF3gN/BC4j+FLvZcC1BN8kdSGwm7tPdjFirQcr/wCWA0cA3wBuAM4xs+d3K1idIeDKyrjtBxwEPE7wgUkfMLNe+cvvD8D33H2ru98EfB34R+A5YHFXk9WoFMW/JHi2ea+7Xwz8HHhlzTILu30JROdSJrp6LvV9gQcws13c/S7gKeBId/88wZ9EPwduNrNTu5mvxv0ElxEuAfYF/re7/9jdLwGeBnrlg5NuBa42s68AZwKnuvtK4EvAHHon5y3A/zKzjwBU/lS/HfgP4B099AzZgc8Av6u5PvwT4E0AZnY2cFIvPOusXNq4C3iS3j6X7iE4ly6mt8+ldQTn0hV041xy99z8A44CvgBcDPysct/LgX26na0m4/7A1whOoAsr9w0DtwEv7Ha+mpyHACcAnwZOqbn/VmBOt/PV5DkcuJrg2fsbKvftAdwJ7NvtfHVZrebnvYFvASdWxnReL+QDBio/HwNcDlzUa+dSdRwJCuQ3gCeAz1Tu68VzaT7wGuBTwJtq7s/8XOrrjyows+OA44FfAHe7+91mthT4OPAOd1/bzXxVNTlvAX4JPAq8geDkubNy+z53/3i3MsJ0zhMIct4CbCH40/c8YBB4DPhvd1/erYwAZraXu/++5vZcgksyZxIUqS3Ave7+N12KOK02a/0Lf5Xrxh8B/sGDyzZdUz+mlfveCfw9cHoPnUthOd9CUDxvJzhG7+2Bcyks58uBc4BZBH8V/Sbrc6lvC3xlp/49wTXCRQTX4/6LoGDu5u4/NbMBr8wA6JaQnJsIcl7t7hNmdgywwbfPBOiKiPG8GVgD7A6cBNzj7t/vWkjAzE4E3g2sBq5194mQx+9097EuxJshKmvlkuJzZvY64PMEz967dpzG5NwfOMTdf9wLs1IS7PsycFcPnEuROc3sxQTP5u939+szz9LHBf4K4Jvu/t3Ki1hvAV4NPODuH+tquBoROU8EHu2FZ5hVITlPIzgQx9z9o91Nt52Z/YbgF+TvgF2B6939h91NFS4k6/fd/f/VLfN8d3+iG/lqMjTM2QuS5uz2L6NeGs9+LvAfJriccJa7312574UEMwC2Au/u9rN3iMw5TJDzEXo/52cJxvO97v5cFyNiZi8A3gtcR3DJ6GUErxU8DFwCHAfs7u6ruhRxWr9kbZDzUuAVBDmv7lZGSDyeu/V4zkuB/wmU3P1rHcnTxwW+AFxAMHA/I/iz/InK/d8F3tbtZ0agnFmoXnozsyHgaGAhMI9gKuKr3f3G7qWbKSbrmcCf9UrWfhlT5WwyR78V+Mo0s30Jnv3+CfDXwPOAu4BtBG98ebG7n9ytjKCcaavkHAIed/dn6x4rAj8geKH6r7qRry5PX2RVznT1Ys6+KvBmdjjBs8zNwALgcnf/YmX2x0KCGR+/BS5298eVM3c5x4Ajga+7+4U1jz+P4J2XC939oa6E3J6lL7IqZ7p6Nqf3wDzRpP8IZnScRfBM8xXAKMFc0qNrlrFu5VPOjuR8ObCW4C+MV9Us0xNz3vslq3LuHDm7OihNDuDewLdri0/l/jOBHwOv6HZG5exozncCN/ZKzn7Kqpw7T86++agCDy4RfJvgw6R2r7n/ywTvYnxl1LqdpJzpisl5BcG7GHsiJ/RPVuVMVy/n7IsCb2YHmtkrCS4fDAEPWPApbVUFeuCzJ5QzXf2SE/onq3Kmq9dz9vyLrJV30329cnMz8K8Eb/P9MsFnUGwA/gx4u7vf2oWIgHKmrV9yQv9kVc509UXObl+/SnB96/8C51R+fiPBK9GDlduvJJhjepByKqeyKqdyzvzX05doKu+kPIDgm1tw9+8QfBTsByuL3E4woPd0J2FAOdPVLzmhf7IqZ7r6JWdPF3gPPjDqAwQfkF/1ZYKP34TgM5XndTjWDpQzXf2SE/onq3Kmq19y9sM1+NovUi4CJWAlwZ9DR7v7a7qZr0o509UvOaF/sipnuvohZ6989Vokr/kN5MHXXk2a2WaCz1V+VdeC1VHOdPVLTuifrMqZrn7I2fMFPsJKYMJ75IOFYihnuvolJ/RPVuVMV0/l7PlLNFGsB77MIwnlTFe/5IT+yaqc6eqlnH1b4EVEJF5Pz6IREZHWqcCLiOSUCryISE6pwMtOy8ymzOxWM7vDzG4zsw9VvpUnbp15Zvb2TmUUaYcKvOzMJtz9SHc/DDgReD1wXoN15gEq8NIXNItGdlpm9pS7P6/m9oHAL4F92P45I3tWHn6/u//czG4G/hS4D7gC+Bfgk8DxwG7AZ9398x3bCJEYKvCy06ov8JX7HgcOBZ4Etrn7H8zsYGCVu5fN7Hjgw+5+UmX5ZQRfxXa+me0G3ASc5u73dXJbRML06ztZRbJilf+LwGVmdiQwBRwSsfxrgMPN7M2V23sBBxM8wxfpKhV4kYrKJZop4GGCa/FbgCMIXqv6Q9RqwAfcfU1HQoo0QS+yigBmNgT8G3BZ5UOk9gIeqrzl/B0EX70GwaWbWTWrrgHeW/k0QczsEDPbE5EeoGfwsjMrmdmtBJdjniN4UfWiymOfA641s9OAG4CnK/f/CnjOzG4j+EafSwlm1txiZgZsBZZ0Jr5IPL3IKiKSU7pEIyKSUyrwIiI5pQIvIpJTKvAiIjmlAi8iklMq8CIiOaUCLyKSU/8fioMh+o3g9XQAAAAASUVORK5CYII=",
      "text/plain": [
       "<Figure size 432x288 with 1 Axes>"
      ]
     },
     "metadata": {
      "needs_background": "light"
     },
     "output_type": "display_data"
    }
   ],
   "source": [
    "x = np.asarray(simplecomp_df['date'], dtype='datetime64[s]')\n",
    "A= plt.scatter(x,'songfreq', data=simplecomp_df)\n",
    "A= plt.xticks(rotation=60)\n",
    "plt.xlabel ('Date')\n",
    "plt.ylabel (\"Billboard Song Freq\")\n"
   ]
  },
  {
   "cell_type": "markdown",
   "id": "9698cd2f",
   "metadata": {},
   "source": [
    "Here, we visualize how appearance frequency for Pitbull on the Billboard Hot 100 chart varies with time, with the appearance frequency going up to 5 times in a given month."
   ]
  },
  {
   "cell_type": "markdown",
   "id": "2df656bb",
   "metadata": {},
   "source": [
    "##### Time Series on Unemployment"
   ]
  },
  {
   "cell_type": "code",
   "execution_count": 9,
   "id": "bf8609fd",
   "metadata": {},
   "outputs": [
    {
     "data": {
      "text/plain": [
       "Text(0, 0.5, 'Unemployment Rate')"
      ]
     },
     "execution_count": 9,
     "metadata": {},
     "output_type": "execute_result"
    },
    {
     "data": {
      "image/png": "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",
      "text/plain": [
       "<Figure size 432x288 with 1 Axes>"
      ]
     },
     "metadata": {
      "needs_background": "light"
     },
     "output_type": "display_data"
    }
   ],
   "source": [
    "y = np.asarray(simplecomp_df['date'], dtype='datetime64[s]')\n",
    "plt.scatter(y,'unrate', data=simplecomp_df)\n",
    "plt.xticks(rotation=60)\n",
    "plt.xlabel ('Date')\n",
    "plt.ylabel (\"Unemployment Rate\")"
   ]
  },
  {
   "cell_type": "markdown",
   "id": "4f79668d",
   "metadata": {},
   "source": [
    "Here, we see the trend of unemployment over time, and particularly, we see a peak from 2008-2010, which represents the Recession of 2008."
   ]
  },
  {
   "cell_type": "markdown",
   "id": "17ddb8aa",
   "metadata": {},
   "source": [
    "#### **In-Depth Data Analysis On Hypotheses**"
   ]
  },
  {
   "cell_type": "markdown",
   "id": "8472bfa5",
   "metadata": {},
   "source": [
    "#### Hypothesis #1\n",
    "\n",
    "There's a correlation between an award in a given year being Latin and the unemployment rate fluctuating by a certain amount from 2009 to 2018.\n",
    "- We will also perform a logistical regression on his success in a year with regards to Latin Awards and the unemployment rate.\n",
    "- We will perform a cdf on the probability that in a given year Pitbull would win a Latin Billboard Award. \n",
    "- To compare the ability of the cdf for Pitbull's success in a given year, we decided to utilize a time series to determine unemployment rate set against the rate of his award winning. Moreover, to compare it with the probability that a given a song's award is Latin, we likewise used a cdf to see how a continuous distributive function would perform over a given period of time to indicate the statistical significance of his success as an indicator of recession.\n",
    "- We will also utilize a correlation matrix."
   ]
  },
  {
   "cell_type": "code",
   "execution_count": 10,
   "id": "6ec88643",
   "metadata": {},
   "outputs": [
    {
     "data": {
      "text/html": [
       "<div>\n",
       "<style scoped>\n",
       "    .dataframe tbody tr th:only-of-type {\n",
       "        vertical-align: middle;\n",
       "    }\n",
       "\n",
       "    .dataframe tbody tr th {\n",
       "        vertical-align: top;\n",
       "    }\n",
       "\n",
       "    .dataframe thead th {\n",
       "        text-align: right;\n",
       "    }\n",
       "</style>\n",
       "<table border=\"1\" class=\"dataframe\">\n",
       "  <thead>\n",
       "    <tr style=\"text-align: right;\">\n",
       "      <th></th>\n",
       "      <th>Unnamed: 0</th>\n",
       "      <th>unrate</th>\n",
       "      <th>Year</th>\n",
       "      <th>Month</th>\n",
       "      <th>date</th>\n",
       "      <th>Latin</th>\n",
       "    </tr>\n",
       "  </thead>\n",
       "  <tbody>\n",
       "    <tr>\n",
       "      <th>0</th>\n",
       "      <td>0</td>\n",
       "      <td>8.5</td>\n",
       "      <td>2009</td>\n",
       "      <td>1</td>\n",
       "      <td>2009-01-01</td>\n",
       "      <td>0</td>\n",
       "    </tr>\n",
       "    <tr>\n",
       "      <th>1</th>\n",
       "      <td>1</td>\n",
       "      <td>8.9</td>\n",
       "      <td>2009</td>\n",
       "      <td>2</td>\n",
       "      <td>2009-02-01</td>\n",
       "      <td>0</td>\n",
       "    </tr>\n",
       "    <tr>\n",
       "      <th>2</th>\n",
       "      <td>2</td>\n",
       "      <td>9.0</td>\n",
       "      <td>2009</td>\n",
       "      <td>3</td>\n",
       "      <td>2009-03-01</td>\n",
       "      <td>0</td>\n",
       "    </tr>\n",
       "    <tr>\n",
       "      <th>3</th>\n",
       "      <td>3</td>\n",
       "      <td>8.6</td>\n",
       "      <td>2009</td>\n",
       "      <td>4</td>\n",
       "      <td>2009-04-01</td>\n",
       "      <td>0</td>\n",
       "    </tr>\n",
       "    <tr>\n",
       "      <th>4</th>\n",
       "      <td>4</td>\n",
       "      <td>9.1</td>\n",
       "      <td>2009</td>\n",
       "      <td>5</td>\n",
       "      <td>2009-05-01</td>\n",
       "      <td>0</td>\n",
       "    </tr>\n",
       "    <tr>\n",
       "      <th>...</th>\n",
       "      <td>...</td>\n",
       "      <td>...</td>\n",
       "      <td>...</td>\n",
       "      <td>...</td>\n",
       "      <td>...</td>\n",
       "      <td>...</td>\n",
       "    </tr>\n",
       "    <tr>\n",
       "      <th>138</th>\n",
       "      <td>138</td>\n",
       "      <td>4.1</td>\n",
       "      <td>2017</td>\n",
       "      <td>9</td>\n",
       "      <td>2017-09-01</td>\n",
       "      <td>Yes</td>\n",
       "    </tr>\n",
       "    <tr>\n",
       "      <th>139</th>\n",
       "      <td>139</td>\n",
       "      <td>3.9</td>\n",
       "      <td>2017</td>\n",
       "      <td>10</td>\n",
       "      <td>2017-10-01</td>\n",
       "      <td>0</td>\n",
       "    </tr>\n",
       "    <tr>\n",
       "      <th>140</th>\n",
       "      <td>140</td>\n",
       "      <td>3.9</td>\n",
       "      <td>2017</td>\n",
       "      <td>11</td>\n",
       "      <td>2017-11-01</td>\n",
       "      <td>0</td>\n",
       "    </tr>\n",
       "    <tr>\n",
       "      <th>141</th>\n",
       "      <td>141</td>\n",
       "      <td>3.9</td>\n",
       "      <td>2017</td>\n",
       "      <td>12</td>\n",
       "      <td>2017-12-01</td>\n",
       "      <td>0</td>\n",
       "    </tr>\n",
       "    <tr>\n",
       "      <th>142</th>\n",
       "      <td>142</td>\n",
       "      <td>3.6</td>\n",
       "      <td>2018</td>\n",
       "      <td>9</td>\n",
       "      <td>2018-09-01</td>\n",
       "      <td>Yes</td>\n",
       "    </tr>\n",
       "  </tbody>\n",
       "</table>\n",
       "<p>143 rows × 6 columns</p>\n",
       "</div>"
      ],
      "text/plain": [
       "     Unnamed: 0  unrate  Year  Month        date Latin\n",
       "0             0     8.5  2009      1  2009-01-01     0\n",
       "1             1     8.9  2009      2  2009-02-01     0\n",
       "2             2     9.0  2009      3  2009-03-01     0\n",
       "3             3     8.6  2009      4  2009-04-01     0\n",
       "4             4     9.1  2009      5  2009-05-01     0\n",
       "..          ...     ...   ...    ...         ...   ...\n",
       "138         138     4.1  2017      9  2017-09-01   Yes\n",
       "139         139     3.9  2017     10  2017-10-01     0\n",
       "140         140     3.9  2017     11  2017-11-01     0\n",
       "141         141     3.9  2017     12  2017-12-01     0\n",
       "142         142     3.6  2018      9  2018-09-01   Yes\n",
       "\n",
       "[143 rows x 6 columns]"
      ]
     },
     "execution_count": 10,
     "metadata": {},
     "output_type": "execute_result"
    }
   ],
   "source": [
    "unemployaward_df = pd.read_csv('unemployaward_df.csv')\n",
    "unemployaward_df"
   ]
  },
  {
   "cell_type": "code",
   "execution_count": 11,
   "id": "a6d3ce0d",
   "metadata": {},
   "outputs": [
    {
     "data": {
      "text/html": [
       "<div>\n",
       "<style scoped>\n",
       "    .dataframe tbody tr th:only-of-type {\n",
       "        vertical-align: middle;\n",
       "    }\n",
       "\n",
       "    .dataframe tbody tr th {\n",
       "        vertical-align: top;\n",
       "    }\n",
       "\n",
       "    .dataframe thead th {\n",
       "        text-align: right;\n",
       "    }\n",
       "</style>\n",
       "<table border=\"1\" class=\"dataframe\">\n",
       "  <thead>\n",
       "    <tr style=\"text-align: right;\">\n",
       "      <th></th>\n",
       "      <th>unrate</th>\n",
       "      <th>Year</th>\n",
       "      <th>Month</th>\n",
       "      <th>date</th>\n",
       "      <th>Latin</th>\n",
       "      <th>no_award</th>\n",
       "      <th>Latin_No</th>\n",
       "      <th>Latin_Yes</th>\n",
       "    </tr>\n",
       "  </thead>\n",
       "  <tbody>\n",
       "    <tr>\n",
       "      <th>0</th>\n",
       "      <td>8.5</td>\n",
       "      <td>2009</td>\n",
       "      <td>1</td>\n",
       "      <td>2009-01-01</td>\n",
       "      <td>0</td>\n",
       "      <td>1</td>\n",
       "      <td>0</td>\n",
       "      <td>0</td>\n",
       "    </tr>\n",
       "    <tr>\n",
       "      <th>1</th>\n",
       "      <td>8.9</td>\n",
       "      <td>2009</td>\n",
       "      <td>2</td>\n",
       "      <td>2009-02-01</td>\n",
       "      <td>0</td>\n",
       "      <td>1</td>\n",
       "      <td>0</td>\n",
       "      <td>0</td>\n",
       "    </tr>\n",
       "    <tr>\n",
       "      <th>2</th>\n",
       "      <td>9.0</td>\n",
       "      <td>2009</td>\n",
       "      <td>3</td>\n",
       "      <td>2009-03-01</td>\n",
       "      <td>0</td>\n",
       "      <td>1</td>\n",
       "      <td>0</td>\n",
       "      <td>0</td>\n",
       "    </tr>\n",
       "    <tr>\n",
       "      <th>3</th>\n",
       "      <td>8.6</td>\n",
       "      <td>2009</td>\n",
       "      <td>4</td>\n",
       "      <td>2009-04-01</td>\n",
       "      <td>0</td>\n",
       "      <td>1</td>\n",
       "      <td>0</td>\n",
       "      <td>0</td>\n",
       "    </tr>\n",
       "    <tr>\n",
       "      <th>4</th>\n",
       "      <td>9.1</td>\n",
       "      <td>2009</td>\n",
       "      <td>5</td>\n",
       "      <td>2009-05-01</td>\n",
       "      <td>0</td>\n",
       "      <td>1</td>\n",
       "      <td>0</td>\n",
       "      <td>0</td>\n",
       "    </tr>\n",
       "  </tbody>\n",
       "</table>\n",
       "</div>"
      ],
      "text/plain": [
       "   unrate  Year  Month        date Latin  no_award  Latin_No  Latin_Yes\n",
       "0     8.5  2009      1  2009-01-01     0         1         0          0\n",
       "1     8.9  2009      2  2009-02-01     0         1         0          0\n",
       "2     9.0  2009      3  2009-03-01     0         1         0          0\n",
       "3     8.6  2009      4  2009-04-01     0         1         0          0\n",
       "4     9.1  2009      5  2009-05-01     0         1         0          0"
      ]
     },
     "execution_count": 11,
     "metadata": {},
     "output_type": "execute_result"
    }
   ],
   "source": [
    "style_dummies= pd.get_dummies(unemployaward_df, columns = ['Latin'])\n",
    "frames = [unemployaward_df, style_dummies]\n",
    "unemployaward_df= pd.concat(frames, axis=1)\n",
    "unemployaward_df= unemployaward_df.rename(columns= {'Latin_0':'no_award'})\n",
    "unemployaward_df = unemployaward_df.loc[:,~unemployaward_df.columns.duplicated()].copy()\n",
    "unemployaward_df = unemployaward_df.drop(columns= ['Unnamed: 0'])\n",
    "unemployaward_df.head()"
   ]
  },
  {
   "cell_type": "markdown",
   "id": "2a5abed1",
   "metadata": {},
   "source": [
    "The above cell was created to use dummy variables to determine whether or not there were awards in a given year. This was to transform categorical variables into binary variables and make it easier to run a regression."
   ]
  },
  {
   "cell_type": "code",
   "execution_count": 62,
   "id": "3d40b060",
   "metadata": {},
   "outputs": [
    {
     "name": "stdout",
     "output_type": "stream",
     "text": [
      "The slope and the intercept of the logistic regression are, respectively:\n",
      "[[0.02696205]] [-1.28312515]\n"
     ]
    }
   ],
   "source": [
    "unemployaward_df[['unrate','Latin_Yes']]\n",
    "y= unemployaward_df['Latin_Yes']\n",
    "x= unemployaward_df['unrate'].values.reshape(-1,1)\n",
    "pitbullaward_logreg = LogisticRegression()\n",
    "pitbullaward_logreg.fit(x, y)\n",
    "unemployaward_df['predict_unrate'] = pitbullaward_logreg.predict_proba(x)[:,0]\n",
    "print('The slope and the intercept of the logistic regression are, respectively:')\n",
    "print (pitbullaward_logreg.coef_, pitbullaward_logreg.intercept_)\n"
   ]
  },
  {
   "cell_type": "code",
   "execution_count": 13,
   "id": "fe8580ae",
   "metadata": {},
   "outputs": [
    {
     "data": {
      "text/plain": [
       "<AxesSubplot:xlabel='unrate', ylabel='Latin_Yes'>"
      ]
     },
     "execution_count": 13,
     "metadata": {},
     "output_type": "execute_result"
    },
    {
     "data": {
      "image/png": "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",
      "text/plain": [
       "<Figure size 432x288 with 1 Axes>"
      ]
     },
     "metadata": {
      "needs_background": "light"
     },
     "output_type": "display_data"
    }
   ],
   "source": [
    "seaborn.scatterplot (data= unemployaward_df, x = unemployaward_df['unrate'], y = unemployaward_df['Latin_Yes'], hue= unemployaward_df['predict_unrate'])"
   ]
  },
  {
   "cell_type": "markdown",
   "id": "d52d9e72",
   "metadata": {},
   "source": [
    "The above logistical regression reveals that for every Latin award, the unemployment rate decreases by -1.28312515. Nevertheless, this is countered by the many more no awards, which increases the numbers a lot more. Additionally, all of the \"yes awards\" are clustered tightly around certain unemployment rates, because they were all released at the same time. What I was thinking about the relevancy of Pitbull's success with the Latin awards was that historically he's more popular with a Latin fanbase and they were also more impacted by the Great Recession in the United States-- with an increase of 2.9% overall for their unemployment, as opposed to merely 2.0% for the rest of the population. While this may have to do more with scale, we were trying to see that if he won more Latin awards, it might be an indicator of lowered unemployment and more listening.\n",
    "\n",
    "Nevertheless, while there is a spread in the predicted unemployment rate, I think it would not be erroneous to chalk that up to changing employment tides from 2009 to 2018. As a prolific musical artist with a long career, I think we definetely can say that he won a lot of awards during a tumultuous time, something that this regression indicates. "
   ]
  },
  {
   "cell_type": "code",
   "execution_count": 14,
   "id": "32162843",
   "metadata": {},
   "outputs": [
    {
     "name": "stdout",
     "output_type": "stream",
     "text": [
      "Latin award total count:\n",
      "36\n",
      "US award total count:\n",
      "11\n",
      "Average unemployment rate between 2009-2018:\n",
      "7.166433566433566\n",
      "Std unemployment rate between 2009-2018:\n",
      "1.819918898361088\n"
     ]
    }
   ],
   "source": [
    "print('Latin award total count:')\n",
    "print (unemployaward_df.loc[unemployaward_df.Latin == 'Yes', 'Latin'].count())\n",
    "print('US award total count:')\n",
    "print (unemployaward_df.loc[unemployaward_df.Latin == 'No', 'Latin'].count())\n",
    "print('Average unemployment rate between 2009-2018:')\n",
    "print (unemployaward_df['unrate'].mean())\n",
    "print('Std unemployment rate between 2009-2018:')\n",
    "print (unemployaward_df['unrate'].std())"
   ]
  },
  {
   "cell_type": "markdown",
   "id": "18e3d1de",
   "metadata": {},
   "source": [
    "The above cell will be utilized when we're doing the cdf on the Latin Award counts-- in particular, to determine both the mean and standard deviation. We will use the mean and standard deviation to determine the probabilities of an award in a given year and their counts. The latter two lines of code (the avg unemployment rate and the standard deviation of unemployment) will be used to plot a cdf distribution, to find if the unemployment rate during a year's awards season is statisically significant and to evaluate the mulititude of probabilities are included under his success and what it means for the economy. We will be performing a cdf on these values. "
   ]
  },
  {
   "cell_type": "code",
   "execution_count": 15,
   "id": "182dbdd8",
   "metadata": {},
   "outputs": [],
   "source": [
    "pitbull_latin_year_df = unemployaward_df.groupby([\"Year\"]).Latin_Yes.sum().reset_index()\n",
    "pitbull_us_year_df = unemployaward_df.groupby([\"Year\"]).Latin_No.sum().reset_index()"
   ]
  },
  {
   "cell_type": "code",
   "execution_count": 16,
   "id": "f35f13f1",
   "metadata": {},
   "outputs": [
    {
     "name": "stdout",
     "output_type": "stream",
     "text": [
      "   Year  Latin_Yes  latin_award_zscore\n",
      "0  2009          1           -0.749308\n",
      "1  2010          2           -0.461112\n",
      "2  2011          7            0.979864\n",
      "3  2012         10            1.844449\n",
      "4  2013          9            1.556254\n",
      "5  2014          1           -0.749308\n",
      "6  2015          0           -1.037503\n",
      "7  2016          3           -0.172917\n",
      "8  2017          2           -0.461112\n",
      "9  2018          1           -0.749308\n",
      "   Year  Latin_No  us_award_zscore\n",
      "0  2009         0        -0.697097\n",
      "1  2010         0        -0.697097\n",
      "2  2011         2         0.570352\n",
      "3  2012         5         2.471525\n",
      "4  2013         2         0.570352\n",
      "5  2014         2         0.570352\n",
      "6  2015         0        -0.697097\n",
      "7  2016         0        -0.697097\n",
      "8  2017         0        -0.697097\n",
      "9  2018         0        -0.697097\n"
     ]
    }
   ],
   "source": [
    "pitbull_latin_year_df['latin_award_zscore'] = stats.zscore(pitbull_latin_year_df['Latin_Yes'])\n",
    "pitbull_us_year_df['us_award_zscore'] = stats.zscore(pitbull_us_year_df['Latin_No'])\n",
    "print (pitbull_latin_year_df)\n",
    "print (pitbull_us_year_df)"
   ]
  },
  {
   "cell_type": "markdown",
   "id": "152258b0",
   "metadata": {},
   "source": [
    "We calculated the z scores to determine the probability in the following steps. This is because we can input the z-scores into a cdf to get probabilities of Pitbull recieving an award in a given year"
   ]
  },
  {
   "cell_type": "code",
   "execution_count": 17,
   "id": "adfa5973",
   "metadata": {},
   "outputs": [
    {
     "name": "stdout",
     "output_type": "stream",
     "text": [
      "5.1001089312985375\n",
      "0.7659574468085106\n"
     ]
    }
   ],
   "source": [
    "year_frames= [pitbull_latin_year_df, pitbull_us_year_df]\n",
    "both_years_df= pd.concat(year_frames, axis=1)\n",
    "both_years_df['Award']= both_years_df['Latin_Yes']+both_years_df['Latin_No']\n",
    "std= both_years_df['Award'].std()\n",
    "mean= (36/47)\n",
    "print (std)\n",
    "print(mean)\n"
   ]
  },
  {
   "cell_type": "code",
   "execution_count": 18,
   "id": "56acd9d7",
   "metadata": {},
   "outputs": [
    {
     "name": "stdout",
     "output_type": "stream",
     "text": [
      "[38.319 40.493 51.673 58.374 56.157 38.319 36.181 42.697 40.493 38.319]\n"
     ]
    }
   ],
   "source": [
    "probabilites= norm.cdf(pitbull_latin_year_df['latin_award_zscore'], loc= 0.7659574468085106, scale= 5.1001089312985375)\n",
    "print (str(probabilites.round(5) * 100))"
   ]
  },
  {
   "cell_type": "markdown",
   "id": "6ff13420",
   "metadata": {},
   "source": [
    "The above code reveals that we got these probabilities from a cdf that he would recieve the number of awards he did in these years, inputting the standard deviation as our scale and the mean as our loc. We can use these probabilites to compare with the unemployment rate probability around the same time, and see if there's overlap in the probabilities."
   ]
  },
  {
   "cell_type": "code",
   "execution_count": 19,
   "id": "55cbf5d1",
   "metadata": {},
   "outputs": [
    {
     "name": "stdout",
     "output_type": "stream",
     "text": [
      "     unrate  Year  Month        date Latin  no_award  Latin_No  Latin_Yes  \\\n",
      "8       9.5  2009      9  2009-09-01   Yes         0         0          1   \n",
      "20      9.2  2010      9  2010-09-01   Yes         0         0          1   \n",
      "34      8.8  2011      9  2011-09-01   Yes         0         0          1   \n",
      "56      7.6  2012      9  2012-09-01   Yes         0         0          1   \n",
      "78      7.0  2013      9  2013-09-01   Yes         0         0          1   \n",
      "99      5.7  2014      9  2014-09-01   Yes         0         0          1   \n",
      "111     4.9  2015      9  2015-09-01     0         1         0          0   \n",
      "123     4.8  2016      9  2016-09-01   Yes         0         0          1   \n",
      "137     4.1  2017      9  2017-09-01   Yes         0         0          1   \n",
      "142     3.6  2018      9  2018-09-01   Yes         0         0          1   \n",
      "\n",
      "     predict_unrate  \n",
      "8          0.736331  \n",
      "20         0.737898  \n",
      "34         0.739979  \n",
      "56         0.746156  \n",
      "78         0.749208  \n",
      "99         0.755736  \n",
      "111        0.759696  \n",
      "123        0.760187  \n",
      "137        0.763611  \n",
      "142        0.766036  \n"
     ]
    }
   ],
   "source": [
    "avg2009= unemployaward_df[unemployaward_df.date == '2009-09-01']\n",
    "avg2010= unemployaward_df[unemployaward_df.date == '2010-09-01']\n",
    "avg2011= unemployaward_df[unemployaward_df.date == '2011-09-01']\n",
    "avg2012= unemployaward_df[unemployaward_df.date == '2012-09-01']\n",
    "avg2013= unemployaward_df[unemployaward_df.date == '2013-09-01']\n",
    "avg2014= unemployaward_df[unemployaward_df.date == '2014-09-01']\n",
    "avg2015= unemployaward_df[unemployaward_df.date == '2015-09-01']\n",
    "avg2016= unemployaward_df[unemployaward_df.date == '2016-09-01']\n",
    "avg2017= unemployaward_df[unemployaward_df.date == '2017-09-01']\n",
    "avg2018= unemployaward_df[unemployaward_df.date == '2018-09-01']\n",
    "frames = [avg2009, avg2010, avg2011, avg2012, avg2013, avg2014, avg2015, avg2016, avg2017, avg2018]\n",
    "result = pd.concat(frames)\n",
    "result = result.drop_duplicates()\n",
    "pd.to_datetime(result['date'])\n",
    "print (result)"
   ]
  },
  {
   "cell_type": "markdown",
   "id": "19dfcf66",
   "metadata": {},
   "source": [
    "We got the unemployment rate from the months that he got his awards, and will use them when plotting the axvlines. "
   ]
  },
  {
   "cell_type": "code",
<<<<<<< HEAD
   "execution_count": 120,
=======
   "execution_count": 20,
>>>>>>> a3a44b06bbaf2996115985aa174439e2e5cdd126
   "id": "0ae5c4ea",
   "metadata": {},
   "outputs": [
    {
     "data": {
<<<<<<< HEAD
      "image/png": "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",
=======
      "image/png": "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",
>>>>>>> a3a44b06bbaf2996115985aa174439e2e5cdd126
      "text/plain": [
       "<Figure size 432x288 with 2 Axes>"
      ]
     },
     "metadata": {},
     "output_type": "display_data"
    }
   ],
   "source": [
    "awardsimplecomp_df= simplecomp_df.loc[simplecomp_df['date'].between('2009-01-01', '2018-12-01')]\n",
    "y = np.asarray(awardsimplecomp_df['date'], dtype='datetime64[s]')\n",
    "fig = plt.figure()\n",
    "ax=fig.add_subplot(111, label=\"1\")\n",
    "ax.scatter(y,'unrate', data=awardsimplecomp_df)\n",
    "plt.xticks(rotation=60)\n",
    "plt.xlabel ('Date')\n",
    "plt.ylabel (\"Unemployment Rate\")\n",
    "\n",
    "x_values=[2009,2010,2011,2012,2013, 2014, 2015, 2016, 2017, 2018]\n",
    "y_values_awards=[1, 2, 7, 10, 9, 1, 0, 3, 2, 1]\n",
    "\n",
    "ax2= fig.add_subplot(111, label=\"2\", frame_on=False)\n",
    "ax2.scatter(x_values, y_values_awards, color=\"C1\")\n",
    "ax2.xaxis.tick_top()\n",
    "ax2.yaxis.tick_right()\n",
    "ax2.set_ylabel('Number of Awards', color=\"C1\")       \n",
    "ax2.xaxis.set_label_position('top') \n",
    "ax2.yaxis.set_label_position('right') \n",
    "ax2.tick_params(axis='x', colors=\"C1\")\n",
    "ax2.tick_params(axis='y', colors=\"C1\")\n",
    "\n",
    "intervalvalue2009= (2009)\n",
    "intervalvalue2010= (2010)\n",
    "intervalvalue2011= (2011)\n",
    "intervalvalue2012= (2012)\n",
    "intervalvalue2013= (2013)\n",
    "intervalvalue2014= (2014)\n",
    "intervalvalue2015= (2015)\n",
    "intervalvalue2016= (2016)\n",
    "intervalvalue2017= (2017)\n",
    "intervalvalue2018= (2018)\n",
    "line1= plt.axvline(intervalvalue2009, color='C1', linestyle=':')\n",
    "line2= plt.axvline(intervalvalue2010, color='C1', linestyle=':')\n",
    "line3= plt.axvline(intervalvalue2011, color='C1', linestyle=':')\n",
    "line4= plt.axvline(intervalvalue2012, color='C1', linestyle=':')\n",
    "line5= plt.axvline(intervalvalue2013, color='C1', linestyle=':')\n",
    "line6= plt.axvline(intervalvalue2014, color='C1', linestyle=':')\n",
    "line7= plt.axvline(intervalvalue2015, color='C1', linestyle=':')\n",
    "line8= plt.axvline(intervalvalue2016, color='C1', linestyle=':')\n",
    "line9= plt.axvline(intervalvalue2017, color='C1', linestyle=':')\n",
    "line10= plt.axvline(intervalvalue2018, color='C1', linestyle=':')\n"
   ]
  },
  {
   "cell_type": "markdown",
   "id": "38a28912",
   "metadata": {},
   "source": [
    "I thought the above plot would be a useful visualizer in seeing why we thought it would be interesting to measure him as an artist. With his rise to fame and peak as a solo artist during what can arguably be considered the height of a modern American depression, and a teetering off during economic recovery, it seemed interesting to evaluate how this came to be. It seems apropos that people would like to listen to his fun music during time of economic strife, especially within communities that were hit particularly hard. Hailing from Florida, Pitbull's homestate was hit particularly hard by housing crisis of 2008. With foreclosures ballooning, and housing prices stabilizing along with cheap debt in the late 2010s, it was interesting to see how much economic recovery seemed to correspond with a drop in awards."
   ]
  },
  {
   "cell_type": "code",
   "execution_count": 21,
   "id": "dbbd4da9",
   "metadata": {},
   "outputs": [
    {
     "name": "stdout",
     "output_type": "stream",
     "text": [
      "90.012% is the probability for 2009\n"
     ]
    }
   ],
   "source": [
    "result_2009= norm.cdf(9.5, 7.166433566433566, 1.819918898361088)\n",
    "answer= result_2009*100\n",
    "print (str(answer.round(3))+ \"% is the probability for 2009\")"
   ]
  },
  {
   "cell_type": "code",
   "execution_count": 22,
   "id": "9f26210f",
   "metadata": {},
   "outputs": [
    {
     "name": "stdout",
     "output_type": "stream",
     "text": [
      "86.809% is the probability for 2010\n"
     ]
    }
   ],
   "source": [
    "result_2010= norm.cdf(9.2, 7.166433566433566, 1.819918898361088)\n",
    "answer= result_2010*100\n",
    "print (str(answer.round(3))+ \"% is the probability for 2010\")"
   ]
  },
  {
   "cell_type": "code",
   "execution_count": 23,
   "id": "148d8288",
   "metadata": {},
   "outputs": [
    {
     "name": "stdout",
     "output_type": "stream",
     "text": [
      "81.53% is the probability for 2011\n"
     ]
    }
   ],
   "source": [
    "result_2011= norm.cdf(8.8, 7.166433566433566, 1.819918898361088)\n",
    "answer= result_2011*100\n",
    "print (str(answer.round(3))+ \"% is the probability for 2011\")"
   ]
  },
  {
   "cell_type": "code",
   "execution_count": 24,
   "id": "03c6aa7a",
   "metadata": {},
   "outputs": [
    {
     "name": "stdout",
     "output_type": "stream",
     "text": [
      "59.415% is the probability for 2012\n"
     ]
    }
   ],
   "source": [
    "result_2012= norm.cdf(7.6, 7.166433566433566, 1.819918898361088)\n",
    "answer= result_2012*100\n",
    "print (str(answer.round(3))+ \"% is the probability for 2012\")"
   ]
  },
  {
   "cell_type": "code",
   "execution_count": 25,
   "id": "064fa2a1",
   "metadata": {},
   "outputs": [
    {
     "name": "stdout",
     "output_type": "stream",
     "text": [
      "46.357% is the probability for 2013\n"
     ]
    }
   ],
   "source": [
    "result_2013= norm.cdf(7.0, 7.166433566433566, 1.819918898361088)\n",
    "answer= result_2013*100\n",
    "print (str(answer.round(3))+ \"% is the probability for 2013\")"
   ]
  },
  {
   "cell_type": "code",
   "execution_count": 26,
   "id": "edecd404",
   "metadata": {},
   "outputs": [
    {
     "name": "stdout",
     "output_type": "stream",
     "text": [
      "21.019% is the probability for 2014\n"
     ]
    }
   ],
   "source": [
    "result_2014= norm.cdf(5.7, 7.166433566433566, 1.819918898361088)\n",
    "answer= result_2014*100\n",
    "print (str(answer.round(3))+ \"% is the probability for 2014\")"
   ]
  },
  {
   "cell_type": "code",
   "execution_count": 27,
   "id": "957a7ff2",
   "metadata": {},
   "outputs": [
    {
     "name": "stdout",
     "output_type": "stream",
     "text": [
      "10.65% is the probability for 2015\n"
     ]
    }
   ],
   "source": [
    "result_2015= norm.cdf(4.9, 7.166433566433566, 1.819918898361088)\n",
    "answer= result_2015*100\n",
    "print (str(answer.round(3))+ \"% is the probability for 2015\")"
   ]
  },
  {
   "cell_type": "code",
   "execution_count": 28,
   "id": "a41ad665",
   "metadata": {},
   "outputs": [
    {
     "name": "stdout",
     "output_type": "stream",
     "text": [
      "9.675% is the probability for 2016\n"
     ]
    }
   ],
   "source": [
    "result_2016= norm.cdf(4.8, 7.166433566433566, 1.819918898361088)\n",
    "answer= result_2016*100\n",
    "print (str(answer.round(3))+ \"% is the probability for 2016\")"
   ]
  },
  {
   "cell_type": "code",
   "execution_count": 29,
   "id": "04355be7",
   "metadata": {},
   "outputs": [
    {
     "name": "stdout",
     "output_type": "stream",
     "text": [
      "4.6% is the probability for 2017\n"
     ]
    }
   ],
   "source": [
    "result_2017= norm.cdf(4.1, 7.166433566433566, 1.819918898361088)\n",
    "answer= result_2017*100\n",
    "print (str(answer.round(3))+ \"% is the probability for 2017\")"
   ]
  },
  {
   "cell_type": "code",
   "execution_count": 30,
   "id": "44e5bf2e",
   "metadata": {},
   "outputs": [
    {
     "name": "stdout",
     "output_type": "stream",
     "text": [
      "2.502% is the probability for 2018\n"
     ]
    }
   ],
   "source": [
    "result_2018= norm.cdf(3.6, 7.166433566433566, 1.819918898361088)\n",
    "answer= result_2018*100\n",
    "print (str(answer.round(3))+ \"% is the probability for 2018\")"
   ]
  },
  {
   "cell_type": "markdown",
   "id": "6e4cab9e",
   "metadata": {},
   "source": [
    "**Probabilities of Pitbull winning his number of Latin awards in a given year**\n",
    "\n",
    "- 38.319% is the probability for 2009\n",
    "- 40.493% is the probability for 2010\n",
    "- 51.673% is the probability for 2011\n",
    "- 58.374% is the probability for 2012\n",
    "- 56.157% is the probability for 2013\n",
    "- 38.319% is the probability for 2014 \n",
    "- 36.182% is the probability for 2015 \n",
    "- 42.697% is the probability for 2016\n",
    "- 40.493% is the probability for 2017\n",
    "- 38.319% is the probability for 2018\n",
    "\n",
    "**Probabilities of the unemployment rate during Pitbull winning Latin awards in a given year**\n",
    "\n",
    "- 90.012% is the probability for 2009\n",
    "- 86.809% is the probability for 2010\n",
    "- 81.53% is the probability for 2011\n",
    "- 59.415% is the probability for 2012\n",
    "- 46.357% is the probability for 2013\n",
    "- 21.019% is the probability for 2014\n",
    "- 10.65% is the probability for 2015\n",
    "- 9.675% is the probability for 2016\n",
    "- 4.6% is the probability for 2017\n",
    "- 2.502% is the probability for 2018"
   ]
  },
  {
   "cell_type": "code",
   "execution_count": 31,
   "id": "e04651f9",
   "metadata": {},
   "outputs": [
    {
     "data": {
      "image/png": "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",
      "text/plain": [
       "<Figure size 432x288 with 2 Axes>"
      ]
     },
     "metadata": {
      "needs_background": "light"
     },
     "output_type": "display_data"
    }
   ],
   "source": [
    "fig = plt.figure()\n",
    "ax=fig.add_subplot(111, label=\"1\")\n",
    "step=0.05\n",
    "indices = np.arange(0,1+step,step)\n",
    "latin_awards_recieved= pitbull_latin_year_df[\"Latin_Yes\"]\n",
    "CDF = pd.DataFrame({'dummy':latin_awards_recieved})['dummy'].quantile(indices)\n",
    "ax.plot(CDF,linewidth=3, label='awards', color='pink')\n",
    "plt.xlabel ('Probability of Latin Award Per Year')\n",
    "plt.ylabel (\"Maximum Number of Awards Won in Given Year\")\n",
    "\n",
    "ax2= fig.add_subplot(111, label=\"2\", frame_on=False)\n",
    "x_values=[2009,2010,2011,2012,2013, 2014, 2015, 2016, 2017, 2018]\n",
    "y_values_awards=[38.319, 40.493, 51.673, 58.374, 56.157, 38.319, 36.181, 42.697, 40.493, 38.319]\n",
    "ax2.scatter(x_values, y_values_awards, color=\"red\")\n",
    "ax2.xaxis.tick_top()\n",
    "ax2.yaxis.tick_right()\n",
    "ax2.set_ylabel('Computed CDFs', color=\"red\")       \n",
    "ax2.xaxis.set_label_position('top') \n",
    "ax2.yaxis.set_label_position('right') \n",
    "ax2.tick_params(axis='x', colors=\"red\")\n",
    "ax2.tick_params(axis='y', colors=\"red\")"
   ]
  },
  {
   "cell_type": "markdown",
   "id": "a34ccf9d",
   "metadata": {},
   "source": [
    "This graph is inidicative of very skewed model with a lot of outliers. With such a drastic divot in the center, this cdf plot lets us know how much more data we needed to make a significant discovery. The lacksadasical tilt of this curve indicates high variabiltiy and and wide ranges of values-- something we most definetely recognized in our data sets. Moreover, our calculated cdfs did not align with this curve, which was interesting because it should be a much more rounded curve, which we could probably obtain by getting more data. "
   ]
  },
  {
   "cell_type": "code",
   "execution_count": 32,
   "id": "aa87ae45",
   "metadata": {},
   "outputs": [
    {
     "data": {
      "image/png": "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",
      "text/plain": [
       "<Figure size 432x288 with 2 Axes>"
      ]
     },
     "metadata": {
      "needs_background": "light"
     },
     "output_type": "display_data"
    }
   ],
   "source": [
    "fig = plt.figure()\n",
    "step=0.05\n",
    "indices = np.arange(0,1+step,step)\n",
    "unrate= awardsimplecomp_df[\"unrate\"]\n",
    "CDF = pd.DataFrame({'dummy': unrate})['dummy'].quantile(indices)\n",
    "plt.plot(CDF,linewidth=3, label='awards', color='blue')\n",
    "plt.xlabel ('The Improbable Decline Into Unemployment')\n",
    "plt.ylabel (\"Maximum Unemployment\")\n",
    "\n",
    "ax3= fig.add_subplot(111, label=\"3\", frame_on=False)\n",
    "x_values=[2009,2010,2011,2012,2013, 2014, 2015, 2016, 2017, 2018]\n",
    "y_values=[90.012, 86.809, 81.53, 59.415, 46.357, 21.019, 10.65, 9.675, 4.6, 2.502]\n",
    "ax3.scatter(x_values, y_values, color=\"g\")\n",
    "ax3.xaxis.tick_top()\n",
    "ax3.yaxis.tick_right()\n",
    "ax3.set_ylabel('Computed CDFs', color=\"g\")       \n",
    "ax3.xaxis.set_label_position('top') \n",
    "ax3.yaxis.set_label_position('right') \n",
    "ax3.tick_params(axis='x', colors=\"g\")\n",
    "ax3.tick_params(axis='y', colors=\"g\")"
   ]
  },
  {
   "cell_type": "markdown",
   "id": "bbc3e5b5",
   "metadata": {},
   "source": [
    "Ultimately, these cdfs are incredibly valuable, not only in their ability to (not) tell us about Pitbull, but also about how to evaluate data. With such skewed, unreliable, and misscaled data, it was imperative that we found a distribution that was continuous and normalized-- allowing us to account for real values and real probabilities. Ultimately, though, much of the work computed was not the most useful-- in a predictive sense or in a statistical sense. Moreover, it was interesting to see the unemployment cdf as incredibly steep, especially considering how it's a stepwise function. It's also cool to see how it's very much an inverse of the ppf.These helped us visualize the trajectory of American unemployment compared with Pitbull's career success."
   ]
  },
  {
   "cell_type": "code",
   "execution_count": 33,
   "id": "6f5838ed",
   "metadata": {},
   "outputs": [
    {
     "data": {
      "text/html": [
       "<div>\n",
       "<style scoped>\n",
       "    .dataframe tbody tr th:only-of-type {\n",
       "        vertical-align: middle;\n",
       "    }\n",
       "\n",
       "    .dataframe tbody tr th {\n",
       "        vertical-align: top;\n",
       "    }\n",
       "\n",
       "    .dataframe thead th {\n",
       "        text-align: right;\n",
       "    }\n",
       "</style>\n",
       "<table border=\"1\" class=\"dataframe\">\n",
       "  <thead>\n",
       "    <tr style=\"text-align: right;\">\n",
       "      <th></th>\n",
       "      <th>unrate</th>\n",
       "      <th>Year</th>\n",
       "      <th>Month</th>\n",
       "      <th>no_award</th>\n",
       "      <th>Latin_No</th>\n",
       "      <th>Latin_Yes</th>\n",
       "      <th>predict_unrate</th>\n",
       "    </tr>\n",
       "  </thead>\n",
       "  <tbody>\n",
       "    <tr>\n",
       "      <th>unrate</th>\n",
       "      <td>1.000000</td>\n",
       "      <td>-0.958823</td>\n",
       "      <td>-0.132585</td>\n",
       "      <td>-0.059742</td>\n",
       "      <td>0.070461</td>\n",
       "      <td>0.021397</td>\n",
       "      <td>-0.999941</td>\n",
       "    </tr>\n",
       "    <tr>\n",
       "      <th>Year</th>\n",
       "      <td>-0.958823</td>\n",
       "      <td>1.000000</td>\n",
       "      <td>-0.008362</td>\n",
       "      <td>0.082863</td>\n",
       "      <td>-0.064573</td>\n",
       "      <td>-0.050036</td>\n",
       "      <td>0.958346</td>\n",
       "    </tr>\n",
       "    <tr>\n",
       "      <th>Month</th>\n",
       "      <td>-0.132585</td>\n",
       "      <td>-0.008362</td>\n",
       "      <td>1.000000</td>\n",
       "      <td>-0.251939</td>\n",
       "      <td>-0.173524</td>\n",
       "      <td>0.379207</td>\n",
       "      <td>0.132889</td>\n",
       "    </tr>\n",
       "    <tr>\n",
       "      <th>no_award</th>\n",
       "      <td>-0.059742</td>\n",
       "      <td>0.082863</td>\n",
       "      <td>-0.251939</td>\n",
       "      <td>1.000000</td>\n",
       "      <td>-0.412568</td>\n",
       "      <td>-0.828984</td>\n",
       "      <td>0.056606</td>\n",
       "    </tr>\n",
       "    <tr>\n",
       "      <th>Latin_No</th>\n",
       "      <td>0.070461</td>\n",
       "      <td>-0.064573</td>\n",
       "      <td>-0.173524</td>\n",
       "      <td>-0.412568</td>\n",
       "      <td>1.000000</td>\n",
       "      <td>-0.167444</td>\n",
       "      <td>-0.068075</td>\n",
       "    </tr>\n",
       "    <tr>\n",
       "      <th>Latin_Yes</th>\n",
       "      <td>0.021397</td>\n",
       "      <td>-0.050036</td>\n",
       "      <td>0.379207</td>\n",
       "      <td>-0.828984</td>\n",
       "      <td>-0.167444</td>\n",
       "      <td>1.000000</td>\n",
       "      <td>-0.019468</td>\n",
       "    </tr>\n",
       "    <tr>\n",
       "      <th>predict_unrate</th>\n",
       "      <td>-0.999941</td>\n",
       "      <td>0.958346</td>\n",
       "      <td>0.132889</td>\n",
       "      <td>0.056606</td>\n",
       "      <td>-0.068075</td>\n",
       "      <td>-0.019468</td>\n",
       "      <td>1.000000</td>\n",
       "    </tr>\n",
       "  </tbody>\n",
       "</table>\n",
       "</div>"
      ],
      "text/plain": [
       "                  unrate      Year     Month  no_award  Latin_No  Latin_Yes  \\\n",
       "unrate          1.000000 -0.958823 -0.132585 -0.059742  0.070461   0.021397   \n",
       "Year           -0.958823  1.000000 -0.008362  0.082863 -0.064573  -0.050036   \n",
       "Month          -0.132585 -0.008362  1.000000 -0.251939 -0.173524   0.379207   \n",
       "no_award       -0.059742  0.082863 -0.251939  1.000000 -0.412568  -0.828984   \n",
       "Latin_No        0.070461 -0.064573 -0.173524 -0.412568  1.000000  -0.167444   \n",
       "Latin_Yes       0.021397 -0.050036  0.379207 -0.828984 -0.167444   1.000000   \n",
       "predict_unrate -0.999941  0.958346  0.132889  0.056606 -0.068075  -0.019468   \n",
       "\n",
       "                predict_unrate  \n",
       "unrate               -0.999941  \n",
       "Year                  0.958346  \n",
       "Month                 0.132889  \n",
       "no_award              0.056606  \n",
       "Latin_No             -0.068075  \n",
       "Latin_Yes            -0.019468  \n",
       "predict_unrate        1.000000  "
      ]
     },
     "execution_count": 33,
     "metadata": {},
     "output_type": "execute_result"
    }
   ],
   "source": [
    "corr_matrix = unemployaward_df.corr()\n",
    "corr_matrix"
   ]
  },
  {
   "cell_type": "markdown",
   "id": "7b84ad43",
   "metadata": {},
   "source": [
    "The correlation matrix does not prove our hypothesis, because we're looking for correlation between the Latin Yes and unemployment rate. A -0.354744 value is not indicative of any real correlation. Also, our predicted model does not prove adaquete correlation for the actual Latin Yes, so it's quite bad."
   ]
  },
  {
   "cell_type": "markdown",
   "id": "31f47520",
   "metadata": {},
   "source": [
    "#### Hypothesis #2\n",
    "\n",
    "Given a host of variables in our unemployment data-- age range of those unemployed, their gender, and the cumulative unemployment rate-- we can predict whether or not Pitbull would make it onto the Billboard Charts.\n",
    " - Intially, we said we would do a train-test split logistical regression to see if we can train the data set on unemployment-- given a host of variables-- to see if we can predict Pitbull's chart success, as well as understand the relationship and effect different variables have on Pitbull chart success\n",
    " - Per feedback, we will utilize K-Folds instead"
   ]
  },
  {
   "cell_type": "code",
   "execution_count": 34,
   "id": "bdcfe0fa",
   "metadata": {},
   "outputs": [],
   "source": [
    "simplecomp_df = pd.read_csv('simplecomp_df.csv')\n",
    "simplecomp_df= simplecomp_df.loc[simplecomp_df['date'].between('2004-01-01', '2014-06-01')]"
   ]
  },
  {
   "cell_type": "code",
   "execution_count": 35,
   "id": "f24da1da",
   "metadata": {},
   "outputs": [
    {
     "name": "stdout",
     "output_type": "stream",
     "text": [
      "F1 scores:\n",
      "[0.78362573 0.96517413]\n",
      "F1 mean scores:\n",
      "0.8743999301736929\n",
      "F1 scores standard deviation:\n",
      "0.09077419917954077\n"
     ]
    }
   ],
   "source": [
    "estimator= LogisticRegression()\n",
    "list_of_variables= ['unrate', 'unrate_20_to_24', 'unrate_men', 'unrate_55_over']\n",
    "kf = KFold(n_splits= 2, shuffle= False)\n",
    "x= simplecomp_df[list_of_variables]\n",
    "y= simplecomp_df['appearance']\n",
    "my_scorer = 'f1'\n",
    "result = cross_val_score(estimator, x, y, cv= kf, scoring= my_scorer)\n",
    "print ('F1 scores:')\n",
    "print (result)\n",
    "print ('F1 mean scores:')\n",
    "print (np.mean(result))\n",
    "print ('F1 scores standard deviation:')\n",
    "print (np.std(result))"
   ]
  },
  {
   "cell_type": "code",
   "execution_count": 36,
   "id": "7d366e12",
   "metadata": {},
   "outputs": [
    {
     "name": "stdout",
     "output_type": "stream",
     "text": [
      "F1 scores:\n",
      "[0.78362573 0.96517413]\n",
      "F1 mean scores:\n",
      "0.8743999301736929\n",
      "F1 scores standard deviation:\n",
      "0.09077419917954077\n"
     ]
    }
   ],
   "source": [
    "estimator= LogisticRegression()\n",
    "list_of_variables= ['unrate_20_to_24', 'unrate']\n",
    "kf = KFold(n_splits= 2, shuffle= False)\n",
    "x= simplecomp_df[list_of_variables]\n",
    "y= simplecomp_df['appearance']\n",
    "my_scorer = 'f1'\n",
    "new_result = cross_val_score(estimator, x, y, cv= kf, scoring= my_scorer)\n",
    "print ('F1 scores:')\n",
    "print (new_result)\n",
    "print ('F1 mean scores:')\n",
    "print (np.mean(new_result))\n",
    "print ('F1 scores standard deviation:')\n",
    "print (np.std(new_result))"
   ]
  },
  {
   "cell_type": "markdown",
   "id": "faa04627",
   "metadata": {},
   "source": [
    "When sampling with replacement, these K-folds proved to be quite useful in measuring the accuracy of our logistic regression model, especially considering our small sample size. We wanted to avoid multicollinearity, and so the first piece of code includes more variables and the latter has fewer. We wanted to take sex, the total unemployment rate, and different age groups into account when measuring our model for the first K-fold. For the latter, we dropped sex from consideration so that we could form something more conclusive of the population as a whole. From this, our F1 score improved marginally from the second time around, with a lower standard deviation. \n",
    "\n",
    "We did this because we were thinking about how certain groups and their unemployment rates could impact whether or not they listen to Pitbull. With a listener demographic that skews younger, we wanted to see from the first K-fold to the second K-fold whether the F1 score would change. With the second K-fold including only cumulative unemployment rates and the unemployment rates of those between the ages of 20 and 24, we wanted to see if their employment status could be an indicator of listening to Pitbull and his chart success.\n",
    "\n",
    "Nevertheless, we luckily expanded our data set greatly just a few short days ago (because due to a small error in data cleaning, we had clamped our dataset unnecessarily) and reran the model, finding spectacularly (and without multicollinearity) that it is incredibly precise. With the inclusion of much more Billboard data, we discovered that while Pitbull couldn't predict unemployment, unemployment could predict Pitbull's success. Our old hypothesis regarding inclusions of a younger demographic proved wrong, as dropping additional variables for collinearity's sake did nothing. Moreover, we were able to predict with fairly good precision and recall on our first time around with our K-folds and even better the second time."
   ]
  },
  {
   "cell_type": "markdown",
   "id": "d77dd37b",
   "metadata": {},
   "source": [
    "#### Hypothesis #3\n",
    "We want to know the magnitude of the effect, if any, that the unemployment rate on a given month, both total average per month and by different categories, has on Pitbull popularity as measured by search trends. We do this by testing the hypothesis that the coefficients on the different unemployment measures are zero, having no effect on search term popularity. \n",
    "* We run a linear regression since the dependent variable, interest index, is discrete, ranging from 7 to 100"
   ]
  },
  {
   "cell_type": "code",
   "execution_count": 37,
   "id": "bfc7877b",
   "metadata": {},
   "outputs": [],
   "source": [
    "ucomplex_df=pd.read_csv('ucomplex_df.csv')\n",
    "gtrends_df=pd.read_csv('gtrends_df.csv')"
   ]
  },
  {
   "cell_type": "code",
   "execution_count": 38,
   "id": "09fde6c7",
   "metadata": {
    "scrolled": true
   },
   "outputs": [
    {
     "data": {
      "text/html": [
       "<div>\n",
       "<style scoped>\n",
       "    .dataframe tbody tr th:only-of-type {\n",
       "        vertical-align: middle;\n",
       "    }\n",
       "\n",
       "    .dataframe tbody tr th {\n",
       "        vertical-align: top;\n",
       "    }\n",
       "\n",
       "    .dataframe thead th {\n",
       "        text-align: right;\n",
       "    }\n",
       "</style>\n",
       "<table border=\"1\" class=\"dataframe\">\n",
       "  <thead>\n",
       "    <tr style=\"text-align: right;\">\n",
       "      <th></th>\n",
       "      <th>Unnamed: 0</th>\n",
       "      <th>date</th>\n",
       "      <th>unrate</th>\n",
       "      <th>u_men</th>\n",
       "      <th>u_women</th>\n",
       "      <th>u16_17</th>\n",
       "      <th>u18_19</th>\n",
       "      <th>u20_24</th>\n",
       "      <th>u25_34</th>\n",
       "      <th>u35_44</th>\n",
       "      <th>u45_54</th>\n",
       "    </tr>\n",
       "  </thead>\n",
       "  <tbody>\n",
       "    <tr>\n",
       "      <th>0</th>\n",
       "      <td>0</td>\n",
       "      <td>1948-01-01</td>\n",
       "      <td>4.0</td>\n",
       "      <td>4.2</td>\n",
       "      <td>3.5</td>\n",
       "      <td>10.8</td>\n",
       "      <td>9.6</td>\n",
       "      <td>6.6</td>\n",
       "      <td>3.6</td>\n",
       "      <td>2.6</td>\n",
       "      <td>2.7</td>\n",
       "    </tr>\n",
       "    <tr>\n",
       "      <th>1</th>\n",
       "      <td>1</td>\n",
       "      <td>1948-02-01</td>\n",
       "      <td>4.7</td>\n",
       "      <td>4.7</td>\n",
       "      <td>4.8</td>\n",
       "      <td>15.0</td>\n",
       "      <td>9.5</td>\n",
       "      <td>8.0</td>\n",
       "      <td>4.0</td>\n",
       "      <td>3.2</td>\n",
       "      <td>3.4</td>\n",
       "    </tr>\n",
       "    <tr>\n",
       "      <th>2</th>\n",
       "      <td>2</td>\n",
       "      <td>1948-03-01</td>\n",
       "      <td>4.5</td>\n",
       "      <td>4.5</td>\n",
       "      <td>4.4</td>\n",
       "      <td>13.2</td>\n",
       "      <td>9.3</td>\n",
       "      <td>8.6</td>\n",
       "      <td>3.5</td>\n",
       "      <td>3.2</td>\n",
       "      <td>2.9</td>\n",
       "    </tr>\n",
       "    <tr>\n",
       "      <th>3</th>\n",
       "      <td>3</td>\n",
       "      <td>1948-04-01</td>\n",
       "      <td>4.0</td>\n",
       "      <td>4.0</td>\n",
       "      <td>4.1</td>\n",
       "      <td>9.9</td>\n",
       "      <td>8.1</td>\n",
       "      <td>6.8</td>\n",
       "      <td>3.5</td>\n",
       "      <td>3.1</td>\n",
       "      <td>2.9</td>\n",
       "    </tr>\n",
       "    <tr>\n",
       "      <th>4</th>\n",
       "      <td>4</td>\n",
       "      <td>1948-05-01</td>\n",
       "      <td>3.4</td>\n",
       "      <td>3.3</td>\n",
       "      <td>3.4</td>\n",
       "      <td>6.4</td>\n",
       "      <td>7.2</td>\n",
       "      <td>6.3</td>\n",
       "      <td>2.8</td>\n",
       "      <td>2.5</td>\n",
       "      <td>2.3</td>\n",
       "    </tr>\n",
       "  </tbody>\n",
       "</table>\n",
       "</div>"
      ],
      "text/plain": [
       "   Unnamed: 0        date  unrate  u_men  u_women  u16_17  u18_19  u20_24  \\\n",
       "0           0  1948-01-01     4.0    4.2      3.5    10.8     9.6     6.6   \n",
       "1           1  1948-02-01     4.7    4.7      4.8    15.0     9.5     8.0   \n",
       "2           2  1948-03-01     4.5    4.5      4.4    13.2     9.3     8.6   \n",
       "3           3  1948-04-01     4.0    4.0      4.1     9.9     8.1     6.8   \n",
       "4           4  1948-05-01     3.4    3.3      3.4     6.4     7.2     6.3   \n",
       "\n",
       "   u25_34  u35_44  u45_54  \n",
       "0     3.6     2.6     2.7  \n",
       "1     4.0     3.2     3.4  \n",
       "2     3.5     3.2     2.9  \n",
       "3     3.5     3.1     2.9  \n",
       "4     2.8     2.5     2.3  "
      ]
     },
     "execution_count": 38,
     "metadata": {},
     "output_type": "execute_result"
    }
   ],
   "source": [
    "ucomplex_df.head(5)"
   ]
  },
  {
   "cell_type": "code",
   "execution_count": 39,
   "id": "9a1c8cb2",
   "metadata": {},
   "outputs": [
    {
     "data": {
      "text/html": [
       "<div>\n",
       "<style scoped>\n",
       "    .dataframe tbody tr th:only-of-type {\n",
       "        vertical-align: middle;\n",
       "    }\n",
       "\n",
       "    .dataframe tbody tr th {\n",
       "        vertical-align: top;\n",
       "    }\n",
       "\n",
       "    .dataframe thead th {\n",
       "        text-align: right;\n",
       "    }\n",
       "</style>\n",
       "<table border=\"1\" class=\"dataframe\">\n",
       "  <thead>\n",
       "    <tr style=\"text-align: right;\">\n",
       "      <th></th>\n",
       "      <th>Unnamed: 0</th>\n",
       "      <th>Interest Index</th>\n",
       "      <th>Date</th>\n",
       "      <th>Month</th>\n",
       "      <th>Year</th>\n",
       "    </tr>\n",
       "  </thead>\n",
       "  <tbody>\n",
       "    <tr>\n",
       "      <th>0</th>\n",
       "      <td>1</td>\n",
       "      <td>7</td>\n",
       "      <td>2004-01-01</td>\n",
       "      <td>1</td>\n",
       "      <td>2004</td>\n",
       "    </tr>\n",
       "    <tr>\n",
       "      <th>1</th>\n",
       "      <td>2</td>\n",
       "      <td>9</td>\n",
       "      <td>2004-02-01</td>\n",
       "      <td>2</td>\n",
       "      <td>2004</td>\n",
       "    </tr>\n",
       "    <tr>\n",
       "      <th>2</th>\n",
       "      <td>3</td>\n",
       "      <td>10</td>\n",
       "      <td>2004-03-01</td>\n",
       "      <td>3</td>\n",
       "      <td>2004</td>\n",
       "    </tr>\n",
       "    <tr>\n",
       "      <th>3</th>\n",
       "      <td>4</td>\n",
       "      <td>13</td>\n",
       "      <td>2004-04-01</td>\n",
       "      <td>4</td>\n",
       "      <td>2004</td>\n",
       "    </tr>\n",
       "    <tr>\n",
       "      <th>4</th>\n",
       "      <td>5</td>\n",
       "      <td>20</td>\n",
       "      <td>2004-05-01</td>\n",
       "      <td>5</td>\n",
       "      <td>2004</td>\n",
       "    </tr>\n",
       "  </tbody>\n",
       "</table>\n",
       "</div>"
      ],
      "text/plain": [
       "   Unnamed: 0  Interest Index        Date  Month  Year\n",
       "0           1               7  2004-01-01      1  2004\n",
       "1           2               9  2004-02-01      2  2004\n",
       "2           3              10  2004-03-01      3  2004\n",
       "3           4              13  2004-04-01      4  2004\n",
       "4           5              20  2004-05-01      5  2004"
      ]
     },
     "execution_count": 39,
     "metadata": {},
     "output_type": "execute_result"
    }
   ],
   "source": [
    "gtrends_df.head(5)"
   ]
  },
  {
   "cell_type": "code",
   "execution_count": 40,
   "id": "eeca8986",
   "metadata": {},
   "outputs": [
    {
     "name": "stdout",
     "output_type": "stream",
     "text": [
      "Returning data to local variable uandg_df\n"
     ]
    },
    {
     "data": {
      "text/html": [
       "<div>\n",
       "<style scoped>\n",
       "    .dataframe tbody tr th:only-of-type {\n",
       "        vertical-align: middle;\n",
       "    }\n",
       "\n",
       "    .dataframe tbody tr th {\n",
       "        vertical-align: top;\n",
       "    }\n",
       "\n",
       "    .dataframe thead th {\n",
       "        text-align: right;\n",
       "    }\n",
       "</style>\n",
       "<table border=\"1\" class=\"dataframe\">\n",
       "  <thead>\n",
       "    <tr style=\"text-align: right;\">\n",
       "      <th></th>\n",
       "      <th>Unnamed: 0</th>\n",
       "      <th>date</th>\n",
       "      <th>unrate</th>\n",
       "      <th>u_men</th>\n",
       "      <th>u_women</th>\n",
       "      <th>u16_17</th>\n",
       "      <th>u18_19</th>\n",
       "      <th>u20_24</th>\n",
       "      <th>u25_34</th>\n",
       "      <th>u35_44</th>\n",
       "      <th>u45_54</th>\n",
       "      <th>Unnamed: 0</th>\n",
       "      <th>Interest Index</th>\n",
       "      <th>Date</th>\n",
       "      <th>Month</th>\n",
       "      <th>Year</th>\n",
       "    </tr>\n",
       "  </thead>\n",
       "  <tbody>\n",
       "    <tr>\n",
       "      <th>0</th>\n",
       "      <td>672</td>\n",
       "      <td>2004-01-01</td>\n",
       "      <td>6.3</td>\n",
       "      <td>6.7</td>\n",
       "      <td>5.8</td>\n",
       "      <td>18.4</td>\n",
       "      <td>16.9</td>\n",
       "      <td>10.7</td>\n",
       "      <td>6.6</td>\n",
       "      <td>5.0</td>\n",
       "      <td>4.5</td>\n",
       "      <td>1</td>\n",
       "      <td>7</td>\n",
       "      <td>2004-01-01</td>\n",
       "      <td>1</td>\n",
       "      <td>2004</td>\n",
       "    </tr>\n",
       "    <tr>\n",
       "      <th>1</th>\n",
       "      <td>673</td>\n",
       "      <td>2004-02-01</td>\n",
       "      <td>6.0</td>\n",
       "      <td>6.4</td>\n",
       "      <td>5.5</td>\n",
       "      <td>17.9</td>\n",
       "      <td>16.6</td>\n",
       "      <td>10.1</td>\n",
       "      <td>6.2</td>\n",
       "      <td>4.9</td>\n",
       "      <td>4.3</td>\n",
       "      <td>2</td>\n",
       "      <td>9</td>\n",
       "      <td>2004-02-01</td>\n",
       "      <td>2</td>\n",
       "      <td>2004</td>\n",
       "    </tr>\n",
       "    <tr>\n",
       "      <th>2</th>\n",
       "      <td>674</td>\n",
       "      <td>2004-03-01</td>\n",
       "      <td>6.0</td>\n",
       "      <td>6.4</td>\n",
       "      <td>5.6</td>\n",
       "      <td>20.4</td>\n",
       "      <td>14.7</td>\n",
       "      <td>10.1</td>\n",
       "      <td>6.2</td>\n",
       "      <td>5.2</td>\n",
       "      <td>4.3</td>\n",
       "      <td>3</td>\n",
       "      <td>10</td>\n",
       "      <td>2004-03-01</td>\n",
       "      <td>3</td>\n",
       "      <td>2004</td>\n",
       "    </tr>\n",
       "    <tr>\n",
       "      <th>3</th>\n",
       "      <td>675</td>\n",
       "      <td>2004-04-01</td>\n",
       "      <td>5.4</td>\n",
       "      <td>5.6</td>\n",
       "      <td>5.1</td>\n",
       "      <td>21.1</td>\n",
       "      <td>13.3</td>\n",
       "      <td>8.7</td>\n",
       "      <td>5.4</td>\n",
       "      <td>4.3</td>\n",
       "      <td>4.0</td>\n",
       "      <td>4</td>\n",
       "      <td>13</td>\n",
       "      <td>2004-04-01</td>\n",
       "      <td>4</td>\n",
       "      <td>2004</td>\n",
       "    </tr>\n",
       "    <tr>\n",
       "      <th>4</th>\n",
       "      <td>676</td>\n",
       "      <td>2004-05-01</td>\n",
       "      <td>5.3</td>\n",
       "      <td>5.5</td>\n",
       "      <td>5.1</td>\n",
       "      <td>22.7</td>\n",
       "      <td>14.2</td>\n",
       "      <td>9.9</td>\n",
       "      <td>5.2</td>\n",
       "      <td>3.9</td>\n",
       "      <td>3.6</td>\n",
       "      <td>5</td>\n",
       "      <td>20</td>\n",
       "      <td>2004-05-01</td>\n",
       "      <td>5</td>\n",
       "      <td>2004</td>\n",
       "    </tr>\n",
       "  </tbody>\n",
       "</table>\n",
       "</div>"
      ],
      "text/plain": [
       "   Unnamed: 0        date  unrate  u_men  u_women  u16_17  u18_19  u20_24  \\\n",
       "0         672  2004-01-01     6.3    6.7      5.8    18.4    16.9    10.7   \n",
       "1         673  2004-02-01     6.0    6.4      5.5    17.9    16.6    10.1   \n",
       "2         674  2004-03-01     6.0    6.4      5.6    20.4    14.7    10.1   \n",
       "3         675  2004-04-01     5.4    5.6      5.1    21.1    13.3     8.7   \n",
       "4         676  2004-05-01     5.3    5.5      5.1    22.7    14.2     9.9   \n",
       "\n",
       "   u25_34  u35_44  u45_54  Unnamed: 0  Interest Index        Date  Month  Year  \n",
       "0     6.6     5.0     4.5           1               7  2004-01-01      1  2004  \n",
       "1     6.2     4.9     4.3           2               9  2004-02-01      2  2004  \n",
       "2     6.2     5.2     4.3           3              10  2004-03-01      3  2004  \n",
       "3     5.4     4.3     4.0           4              13  2004-04-01      4  2004  \n",
       "4     5.2     3.9     3.6           5              20  2004-05-01      5  2004  "
      ]
     },
     "execution_count": 40,
     "metadata": {},
     "output_type": "execute_result"
    }
   ],
   "source": [
    "%sql uandg_df << SELECT * FROM ucomplex_df INNER JOIN gtrends_df ON ucomplex_df.date=gtrends_df.Date\n",
    "uandg_df.head(5)"
   ]
  },
  {
   "cell_type": "code",
   "execution_count": 41,
   "id": "304b7400",
   "metadata": {},
   "outputs": [],
   "source": [
    "uandg_df.drop('Date',axis=1,inplace=True)"
   ]
  },
  {
   "cell_type": "code",
   "execution_count": 42,
   "id": "7c762e11",
   "metadata": {},
   "outputs": [],
   "source": [
    "uandg_df.drop('Unnamed: 0',axis=1,inplace=True)"
   ]
  },
  {
   "cell_type": "code",
   "execution_count": 43,
   "id": "499267dc",
   "metadata": {},
   "outputs": [
    {
     "data": {
      "text/html": [
       "<div>\n",
       "<style scoped>\n",
       "    .dataframe tbody tr th:only-of-type {\n",
       "        vertical-align: middle;\n",
       "    }\n",
       "\n",
       "    .dataframe tbody tr th {\n",
       "        vertical-align: top;\n",
       "    }\n",
       "\n",
       "    .dataframe thead th {\n",
       "        text-align: right;\n",
       "    }\n",
       "</style>\n",
       "<table border=\"1\" class=\"dataframe\">\n",
       "  <thead>\n",
       "    <tr style=\"text-align: right;\">\n",
       "      <th></th>\n",
       "      <th>date</th>\n",
       "      <th>unrate</th>\n",
       "      <th>u_men</th>\n",
       "      <th>u_women</th>\n",
       "      <th>u16_17</th>\n",
       "      <th>u18_19</th>\n",
       "      <th>u20_24</th>\n",
       "      <th>u25_34</th>\n",
       "      <th>u35_44</th>\n",
       "      <th>u45_54</th>\n",
       "      <th>Interest Index</th>\n",
       "      <th>Month</th>\n",
       "      <th>Year</th>\n",
       "    </tr>\n",
       "  </thead>\n",
       "  <tbody>\n",
       "    <tr>\n",
       "      <th>0</th>\n",
       "      <td>2004-01-01</td>\n",
       "      <td>6.3</td>\n",
       "      <td>6.7</td>\n",
       "      <td>5.8</td>\n",
       "      <td>18.4</td>\n",
       "      <td>16.9</td>\n",
       "      <td>10.7</td>\n",
       "      <td>6.6</td>\n",
       "      <td>5.0</td>\n",
       "      <td>4.5</td>\n",
       "      <td>7</td>\n",
       "      <td>1</td>\n",
       "      <td>2004</td>\n",
       "    </tr>\n",
       "    <tr>\n",
       "      <th>1</th>\n",
       "      <td>2004-02-01</td>\n",
       "      <td>6.0</td>\n",
       "      <td>6.4</td>\n",
       "      <td>5.5</td>\n",
       "      <td>17.9</td>\n",
       "      <td>16.6</td>\n",
       "      <td>10.1</td>\n",
       "      <td>6.2</td>\n",
       "      <td>4.9</td>\n",
       "      <td>4.3</td>\n",
       "      <td>9</td>\n",
       "      <td>2</td>\n",
       "      <td>2004</td>\n",
       "    </tr>\n",
       "    <tr>\n",
       "      <th>2</th>\n",
       "      <td>2004-03-01</td>\n",
       "      <td>6.0</td>\n",
       "      <td>6.4</td>\n",
       "      <td>5.6</td>\n",
       "      <td>20.4</td>\n",
       "      <td>14.7</td>\n",
       "      <td>10.1</td>\n",
       "      <td>6.2</td>\n",
       "      <td>5.2</td>\n",
       "      <td>4.3</td>\n",
       "      <td>10</td>\n",
       "      <td>3</td>\n",
       "      <td>2004</td>\n",
       "    </tr>\n",
       "    <tr>\n",
       "      <th>3</th>\n",
       "      <td>2004-04-01</td>\n",
       "      <td>5.4</td>\n",
       "      <td>5.6</td>\n",
       "      <td>5.1</td>\n",
       "      <td>21.1</td>\n",
       "      <td>13.3</td>\n",
       "      <td>8.7</td>\n",
       "      <td>5.4</td>\n",
       "      <td>4.3</td>\n",
       "      <td>4.0</td>\n",
       "      <td>13</td>\n",
       "      <td>4</td>\n",
       "      <td>2004</td>\n",
       "    </tr>\n",
       "    <tr>\n",
       "      <th>4</th>\n",
       "      <td>2004-05-01</td>\n",
       "      <td>5.3</td>\n",
       "      <td>5.5</td>\n",
       "      <td>5.1</td>\n",
       "      <td>22.7</td>\n",
       "      <td>14.2</td>\n",
       "      <td>9.9</td>\n",
       "      <td>5.2</td>\n",
       "      <td>3.9</td>\n",
       "      <td>3.6</td>\n",
       "      <td>20</td>\n",
       "      <td>5</td>\n",
       "      <td>2004</td>\n",
       "    </tr>\n",
       "  </tbody>\n",
       "</table>\n",
       "</div>"
      ],
      "text/plain": [
       "         date  unrate  u_men  u_women  u16_17  u18_19  u20_24  u25_34  u35_44  \\\n",
       "0  2004-01-01     6.3    6.7      5.8    18.4    16.9    10.7     6.6     5.0   \n",
       "1  2004-02-01     6.0    6.4      5.5    17.9    16.6    10.1     6.2     4.9   \n",
       "2  2004-03-01     6.0    6.4      5.6    20.4    14.7    10.1     6.2     5.2   \n",
       "3  2004-04-01     5.4    5.6      5.1    21.1    13.3     8.7     5.4     4.3   \n",
       "4  2004-05-01     5.3    5.5      5.1    22.7    14.2     9.9     5.2     3.9   \n",
       "\n",
       "   u45_54  Interest Index  Month  Year  \n",
       "0     4.5               7      1  2004  \n",
       "1     4.3               9      2  2004  \n",
       "2     4.3              10      3  2004  \n",
       "3     4.0              13      4  2004  \n",
       "4     3.6              20      5  2004  "
      ]
     },
     "execution_count": 43,
     "metadata": {},
     "output_type": "execute_result"
    }
   ],
   "source": [
    "uandg_df.head(5)"
   ]
  },
  {
   "cell_type": "code",
   "execution_count": 44,
   "id": "c9919738",
   "metadata": {},
   "outputs": [],
   "source": [
    "intcol=uandg_df.pop('Interest Index')\n",
    "mcol=uandg_df.pop('Month')\n",
    "ycol=uandg_df.pop('Year')\n",
    "uandg_df.insert(0, 'Year', ycol)"
   ]
  },
  {
   "cell_type": "code",
   "execution_count": 45,
   "id": "7aa4f485",
   "metadata": {},
   "outputs": [],
   "source": [
    "uandg_df.insert(1, 'Month', mcol)\n",
    "uandg_df.insert(2, 'Interest Index', intcol)"
   ]
  },
  {
   "cell_type": "code",
   "execution_count": 46,
   "id": "ab812c5f",
   "metadata": {},
   "outputs": [
    {
     "data": {
      "text/html": [
       "<div>\n",
       "<style scoped>\n",
       "    .dataframe tbody tr th:only-of-type {\n",
       "        vertical-align: middle;\n",
       "    }\n",
       "\n",
       "    .dataframe tbody tr th {\n",
       "        vertical-align: top;\n",
       "    }\n",
       "\n",
       "    .dataframe thead th {\n",
       "        text-align: right;\n",
       "    }\n",
       "</style>\n",
       "<table border=\"1\" class=\"dataframe\">\n",
       "  <thead>\n",
       "    <tr style=\"text-align: right;\">\n",
       "      <th></th>\n",
       "      <th>Year</th>\n",
       "      <th>Month</th>\n",
       "      <th>Interest Index</th>\n",
       "      <th>date</th>\n",
       "      <th>unrate</th>\n",
       "      <th>u_men</th>\n",
       "      <th>u_women</th>\n",
       "      <th>u16_17</th>\n",
       "      <th>u18_19</th>\n",
       "      <th>u20_24</th>\n",
       "      <th>u25_34</th>\n",
       "      <th>u35_44</th>\n",
       "      <th>u45_54</th>\n",
       "    </tr>\n",
       "  </thead>\n",
       "  <tbody>\n",
       "    <tr>\n",
       "      <th>0</th>\n",
       "      <td>2004</td>\n",
       "      <td>1</td>\n",
       "      <td>7</td>\n",
       "      <td>2004-01-01</td>\n",
       "      <td>6.3</td>\n",
       "      <td>6.7</td>\n",
       "      <td>5.8</td>\n",
       "      <td>18.4</td>\n",
       "      <td>16.9</td>\n",
       "      <td>10.7</td>\n",
       "      <td>6.6</td>\n",
       "      <td>5.0</td>\n",
       "      <td>4.5</td>\n",
       "    </tr>\n",
       "    <tr>\n",
       "      <th>1</th>\n",
       "      <td>2004</td>\n",
       "      <td>2</td>\n",
       "      <td>9</td>\n",
       "      <td>2004-02-01</td>\n",
       "      <td>6.0</td>\n",
       "      <td>6.4</td>\n",
       "      <td>5.5</td>\n",
       "      <td>17.9</td>\n",
       "      <td>16.6</td>\n",
       "      <td>10.1</td>\n",
       "      <td>6.2</td>\n",
       "      <td>4.9</td>\n",
       "      <td>4.3</td>\n",
       "    </tr>\n",
       "    <tr>\n",
       "      <th>2</th>\n",
       "      <td>2004</td>\n",
       "      <td>3</td>\n",
       "      <td>10</td>\n",
       "      <td>2004-03-01</td>\n",
       "      <td>6.0</td>\n",
       "      <td>6.4</td>\n",
       "      <td>5.6</td>\n",
       "      <td>20.4</td>\n",
       "      <td>14.7</td>\n",
       "      <td>10.1</td>\n",
       "      <td>6.2</td>\n",
       "      <td>5.2</td>\n",
       "      <td>4.3</td>\n",
       "    </tr>\n",
       "    <tr>\n",
       "      <th>3</th>\n",
       "      <td>2004</td>\n",
       "      <td>4</td>\n",
       "      <td>13</td>\n",
       "      <td>2004-04-01</td>\n",
       "      <td>5.4</td>\n",
       "      <td>5.6</td>\n",
       "      <td>5.1</td>\n",
       "      <td>21.1</td>\n",
       "      <td>13.3</td>\n",
       "      <td>8.7</td>\n",
       "      <td>5.4</td>\n",
       "      <td>4.3</td>\n",
       "      <td>4.0</td>\n",
       "    </tr>\n",
       "    <tr>\n",
       "      <th>4</th>\n",
       "      <td>2004</td>\n",
       "      <td>5</td>\n",
       "      <td>20</td>\n",
       "      <td>2004-05-01</td>\n",
       "      <td>5.3</td>\n",
       "      <td>5.5</td>\n",
       "      <td>5.1</td>\n",
       "      <td>22.7</td>\n",
       "      <td>14.2</td>\n",
       "      <td>9.9</td>\n",
       "      <td>5.2</td>\n",
       "      <td>3.9</td>\n",
       "      <td>3.6</td>\n",
       "    </tr>\n",
       "  </tbody>\n",
       "</table>\n",
       "</div>"
      ],
      "text/plain": [
       "   Year  Month  Interest Index        date  unrate  u_men  u_women  u16_17  \\\n",
       "0  2004      1               7  2004-01-01     6.3    6.7      5.8    18.4   \n",
       "1  2004      2               9  2004-02-01     6.0    6.4      5.5    17.9   \n",
       "2  2004      3              10  2004-03-01     6.0    6.4      5.6    20.4   \n",
       "3  2004      4              13  2004-04-01     5.4    5.6      5.1    21.1   \n",
       "4  2004      5              20  2004-05-01     5.3    5.5      5.1    22.7   \n",
       "\n",
       "   u18_19  u20_24  u25_34  u35_44  u45_54  \n",
       "0    16.9    10.7     6.6     5.0     4.5  \n",
       "1    16.6    10.1     6.2     4.9     4.3  \n",
       "2    14.7    10.1     6.2     5.2     4.3  \n",
       "3    13.3     8.7     5.4     4.3     4.0  \n",
       "4    14.2     9.9     5.2     3.9     3.6  "
      ]
     },
     "execution_count": 46,
     "metadata": {},
     "output_type": "execute_result"
    }
   ],
   "source": [
    "uandg_df.head(5)"
   ]
  },
  {
   "cell_type": "code",
   "execution_count": 47,
   "id": "d4bbb06f",
   "metadata": {},
   "outputs": [],
   "source": [
    "from sklearn.metrics import mean_squared_error\n",
    "def run_regression(lst,train,test,name):\n",
    "    model=LinearRegression().fit(train[lst], train[name])\n",
    "    \n",
    "    trainpre=model.predict(train[lst])\n",
    "    testpre=model.predict(test[lst])\n",
    "\n",
    "    trainrmse=np.sqrt(mean_squared_error(trainpre,train[name]))\n",
    "    testrmse=np.sqrt(mean_squared_error(testpre,test[name]))\n",
    "    \n",
    "    trainmae=np.mean(np.abs(train[name]-trainpre))\n",
    "    testmae=np.mean(np.abs(test[name]-testpre))\n",
    "    \n",
    "    print(\"input: \",lst)\n",
    "    print(\"coefficient: \",model.coef_)\n",
    "    print(\"intercept:\", model.intercept_)\n",
    "    print(\"train RMSE: \",trainrmse)\n",
    "    print(\"test RMSE: \",testrmse)\n",
    "    print(\"train MAE: \",trainmae)\n",
    "    print(\"test MAE: \",testmae)\n",
    "    return model"
   ]
  },
  {
   "cell_type": "code",
   "execution_count": 53,
   "id": "c6b71e36",
   "metadata": {},
   "outputs": [],
   "source": [
    "ug_train, ug_test = train_test_split(uandg_df, test_size=.1)"
   ]
  },
  {
   "cell_type": "markdown",
   "id": "53d36448",
   "metadata": {},
   "source": [
    "Our first regression will be a general regression, where our dependent variable is 'Interest Index' and our independent variable is 'unrate' (unemployment rate)"
   ]
  },
  {
   "cell_type": "code",
   "execution_count": 56,
   "id": "ed3fc6f7",
   "metadata": {},
   "outputs": [
    {
     "name": "stdout",
     "output_type": "stream",
     "text": [
      "input:  ['unrate']\n",
      "coefficient:  [5.01458851]\n",
      "intercept: 3.867934167018941\n",
      "train RMSE:  16.80056533805565\n",
      "test RMSE:  9.816193675404463\n",
      "train MAE:  12.068246656795406\n",
      "test MAE:  7.615761948511078\n"
     ]
    }
   ],
   "source": [
    "generalreg=run_regression(['unrate'],ug_train,ug_test,'Interest Index')"
   ]
  },
  {
   "cell_type": "markdown",
   "id": "d0625bf2",
   "metadata": {},
   "source": [
    "Here, we see that our train error metrics are higher than our test error metrics, so we shouldn't be too concerned about overfitting. To interpret the coefficient on 'unrate', we can say that a 1 unit increase in the percentage of the unemployment rate corresponds to an approximately 5.015 unit increase in the interest index for the term 'Pitbull'"
   ]
  },
  {
   "cell_type": "markdown",
   "id": "15a7ba0a",
   "metadata": {},
   "source": [
    "Our second regression will be for gender categories, where the dependent variable is 'Interest Index' and the independent variable is 'u_men' (unemployment rate for men), omitting u_women to use as our reference variable"
   ]
  },
  {
   "cell_type": "code",
   "execution_count": 57,
   "id": "24b83b5a",
   "metadata": {},
   "outputs": [
    {
     "name": "stdout",
     "output_type": "stream",
     "text": [
      "input:  ['u_men']\n",
      "coefficient:  [4.63122753]\n",
      "intercept: 5.274904680242106\n",
      "train RMSE:  16.77351296843616\n",
      "test RMSE:  9.675955186979957\n",
      "train MAE:  12.291433159379434\n",
      "test MAE:  7.511145352917217\n"
     ]
    }
   ],
   "source": [
    "genderreg=run_regression(['u_men'],ug_train,ug_test,'Interest Index')"
   ]
  },
  {
   "cell_type": "markdown",
   "id": "3a761287",
   "metadata": {},
   "source": [
    "Similarly, we see that our train error metrics are higher than our test error metrics, so we shouldn't be too concerned about overfitting. To interpret the coefficient on 'u_men', we can say that a 1 unit increase in the percentage of the unemployment rate for men corresponds to an approximately 4.631 unit increase in the interest index for the term 'Pitbull', compared to the unemployment rate for women."
   ]
  },
  {
   "cell_type": "markdown",
   "id": "36060d06",
   "metadata": {},
   "source": [
    "Our third regression will be for age categories, where the dependent variable is 'Interest Index' and the independent variable is a set of unemployment rate by age categories, omitting u16_17 to use as our reference variable"
   ]
  },
  {
   "cell_type": "code",
   "execution_count": 58,
   "id": "c8bdc4fc",
   "metadata": {},
   "outputs": [
    {
     "name": "stdout",
     "output_type": "stream",
     "text": [
      "input:  ['u18_19', 'u20_24', 'u25_34', 'u35_44', 'u45_54']\n",
      "coefficient:  [ 3.98440947 -4.25850407  2.15523009 -0.22573736  1.85217534]\n",
      "intercept: -9.27538539968186\n",
      "train RMSE:  15.121864591655413\n",
      "test RMSE:  10.302101552295518\n",
      "train MAE:  11.508287014375972\n",
      "test MAE:  8.167743486850837\n"
     ]
    }
   ],
   "source": [
    "agecats=['u18_19','u20_24','u25_34','u35_44','u45_54']\n",
    "ugr=run_regression(agecats,ug_train,ug_test,'Interest Index')"
   ]
  },
  {
   "cell_type": "markdown",
   "id": "d818ad69",
   "metadata": {},
   "source": [
    "Similarly, we see that our train error metrics are higher than our test error metrics, so we shouldn't be too concerned about overfitting. To interpret the coefficient on the independent variables:"
   ]
  },
  {
   "cell_type": "markdown",
   "id": "07537c89",
   "metadata": {},
   "source": [
    "u18_19: all else equal, a 1-unit increase in percentage point in the unemployment rate for those aged between 18 and 19 corresponds to a 3.984 unit increase in the interest index for 'Pitbull', compared to the unemployment rate for those aged between 16 and 17.\n",
    "\n",
    "u20_24: all else equal, a 1-unit increase in percentage point in the unemployment rate for those aged 20 through 24 corresponds to a 4.259 unit decrease in the interest index for 'Pitbull', compared to the unemployment rate for those aged between 16 and 17.\n",
    "\n",
    "u25_34: all else equal, a 1-unit increase in percentage point in the unemployment rate for those aged 25 through 34 corresponds to a 2.155 unit incerease in the interest index for 'Pitbull', compared to the unemployment rate for those aged between 16 and 17.\n",
    "\n",
    "u35_44: all else equal, a 1-unit increase in percentage point in the unemployment rate for those aged 35 through 44 corresponds to a 0.226 unit decrease in the interest index for 'Pitbull', compared to the unemployment rate for those aged between 16 and 17.\n",
    "\n",
    "u45_54: all else equal, a 1-unit increase in percentage point in the unemployment rate for those aged 45 through 54 corresponds to a 1.852 unit increase in the interest index for 'Pitbull', compared to the unemployment rate for those aged between 16 and 17."
   ]
  },
  {
   "cell_type": "markdown",
   "id": "ff9486bb",
   "metadata": {},
   "source": [
    " Futhermore, we perform another OLS regression for all 3 regressions with the statsmodel package in order to get the full regression summary table. As mentioned in the acknowledgements, the website: https://www.statology.org/statsmodels-linear-regression-p-value/ helped us with the code below."
   ]
  },
  {
   "cell_type": "code",
   "execution_count": 51,
   "id": "c9cd8400",
   "metadata": {},
   "outputs": [],
   "source": [
    "import statsmodels.api as sm"
   ]
  },
  {
   "cell_type": "markdown",
   "id": "c444ef42",
   "metadata": {},
   "source": [
    "**First regression (general)**"
   ]
  },
  {
   "cell_type": "code",
   "execution_count": 59,
   "id": "4642995c",
   "metadata": {},
   "outputs": [
    {
     "name": "stdout",
     "output_type": "stream",
     "text": [
      "                            OLS Regression Results                            \n",
      "==============================================================================\n",
      "Dep. Variable:         Interest Index   R-squared:                       0.283\n",
      "Model:                            OLS   Adj. R-squared:                  0.280\n",
      "Method:                 Least Squares   F-statistic:                     75.49\n",
      "Date:                Fri, 09 Dec 2022   Prob (F-statistic):           1.64e-15\n",
      "Time:                        22:55:11   Log-Likelihood:                -818.39\n",
      "No. Observations:                 193   AIC:                             1641.\n",
      "Df Residuals:                     191   BIC:                             1647.\n",
      "Df Model:                           1                                         \n",
      "Covariance Type:            nonrobust                                         \n",
      "==============================================================================\n",
      "                 coef    std err          t      P>|t|      [0.025      0.975]\n",
      "------------------------------------------------------------------------------\n",
      "const          3.8679      3.785      1.022      0.308      -3.599      11.335\n",
      "unrate         5.0146      0.577      8.689      0.000       3.876       6.153\n",
      "==============================================================================\n",
      "Omnibus:                       12.962   Durbin-Watson:                   1.965\n",
      "Prob(Omnibus):                  0.002   Jarque-Bera (JB):               23.119\n",
      "Skew:                           0.329   Prob(JB):                     9.54e-06\n",
      "Kurtosis:                       4.563   Cond. No.                         20.9\n",
      "==============================================================================\n",
      "\n",
      "Notes:\n",
      "[1] Standard Errors assume that the covariance matrix of the errors is correctly specified.\n"
     ]
    }
   ],
   "source": [
    "yp = ug_train['Interest Index']\n",
    "xp = ug_train['unrate']\n",
    "\n",
    "xp = sm.add_constant(xp)\n",
    "\n",
    "pmodel = sm.OLS(yp, xp).fit()\n",
    "\n",
    "print(pmodel.summary())"
   ]
  },
  {
   "cell_type": "markdown",
   "id": "d386c138",
   "metadata": {},
   "source": [
    "Here, we see that the coefficient on 'unrate' is statistically significant at the 5% level of significance."
   ]
  },
  {
   "cell_type": "markdown",
   "id": "a604e7a7",
   "metadata": {},
   "source": [
    "**Second regression (gender)**"
   ]
  },
  {
   "cell_type": "code",
   "execution_count": 60,
   "id": "0b47a4f9",
   "metadata": {},
   "outputs": [
    {
     "name": "stdout",
     "output_type": "stream",
     "text": [
      "                            OLS Regression Results                            \n",
      "==============================================================================\n",
      "Dep. Variable:         Interest Index   R-squared:                       0.286\n",
      "Model:                            OLS   Adj. R-squared:                  0.282\n",
      "Method:                 Least Squares   F-statistic:                     76.35\n",
      "Date:                Fri, 09 Dec 2022   Prob (F-statistic):           1.20e-15\n",
      "Time:                        22:57:21   Log-Likelihood:                -818.08\n",
      "No. Observations:                 193   AIC:                             1640.\n",
      "Df Residuals:                     191   BIC:                             1647.\n",
      "Df Model:                           1                                         \n",
      "Covariance Type:            nonrobust                                         \n",
      "==============================================================================\n",
      "                 coef    std err          t      P>|t|      [0.025      0.975]\n",
      "------------------------------------------------------------------------------\n",
      "const          5.2749      3.614      1.460      0.146      -1.853      12.403\n",
      "u_men          4.6312      0.530      8.738      0.000       3.586       5.677\n",
      "==============================================================================\n",
      "Omnibus:                       16.130   Durbin-Watson:                   1.972\n",
      "Prob(Omnibus):                  0.000   Jarque-Bera (JB):               19.609\n",
      "Skew:                           0.592   Prob(JB):                     5.52e-05\n",
      "Kurtosis:                       4.017   Cond. No.                         20.7\n",
      "==============================================================================\n",
      "\n",
      "Notes:\n",
      "[1] Standard Errors assume that the covariance matrix of the errors is correctly specified.\n"
     ]
    }
   ],
   "source": [
    "yp = ug_train['Interest Index']\n",
    "xp = ug_train['u_men']\n",
    "\n",
    "xp = sm.add_constant(xp)\n",
    "\n",
    "pmodel = sm.OLS(yp, xp).fit()\n",
    "\n",
    "print(pmodel.summary())"
   ]
  },
  {
   "cell_type": "markdown",
   "id": "3909b3fd",
   "metadata": {},
   "source": [
    "Here, we see that the coefficient on 'u_men' is statistically significant at the 5% level of significance."
   ]
  },
  {
   "cell_type": "markdown",
   "id": "64e678ef",
   "metadata": {},
   "source": [
    "**Second regression (gender)**"
   ]
  },
  {
   "cell_type": "code",
   "execution_count": 61,
   "id": "cd575aba",
   "metadata": {},
   "outputs": [
    {
     "name": "stdout",
     "output_type": "stream",
     "text": [
      "                            OLS Regression Results                            \n",
      "==============================================================================\n",
      "Dep. Variable:         Interest Index   R-squared:                       0.419\n",
      "Model:                            OLS   Adj. R-squared:                  0.404\n",
      "Method:                 Least Squares   F-statistic:                     27.01\n",
      "Date:                Fri, 09 Dec 2022   Prob (F-statistic):           1.62e-20\n",
      "Time:                        22:58:13   Log-Likelihood:                -798.07\n",
      "No. Observations:                 193   AIC:                             1608.\n",
      "Df Residuals:                     187   BIC:                             1628.\n",
      "Df Model:                           5                                         \n",
      "Covariance Type:            nonrobust                                         \n",
      "==============================================================================\n",
      "                 coef    std err          t      P>|t|      [0.025      0.975]\n",
      "------------------------------------------------------------------------------\n",
      "const         -9.2754      4.851     -1.912      0.057     -18.844       0.294\n",
      "u18_19         3.9844      0.592      6.735      0.000       2.817       5.151\n",
      "u20_24        -4.2585      1.542     -2.762      0.006      -7.300      -1.217\n",
      "u25_34         2.1552      3.443      0.626      0.532      -4.636       8.947\n",
      "u35_44        -0.2257      4.023     -0.056      0.955      -8.162       7.710\n",
      "u45_54         1.8522      4.338      0.427      0.670      -6.706      10.410\n",
      "==============================================================================\n",
      "Omnibus:                       19.270   Durbin-Watson:                   1.915\n",
      "Prob(Omnibus):                  0.000   Jarque-Bera (JB):               25.458\n",
      "Skew:                           0.644   Prob(JB):                     2.96e-06\n",
      "Kurtosis:                       4.228   Cond. No.                         120.\n",
      "==============================================================================\n",
      "\n",
      "Notes:\n",
      "[1] Standard Errors assume that the covariance matrix of the errors is correctly specified.\n"
     ]
    }
   ],
   "source": [
    "yp = ug_train['Interest Index']\n",
    "xp = ug_train[agecats]\n",
    "\n",
    "xp = sm.add_constant(xp)\n",
    "\n",
    "pmodel = sm.OLS(yp, xp).fit()\n",
    "\n",
    "print(pmodel.summary())"
   ]
  },
  {
   "cell_type": "markdown",
   "id": "b9f2a5b5",
   "metadata": {},
   "source": [
    "Here, we see that only the coefficients on 'u18_19' and on 'u20_24' are statistically significant at the 5% level of significance."
   ]
  },
  {
   "cell_type": "markdown",
   "id": "1c232f09",
   "metadata": {},
   "source": [
    "* https://www.statology.org/statsmodels-linear-regression-p-value/ for a very detailed explanation of how to get a regression table with summary statistics\n",
    "* INFO 2950, HW5 for multivariable regression and train/test split model for linear regression"
   ]
  },
  {
   "cell_type": "markdown",
   "id": "2c15a460",
   "metadata": {},
   "source": [
    "### *Evaluation of significance*"
   ]
  },
  {
   "cell_type": "markdown",
   "id": "72397704",
   "metadata": {
    "tags": []
   },
   "source": [
    "While we attempted logistic regressions and correlation matrixes, they didn't prove as fruitful as we'd hope. With negative slopes and negative coefficients, we were unable to parlay our unemployment rate data and our awards/billboard music data in a way that would've been well-suited to either or them. The unemployment data was incredibly vast and quite accurate, so it was difficult when we were trying to use very little information to predict it.\n",
    "\n",
    "As a result, we decided to make a pivot through visualizations and understanding our data in a unique and fun way. Through a time series with a colorful scatterplot, we were able to show how it was possible to *feel* Pitbull's success during hard times, even if it wasn't completely all there. Moreover, through the implementation of cdfs, we found a way to normalize our data in a manner that scaled down our data gap. We could for outliers and variance, we looked towards the divots in these cdfs in a manner we just couldn't do with histograms. Again, to reiterate, the scarcity of our data meant that a lot of avenues were closed, mainly because it was going to look odd either way. \n",
    "\n",
    "From Hypothesis #2, we see that while Pitbull couldn't be a recession index, the recession could be a Pitbull index with a roughly 88% f1 score.\n",
    "\n",
    "As for Hypothesis #3 and Google Search Trends data, the coefficients in the first and second regressions are both significant at the 5% level, and two out of the 5 coefficients in the age regression are significant at the 5% level."
   ]
  },
  {
   "cell_type": "markdown",
   "id": "0b147527",
   "metadata": {},
   "source": [
    "### Interpretation and conclusions"
   ]
  },
  {
   "cell_type": "markdown",
   "id": "491ba534",
   "metadata": {},
   "source": [
    "**Hypothesis 1:**\n",
    "Our first hypothesis regarding having the award be Latin as an indicator of unemployment proved mixed and ultimately incorrect. While the logistic regression showed Pitbull's success towards higher unemployment, it was not a great indicator, simply because we have such a small dataset and the points all clustered towards the same values because he won all the awards at the same time each year. Moreover, the cdf for the probabilities of him winning an award in a given year and the tracking of the unemployment in a given year proved inconclusive, because there was much overlap around 50% confidence. However, what was interesting was that there was a decrease in unemployment in 2012 and that same year Pitbull won the most awards, so the highest probability of his winning an award and the lowest probability of a specific unemployment rate were at the same time. The correlation matrix showed nothing of worth.\n",
    "\n",
    "We performed this hypothesis to evaluate the social components of Pitbull's success-- in this case with regards to success in Latin circles, and how it may influence the unemployment rate. our line of thinking followed that the relevancy of Pitbull's success with the Latin awards was that historically he's more popular with a Latin fanbase and they were also more impacted by the Great Recession-- with an increase of 2.9% overall for their unemployment, as opposed to merely 2.0% for the rest of the population. While this may have to do more with scale, we were trying to see that if he won more or less awards, it would be indicator of an improving economy. Through our time series, we found ourselves amused at some similar overlap. \n",
    "\n",
    "Moreover, I think our group  walked away with a lot of respect for probability and data visualization. To compensate for the lack of statistical findings, we were forced to be creative with how we deployed and thought about data-- how Pitbull's success was an indication of American resillience. We found ourselves moving beyond normal distributions and tried to figure out how to work in the z-scores and standard deviations we performed in Phase II's exploratory data analysis to devise instruments. \n",
    "\n",
    "**Hypothesis 2:**\n",
    "We came to see if we could use the unemployment data better-- taking it as an opportunity to develop more complicated instruments that could predict Pitbull's Billboard Hot 100 success and not the other way around. The K-folds proved much more promising, because the standard deviations were lower and our f1 scores were much higher than we intially anticipated. I think sampling with replacement was telling as we have so little data to work with and this aided us in avoiding overfitting. Intially, our produced F1 scores were not the most promising, as they were middling. Here, we were trying to see if the introduction of multiple variables could predict his success on the charts. When taking age, gender, and the general unemployment rate into account, we were trying to see if we could measure his chart success in a given year and if we could improve our model.\n",
    "\n",
    "we were able to do with slightly by removing variables like sex and older demographics, and performing a second K-fold with just unemployment rate and the unemployment rate of those between 20 and 24. Since Pitbull's listeners are generally younger, the thinking went that the way this demographic listened and worked may be an indicator of his success. However, with an influx of data, we were capable of using unemployments rates based on gender, age ranges, and the general public to train and test a successful model. \n",
    "\n",
    "And we did do that. We were incredibly pleased at how well our model did, and we were excited to discover something useful.\n",
    "\n",
    "**Hypothesis 3:**\n",
    "When utilizing data from Google Trends, which indicates the interest over time, calculated by search frequency, we find prmising results when using this interest index as a measure for Pitbull popularity. \n",
    "\n",
    "Specifically:\n",
    "\n",
    "- To interpret the coefficient on 'unrate', we can say that a 1 unit increase in the percentage of the unemployment rate corresponds to an approximately 5.015 unit increase in the interest index for the term 'Pitbull'.\n",
    "- To interpret the coefficient on 'u_men', we can say that a 1 unit increase in the percentage of the unemployment rate for men corresponds to an approximately 4.631 unit increase in the interest index for the term 'Pitbull', compared to the unemployment rate for women.\n",
    "- u18_19: all else equal, a 1-unit increase in percentage point in the unemployment rate for those aged between 18 and 19 corresponds to a 3.984 unit increase in the interest index for 'Pitbull', compared to the unemployment rate for those aged between 16 and 17.\n",
    "\n",
    "- u20_24: all else equal, a 1-unit increase in percentage point in the unemployment rate for those aged 20 through 24 corresponds to a 4.259 unit decrease in the interest index for 'Pitbull', compared to the unemployment rate for those aged between 16 and 17.\n",
    "\n",
    "- u25_34: all else equal, a 1-unit increase in percentage point in the unemployment rate for those aged 25 through 34 corresponds to a 2.155 unit incerease in the interest index for 'Pitbull', compared to the unemployment rate for those aged between 16 and 17.\n",
    "\n",
    "- u35_44: all else equal, a 1-unit increase in percentage point in the unemployment rate for those aged 35 through 44 corresponds to a 0.226 unit decrease in the interest index for 'Pitbull', compared to the unemployment rate for those aged between 16 and 17.\n",
    "\n",
    "- u45_54: all else equal, a 1-unit increase in percentage point in the unemployment rate for those aged 45 through 54 corresponds to a 1.852 unit increase in the interest index for 'Pitbull', compared to the unemployment rate for those aged between 16 and 17.\n",
    "\n",
    "In conclusion, we find that unemployment rate can serve as a good predictor of popularity of the 'Pitbull' search term, and as the unemployment rate increases, we see that the interest index increases as well. Similarly, for the unemployment rate for men, we see a positive and significant impact as well. As for the age categories, the two statitically significant age categories are 18-19 and 20-24, where 18-19 has a positive impact and 20-24 has a negative impact. Because the reference variable is the 16-17 age bracket, a negative impact could also mean that 16-17 year olds listen to it way more than 20-24 year olds do, though this could be difficult to explore without streaming and age data from a streaming platform like YouTube, Apple Music, or Spotify. Moreover, these results are search-based, so we could think about the relationship between some ages and demographics and tech-savviness, where younger people may not necessarily look up Pitbull but rather stream one of his song, or look him up on YouTube (in which case that would not show up in our data).\n"
   ]
  },
  {
   "cell_type": "markdown",
   "id": "9f10ce95",
   "metadata": {},
   "source": [
    "### Limitations"
   ]
  },
  {
   "cell_type": "markdown",
   "id": "70ea6e2c",
   "metadata": {},
   "source": [
    "**a. Definition of popularity:**\n",
    "\n",
    "Our defintion of popularity is limited, given that we define popularity in terms of Billboard Hot 100 appearance, music awards information, and search frequency for the term 'Pitbull'. We rely on the data to be accurate, which may not be true, especially for the Billboard Hot 100 dataset from Kaggle, but we did not notice any obvious manipulations. Our general idea of popularity is most closely related to how often people listen to Pitbull, and how that frequency changes as the unemployment rate changes. Since we do not have access to such data, we found the datasets we used to be the most reasonable, though by no means precise. Additionally, when evaluating awards as a measure of popularity, we do so by choosing awards that are Latin since Pitbull, producing mainly Latin-American music, is more likely to be a recipient of those Awards because that is his category, regardless of U.S. popularity. Awards seem to also reflect delayed popularity rather than an instant measure of it, since the process of awareness of the songs/albums, to nomination, to announcement of winning all take long and may not reflect people's perception of Pitbull at the time the award is given or nominated. \n",
    "\n",
    "**b. Timespan:**\n",
    "\n",
    "In our Billboard Hot 100 analysis, that dataset only included information on 3 years, 2009-2012, which is a small timeframe, particularly for significant changes in the economy, specially unemployment rate. Therefore, such analyses may not be reflective of Pitbull's popularity trend overall (2009-2022), since an artist's career tends to flourish as time passes from their most significant debut (2009 for Pitbull).\n",
    "\n",
    "**c. Measure of unemployment:**\n",
    "\n",
    "Though FRED is a reliable source of U.S. economic data, used by policymakers, economists, researchers, etc., the way unemployment is calculated is incredibly complex, surveying different cohorts of households at different points in time, with limits on how many times any given household may participate in the survey. Moreover, unemployment only measures a small fraction of the U.S. population, surveying about 60,000 households (https://www.brookings.edu/blog/up-front/2021/02/18/what-does-the-unemployment-rate-measure/). Thus, measures of unemployment may not be entirely reflective of U.S. economic health, compared to inflation and interest rates, but we chose unemployment because of its individual-based influence on the data (employment status) vs. other measures, like inflation and interest rates, which are far more influenced by larger corporations as a whole, policy changes, banks, etc., who do not have an obvious relationship with Pitbull popularity since they cannot 'listen' to Ptibull."
   ]
  },
  {
   "cell_type": "markdown",
   "id": "270ca3c6",
   "metadata": {},
   "source": [
    "### Acknowledgments"
   ]
  },
  {
   "cell_type": "markdown",
   "id": "1a82659a",
   "metadata": {},
   "source": [
    "* https://www.statology.org/statsmodels-linear-regression-p-value/ for a very detailed explanation of how to get a regression table with summary statistics\n",
    "* INFO 2950, HW5 for multivariable regression and train/test split model for linear regression"
   ]
  },
  {
   "cell_type": "markdown",
   "id": "1e601082",
   "metadata": {},
   "source": []
  }
 ],
 "metadata": {
  "kernelspec": {
   "display_name": "Python 3.9.12 ('info2950')",
   "language": "python",
   "name": "python3"
  },
  "language_info": {
   "codemirror_mode": {
    "name": "ipython",
    "version": 3
   },
   "file_extension": ".py",
   "mimetype": "text/x-python",
   "name": "python",
   "nbconvert_exporter": "python",
   "pygments_lexer": "ipython3",
<<<<<<< HEAD
   "version": "3.9.13 (main, Aug 25 2022, 23:51:50) [MSC v.1916 64 bit (AMD64)]"
=======
   "version": "3.9.12"
>>>>>>> a3a44b06bbaf2996115985aa174439e2e5cdd126
  },
  "vscode": {
   "interpreter": {
    "hash": "85469097bbfdec47e157844bd2ee1411a1547ca26d56af3c8793d121ba0fd878"
   }
  }
 },
 "nbformat": 4,
 "nbformat_minor": 5
}
