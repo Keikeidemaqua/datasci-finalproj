{
 "cells": [
  {
   "cell_type": "code",
   "execution_count": 313,
   "id": "5d8c2e44",
   "metadata": {},
   "outputs": [],
   "source": [
    "import requests\n",
    "from bs4 import BeautifulSoup\n",
    "\n",
    "import pandas as pd\n",
    "import numpy as np\n",
    "import time\n",
    "\n",
    "import seaborn\n",
    "from matplotlib import pyplot as plt\n",
    "\n",
    "from sklearn.linear_model import LogisticRegression\n",
    "from sklearn.linear_model import LinearRegression\n",
    "from sklearn import preprocessing\n",
    "from sklearn import utils\n",
    "import scipy.stats as stats\n",
    "from scipy.stats import binom, poisson, norm\n",
    "from sklearn.metrics import log_loss\n",
    "from sklearn.model_selection import train_test_split, KFold, cross_val_score"
   ]
  },
  {
   "cell_type": "code",
   "execution_count": 314,
   "id": "3c0814a9",
   "metadata": {},
   "outputs": [
    {
     "name": "stdout",
     "output_type": "stream",
     "text": [
      "The sql extension is already loaded. To reload it, use:\n",
      "  %reload_ext sql\n"
     ]
    }
   ],
   "source": [
    "%load_ext sql\n",
    "\n",
    "%config SqlMagic.autopandas = True\n",
    "%config SqlMagic.feedback = False\n",
    "%config SqlMagic.displaycon = False\n",
    "\n",
    "%sql duckdb:///:memory:"
   ]
  },
  {
   "cell_type": "markdown",
   "id": "524f95a6",
   "metadata": {},
   "source": [
    "## Phase IV"
   ]
  },
  {
   "cell_type": "markdown",
   "id": "ffbc4dab",
   "metadata": {},
   "source": [
    "### Introduction"
   ]
  },
  {
   "cell_type": "markdown",
   "id": "4210cbc2",
   "metadata": {},
   "source": [
    "Keikei & Yasmine\n",
    "What is the context of the work? What research question are you\n",
    "trying to answer? What are your main findings? Include a brief summary of your\n",
    "results.\n",
    "\n",
    "We wanted to play with data and see if it would be possible to combine unrelated datasets to create some interesting findings-- in this case, the Billboard Hot 100 has been a metric for decades at this point and federal unemployment data is readily available. We thought about seminal moments in both Pitbull's history and American economic history and thought about how they overlapped. Pitbull's peak in the late aughts and early 2010s overlapped with the Great Reccession and we wondered if there was any correlation or if we could create anything predictive. Our main findings proved nothing of statistical significance. Through exploratory data of Billboard Hot 100 mentionings of Pitbull, Wikipedia awards charts of Pitbull, Google trends of Pitbull, and federal unemployment data, we were unable to determine anything fully solid. As we moved onto probability functions and sampling, we were unable to come up with a model that proved much of anything. Our correlation matrix was also quite weak. Nevertheless, our K-folds proved to provide a decent f1 score with low std when we factored in unemployment variables like age and gender when attempting to predict Pitbull's appearance on the Billboard Hot 100. Ultimately, we walked away thinking that if Pitbull wasn't a great predictor of unemployment, unemployment could be capable of predicting Pitbull's success from 2009-2012."
   ]
  },
  {
   "cell_type": "markdown",
   "id": "292f05f3",
   "metadata": {},
   "source": [
    "### Data description"
   ]
  },
  {
   "cell_type": "markdown",
   "id": "3d692630",
   "metadata": {},
   "source": [
    "get data description from Phase 2"
   ]
  },
  {
   "cell_type": "markdown",
   "id": "5cf30067",
   "metadata": {},
   "source": [
    "### Preregistration statement"
   ]
  },
  {
   "cell_type": "markdown",
   "id": "8f93f117",
   "metadata": {},
   "source": [
    "From Phase 3"
   ]
  },
  {
   "cell_type": "markdown",
   "id": "00eb199b",
   "metadata": {},
   "source": [
    "### *Data Analysis*"
   ]
  },
  {
   "cell_type": "markdown",
   "id": "77c64004",
   "metadata": {},
   "source": [
    "##### Exploratory Data Analysis "
   ]
  },
  {
   "cell_type": "markdown",
   "id": "98322906",
   "metadata": {},
   "source": []
  },
  {
   "cell_type": "code",
   "execution_count": 374,
   "id": "7a7ced50",
   "metadata": {},
   "outputs": [
    {
     "data": {
      "text/plain": [
       "([0,\n",
       "  1,\n",
       "  2,\n",
       "  3,\n",
       "  4,\n",
       "  5,\n",
       "  6,\n",
       "  7,\n",
       "  8,\n",
       "  9,\n",
       "  10,\n",
       "  11,\n",
       "  12,\n",
       "  13,\n",
       "  14,\n",
       "  15,\n",
       "  16,\n",
       "  17,\n",
       "  18,\n",
       "  19,\n",
       "  20,\n",
       "  21,\n",
       "  22,\n",
       "  23,\n",
       "  24,\n",
       "  25,\n",
       "  26,\n",
       "  27,\n",
       "  28,\n",
       "  29,\n",
       "  30,\n",
       "  31,\n",
       "  32,\n",
       "  33,\n",
       "  34,\n",
       "  35,\n",
       "  36,\n",
       "  37,\n",
       "  38,\n",
       "  39,\n",
       "  40,\n",
       "  41,\n",
       "  42,\n",
       "  43,\n",
       "  44,\n",
       "  45,\n",
       "  46,\n",
       "  47],\n",
       " [Text(0, 0, ''),\n",
       "  Text(0, 0, ''),\n",
       "  Text(0, 0, ''),\n",
       "  Text(0, 0, ''),\n",
       "  Text(0, 0, ''),\n",
       "  Text(0, 0, ''),\n",
       "  Text(0, 0, ''),\n",
       "  Text(0, 0, ''),\n",
       "  Text(0, 0, ''),\n",
       "  Text(0, 0, ''),\n",
       "  Text(0, 0, ''),\n",
       "  Text(0, 0, ''),\n",
       "  Text(0, 0, ''),\n",
       "  Text(0, 0, ''),\n",
       "  Text(0, 0, ''),\n",
       "  Text(0, 0, ''),\n",
       "  Text(0, 0, ''),\n",
       "  Text(0, 0, ''),\n",
       "  Text(0, 0, ''),\n",
       "  Text(0, 0, ''),\n",
       "  Text(0, 0, ''),\n",
       "  Text(0, 0, ''),\n",
       "  Text(0, 0, ''),\n",
       "  Text(0, 0, ''),\n",
       "  Text(0, 0, ''),\n",
       "  Text(0, 0, ''),\n",
       "  Text(0, 0, ''),\n",
       "  Text(0, 0, ''),\n",
       "  Text(0, 0, ''),\n",
       "  Text(0, 0, ''),\n",
       "  Text(0, 0, ''),\n",
       "  Text(0, 0, ''),\n",
       "  Text(0, 0, ''),\n",
       "  Text(0, 0, ''),\n",
       "  Text(0, 0, ''),\n",
       "  Text(0, 0, ''),\n",
       "  Text(0, 0, ''),\n",
       "  Text(0, 0, ''),\n",
       "  Text(0, 0, ''),\n",
       "  Text(0, 0, ''),\n",
       "  Text(0, 0, ''),\n",
       "  Text(0, 0, ''),\n",
       "  Text(0, 0, ''),\n",
       "  Text(0, 0, ''),\n",
       "  Text(0, 0, ''),\n",
       "  Text(0, 0, ''),\n",
       "  Text(0, 0, ''),\n",
       "  Text(0, 0, '')])"
      ]
     },
     "execution_count": 374,
     "metadata": {},
     "output_type": "execute_result"
    },
    {
     "data": {
      "image/png": "[encoded data removed]",
      "text/plain": [
       "<Figure size 640x480 with 1 Axes>"
      ]
     },
     "metadata": {},
     "output_type": "display_data"
    }
   ],
   "source": [
    "plt.scatter('date','songfreq', data=simplecomp_df)\n",
    "plt.xticks(rotation=60)"
   ]
  },
  {
   "cell_type": "markdown",
   "id": "16475d29",
   "metadata": {},
   "source": [
    "### Evaluation of significance"
   ]
  },
  {
   "cell_type": "markdown",
   "id": "fbf7a4fc",
   "metadata": {},
   "source": [
    "Keikei & Yasmine"
   ]
  },
  {
   "cell_type": "markdown",
   "id": "7eba7542",
   "metadata": {},
   "source": [
    "### Interpretation and conclusions"
   ]
  },
  {
   "cell_type": "markdown",
   "id": "c0efbc1a",
   "metadata": {},
   "source": [
    "Interpretation:\n",
    "Hypothesis 1: Yasmine\n",
    "Hypothesis 2: Yasmine\n",
    "Hypothesis 3: Keikei\n",
    "Conclusions: Yasmine"
   ]
  },
  {
   "cell_type": "markdown",
   "id": "2881f59e",
   "metadata": {},
   "source": [
    "### Limitations"
   ]
  },
  {
   "cell_type": "markdown",
   "id": "f8384812",
   "metadata": {},
   "source": [
    "Keikei"
   ]
  },
  {
   "cell_type": "markdown",
   "id": "97c1aa1a",
   "metadata": {},
   "source": [
    "### Acknowledgments"
   ]
  },
  {
   "cell_type": "markdown",
   "id": "69350e3f",
   "metadata": {},
   "source": [
    "### Questions for reviewers"
   ]
  },
  {
   "cell_type": "markdown",
   "id": "d35904cd",
   "metadata": {},
   "source": [
    "Yasmine & Keikei"
   ]
  },
  {
   "cell_type": "markdown",
   "id": "8472bfa5",
   "metadata": {},
   "source": [
    "#### Hypothesis #1\n",
    "\n",
    "There's a correlation between an award in a given year being Latin and the unemployment rate fluctuating by a certain amount from 2009 to 2012.\n",
    "- We will perform a cdf on the probability that given a song's award is Latin (per TA advice), the unemployment rate would fluctuate by a certain amount.\n",
    "- We will also utilize a correlation matrix."
   ]
  },
  {
   "cell_type": "code",
   "execution_count": 315,
   "id": "6ec88643",
   "metadata": {},
   "outputs": [
    {
     "name": "stdout",
     "output_type": "stream",
     "text": [
      "   Unnamed: 0  unrate  Year  Month        date Latin\n",
      "0           0     8.5  2009      1  2009-01-01     0\n",
      "1           1     8.9  2009      2  2009-02-01     0\n",
      "2           2     9.0  2009      3  2009-03-01     0\n",
      "3           3     8.6  2009      4  2009-04-01     0\n",
      "4           4     9.1  2009      5  2009-05-01     0\n"
     ]
    }
   ],
   "source": [
    "unemployaward_df = pd.read_csv('unemployaward_df.csv')\n",
    "print (unemployaward_df.head())"
   ]
  },
  {
   "cell_type": "code",
   "execution_count": 362,
   "id": "32162843",
   "metadata": {},
   "outputs": [
    {
     "name": "stdout",
     "output_type": "stream",
     "text": [
      "Latin award total count:\n",
      "20\n",
      "US award total count:\n",
      "7\n",
      "Average unemployment rate between 2009-2012:\n",
      "0.7101449272543023\n",
      "Std unemployment rate between 2009-2012:\n",
      "0.14679493086695292\n"
     ]
    }
   ],
   "source": [
    "print('Latin award total count:')\n",
    "print (unemployaward_df.loc[unemployaward_df.Latin == 'Yes', 'Latin'].count())\n",
    "print('US award total count:')\n",
    "print (unemployaward_df.loc[unemployaward_df.Latin == 'No', 'Latin'].count())\n",
    "print('Average unemployment rate between 2009-2012:')\n",
    "print (unemployaward_df['unrate'].mean())\n",
    "print('Std unemployment rate between 2009-2012:')\n",
    "print (unemployaward_df['unrate'].std())"
   ]
  },
  {
   "cell_type": "code",
   "execution_count": 317,
   "id": "a6d3ce0d",
   "metadata": {},
   "outputs": [
    {
     "data": {
      "text/html": [
       "<div>\n",
       "<style scoped>\n",
       "    .dataframe tbody tr th:only-of-type {\n",
       "        vertical-align: middle;\n",
       "    }\n",
       "\n",
       "    .dataframe tbody tr th {\n",
       "        vertical-align: top;\n",
       "    }\n",
       "\n",
       "    .dataframe thead th {\n",
       "        text-align: right;\n",
       "    }\n",
       "</style>\n",
       "<table border=\"1\" class=\"dataframe\">\n",
       "  <thead>\n",
       "    <tr style=\"text-align: right;\">\n",
       "      <th></th>\n",
       "      <th>unrate</th>\n",
       "      <th>Year</th>\n",
       "      <th>Month</th>\n",
       "      <th>date</th>\n",
       "      <th>Latin</th>\n",
       "      <th>no_award</th>\n",
       "      <th>Latin_No</th>\n",
       "      <th>Latin_Yes</th>\n",
       "    </tr>\n",
       "  </thead>\n",
       "  <tbody>\n",
       "    <tr>\n",
       "      <th>0</th>\n",
       "      <td>8.5</td>\n",
       "      <td>2009</td>\n",
       "      <td>1</td>\n",
       "      <td>2009-01-01</td>\n",
       "      <td>0</td>\n",
       "      <td>1</td>\n",
       "      <td>0</td>\n",
       "      <td>0</td>\n",
       "    </tr>\n",
       "    <tr>\n",
       "      <th>1</th>\n",
       "      <td>8.9</td>\n",
       "      <td>2009</td>\n",
       "      <td>2</td>\n",
       "      <td>2009-02-01</td>\n",
       "      <td>0</td>\n",
       "      <td>1</td>\n",
       "      <td>0</td>\n",
       "      <td>0</td>\n",
       "    </tr>\n",
       "    <tr>\n",
       "      <th>2</th>\n",
       "      <td>9.0</td>\n",
       "      <td>2009</td>\n",
       "      <td>3</td>\n",
       "      <td>2009-03-01</td>\n",
       "      <td>0</td>\n",
       "      <td>1</td>\n",
       "      <td>0</td>\n",
       "      <td>0</td>\n",
       "    </tr>\n",
       "    <tr>\n",
       "      <th>3</th>\n",
       "      <td>8.6</td>\n",
       "      <td>2009</td>\n",
       "      <td>4</td>\n",
       "      <td>2009-04-01</td>\n",
       "      <td>0</td>\n",
       "      <td>1</td>\n",
       "      <td>0</td>\n",
       "      <td>0</td>\n",
       "    </tr>\n",
       "    <tr>\n",
       "      <th>4</th>\n",
       "      <td>9.1</td>\n",
       "      <td>2009</td>\n",
       "      <td>5</td>\n",
       "      <td>2009-05-01</td>\n",
       "      <td>0</td>\n",
       "      <td>1</td>\n",
       "      <td>0</td>\n",
       "      <td>0</td>\n",
       "    </tr>\n",
       "  </tbody>\n",
       "</table>\n",
       "</div>"
      ],
      "text/plain": [
       "   unrate  Year  Month        date Latin  no_award  Latin_No  Latin_Yes\n",
       "0     8.5  2009      1  2009-01-01     0         1         0          0\n",
       "1     8.9  2009      2  2009-02-01     0         1         0          0\n",
       "2     9.0  2009      3  2009-03-01     0         1         0          0\n",
       "3     8.6  2009      4  2009-04-01     0         1         0          0\n",
       "4     9.1  2009      5  2009-05-01     0         1         0          0"
      ]
     },
     "execution_count": 317,
     "metadata": {},
     "output_type": "execute_result"
    }
   ],
   "source": [
    "style_dummies= pd.get_dummies(unemployaward_df, columns = ['Latin'])\n",
    "frames = [unemployaward_df, style_dummies]\n",
    "unemployaward_df= pd.concat(frames, axis=1)\n",
    "unemployaward_df= unemployaward_df.rename(columns= {'Latin_0':'no_award'})\n",
    "unemployaward_df = unemployaward_df.loc[:,~unemployaward_df.columns.duplicated()].copy()\n",
    "unemployaward_df = unemployaward_df.drop(columns= ['Unnamed: 0'])\n",
    "unemployaward_df.head()"
   ]
  },
  {
   "cell_type": "code",
   "execution_count": 318,
   "id": "3d40b060",
   "metadata": {},
   "outputs": [
    {
     "name": "stdout",
     "output_type": "stream",
     "text": [
      "[[-0.95830123]] [7.34098937]\n"
     ]
    }
   ],
   "source": [
    "unemployaward_df[['unrate','Latin_Yes']]\n",
    "y= unemployaward_df['Latin_Yes']\n",
    "x= unemployaward_df['unrate'].values.reshape(-1,1)\n",
    "pitbullaward_logreg = LogisticRegression()\n",
    "pitbullaward_logreg.fit(x, y)\n",
    "print (pitbullaward_logreg.coef_, pitbullaward_logreg.intercept_)\n",
    "unemployaward_df['unrate'] = pitbullaward_logreg.predict_proba(x)[:,0]"
   ]
  },
  {
   "cell_type": "code",
   "execution_count": 319,
   "id": "182dbdd8",
   "metadata": {},
   "outputs": [],
   "source": [
    "pitbull_latin_year_df = unemployaward_df.groupby([\"Year\"]).Latin_Yes.sum().reset_index()\n",
    "pitbull_us_year_df = unemployaward_df.groupby([\"Year\"]).Latin_No.sum().reset_index()"
   ]
  },
  {
   "cell_type": "code",
   "execution_count": 320,
   "id": "f35f13f1",
   "metadata": {},
   "outputs": [
    {
     "name": "stdout",
     "output_type": "stream",
     "text": [
      "   Year  Latin_Yes  latin_award_zscore\n",
      "0  2009          1           -1.088662\n",
      "1  2010          2           -0.816497\n",
      "2  2011          7            0.544331\n",
      "3  2012         10            1.360828\n",
      "   Year  Latin_No  us_award_zscore\n",
      "0  2009         0        -0.855186\n",
      "1  2010         0        -0.855186\n",
      "2  2011         2         0.122169\n",
      "3  2012         5         1.588203\n"
     ]
    }
   ],
   "source": [
    "pitbull_latin_year_df['latin_award_zscore'] = stats.zscore(pitbull_latin_year_df['Latin_Yes'])\n",
    "pitbull_us_year_df['us_award_zscore'] = stats.zscore(pitbull_us_year_df['Latin_No'])\n",
    "print (pitbull_latin_year_df)\n",
    "print (pitbull_us_year_df)"
   ]
  },
  {
   "cell_type": "code",
   "execution_count": 321,
   "id": "adfa5973",
   "metadata": {},
   "outputs": [
    {
     "name": "stdout",
     "output_type": "stream",
     "text": [
      "6.551081335677848\n",
      "0.7407407407407407\n"
     ]
    }
   ],
   "source": [
    "year_frames= [pitbull_latin_year_df, pitbull_us_year_df]\n",
    "both_years_df= pd.concat(year_frames, axis=1)\n",
    "both_years_df['Award']= both_years_df['Latin_Yes']+both_years_df['Latin_No']\n",
    "std= both_years_df['Award'].std()\n",
    "mean= 20/27\n",
    "print (std)\n",
    "print(mean)\n"
   ]
  },
  {
   "cell_type": "code",
   "execution_count": 322,
   "id": "56acd9d7",
   "metadata": {},
   "outputs": [
    {
     "name": "stdout",
     "output_type": "stream",
     "text": [
      "[0.3900257  0.40605421 0.488041   0.53770522]\n"
     ]
    }
   ],
   "source": [
    "probabilites= norm.cdf(pitbull_latin_year_df['latin_award_zscore'], loc= 0.7407407407407407, scale= 6.551081335677848)\n",
    "print (probabilites)"
   ]
  },
  {
   "cell_type": "code",
   "execution_count": 372,
   "id": "0ae5c4ea",
   "metadata": {},
   "outputs": [
    {
     "data": {
      "text/plain": [
       "<matplotlib.lines.Line2D at 0x23735f56d90>"
      ]
     },
     "execution_count": 372,
     "metadata": {},
     "output_type": "execute_result"
    },
    {
     "data": {
      "image/png": "[encoded data removed]",
      "text/plain": [
       "<Figure size 500x500 with 1 Axes>"
      ]
     },
     "metadata": {},
     "output_type": "display_data"
    }
   ],
   "source": [
    "w= np.random.normal(loc= 0.7101449272543023, scale= 0.14679493086695292, size=69)\n",
    "seaborn.displot(data=w)\n",
    "intervalvalue2009= 0.3900257\n",
    "intervalvalue2010= 0.40605421\n",
    "intervalvalue2011= 0.488041\n",
    "intervalvalue2012= 0.53770522\n",
    "plt.axvline(intervalvalue2009, color='r', linestyle=':')\n",
    "plt.axvline(intervalvalue2010, color='g', linestyle=':')\n",
    "plt.axvline(intervalvalue2011, color='y', linestyle=':')\n",
    "plt.axvline(intervalvalue2012, color='pink', linestyle=':')"
   ]
  },
  {
   "cell_type": "code",
   "execution_count": 373,
   "id": "6f5838ed",
   "metadata": {},
   "outputs": [
    {
     "name": "stdout",
     "output_type": "stream",
     "text": [
      "             unrate      Year     Month  no_award  Latin_No  Latin_Yes\n",
      "unrate     1.000000 -0.764599 -0.291092  0.478781 -0.238693  -0.356183\n",
      "Year      -0.764599  1.000000  0.083009 -0.422652  0.270628   0.274553\n",
      "Month     -0.291092  0.083009  1.000000 -0.255624 -0.212862   0.416631\n",
      "no_award   0.478781 -0.422652 -0.255624  1.000000 -0.419079  -0.796819\n",
      "Latin_No  -0.238693  0.270628 -0.212862 -0.419079  1.000000  -0.214669\n",
      "Latin_Yes -0.356183  0.274553  0.416631 -0.796819 -0.214669   1.000000\n"
     ]
    }
   ],
   "source": [
    "corr_matrix = unemployaward_df.corr()\n",
    "print(corr_matrix)"
   ]
  },
  {
   "cell_type": "markdown",
   "id": "31f47520",
   "metadata": {},
   "source": [
    "#### Hypothesis #2\n",
    "\n",
    "Given a host of variables in our unemployment data-- age range of those unemployed, their gender, and the cumulative unemployment rate-- we can predict whether or not Pitbull would make it onto the Billboard Charts.\n",
    " - We will do a train-test split logistical regression to see if we can train the data set on unemployment-- given a host of variables-- to see if we can predict Pitbull's chart success, as well as understand the relationship and effect different variables have on Pitbull chart success\n",
    " - Per feedback, we will utilize K-Folds instead"
   ]
  },
  {
   "cell_type": "code",
   "execution_count": 324,
   "id": "bdcfe0fa",
   "metadata": {},
   "outputs": [],
   "source": [
    "simplecomp_df = pd.read_csv('simplecomp_df.csv')\n",
    "simplecomp_df= simplecomp_df.loc[simplecomp_df['date'].between('2009-01-01', '2013-01-01')]"
   ]
  },
  {
   "cell_type": "code",
   "execution_count": 325,
   "id": "f24da1da",
   "metadata": {},
   "outputs": [
    {
     "name": "stdout",
     "output_type": "stream",
     "text": [
      "[0.57142857 0.4       ]\n",
      "0.4857142857142857\n",
      "0.08571428571428569\n"
     ]
    }
   ],
   "source": [
    "estimator= LogisticRegression()\n",
    "list_of_variables= ['unrate', 'unrate_20_to_24', 'unrate_men', 'unrate_55_over']\n",
    "kf = KFold(n_splits= 2, shuffle= False)\n",
    "x= simplecomp_df[list_of_variables]\n",
    "y= simplecomp_df['appearance']\n",
    "my_scorer = 'f1'\n",
    "result = cross_val_score(estimator, x, y, cv= kf, scoring= my_scorer)\n",
    "print (result)\n",
    "print (np.mean(result))\n",
    "print (np.std(result))"
   ]
  },
  {
   "cell_type": "markdown",
   "id": "d77dd37b",
   "metadata": {},
   "source": [
    "#### Hypothesis #3\n",
    "We want to know the magnitude of the effect, if any, that the unemployment rate on a given month, both total average per month and by different categories, has on Pitbull popularity as measured by search trends. We do this by testing the hypothesis that the coefficients on the different unemployment measures are zero, having no effect on search term popularity. \n",
    "* We run a linear regression since the dependent variable, interest index, is discrete, ranging from 7 to 100"
   ]
  },
  {
   "cell_type": "code",
   "execution_count": 326,
   "id": "bfc7877b",
   "metadata": {},
   "outputs": [],
   "source": [
    "ucomplex_df=pd.read_csv('ucomplex_df.csv')\n",
    "gtrends_df=pd.read_csv('gtrends_df.csv')"
   ]
  },
  {
   "cell_type": "code",
   "execution_count": 327,
   "id": "09fde6c7",
   "metadata": {
    "scrolled": true
   },
   "outputs": [
    {
     "data": {
      "text/html": [
       "<div>\n",
       "<style scoped>\n",
       "    .dataframe tbody tr th:only-of-type {\n",
       "        vertical-align: middle;\n",
       "    }\n",
       "\n",
       "    .dataframe tbody tr th {\n",
       "        vertical-align: top;\n",
       "    }\n",
       "\n",
       "    .dataframe thead th {\n",
       "        text-align: right;\n",
       "    }\n",
       "</style>\n",
       "<table border=\"1\" class=\"dataframe\">\n",
       "  <thead>\n",
       "    <tr style=\"text-align: right;\">\n",
       "      <th></th>\n",
       "      <th>Unnamed: 0</th>\n",
       "      <th>date</th>\n",
       "      <th>unrate</th>\n",
       "      <th>u_men</th>\n",
       "      <th>u_women</th>\n",
       "      <th>u16_17</th>\n",
       "      <th>u18_19</th>\n",
       "      <th>u20_24</th>\n",
       "      <th>u25_34</th>\n",
       "      <th>u35_44</th>\n",
       "      <th>u45_54</th>\n",
       "    </tr>\n",
       "  </thead>\n",
       "  <tbody>\n",
       "    <tr>\n",
       "      <th>0</th>\n",
       "      <td>0</td>\n",
       "      <td>1948-01-01</td>\n",
       "      <td>4.0</td>\n",
       "      <td>4.2</td>\n",
       "      <td>3.5</td>\n",
       "      <td>10.8</td>\n",
       "      <td>9.6</td>\n",
       "      <td>6.6</td>\n",
       "      <td>3.6</td>\n",
       "      <td>2.6</td>\n",
       "      <td>2.7</td>\n",
       "    </tr>\n",
       "    <tr>\n",
       "      <th>1</th>\n",
       "      <td>1</td>\n",
       "      <td>1948-02-01</td>\n",
       "      <td>4.7</td>\n",
       "      <td>4.7</td>\n",
       "      <td>4.8</td>\n",
       "      <td>15.0</td>\n",
       "      <td>9.5</td>\n",
       "      <td>8.0</td>\n",
       "      <td>4.0</td>\n",
       "      <td>3.2</td>\n",
       "      <td>3.4</td>\n",
       "    </tr>\n",
       "    <tr>\n",
       "      <th>2</th>\n",
       "      <td>2</td>\n",
       "      <td>1948-03-01</td>\n",
       "      <td>4.5</td>\n",
       "      <td>4.5</td>\n",
       "      <td>4.4</td>\n",
       "      <td>13.2</td>\n",
       "      <td>9.3</td>\n",
       "      <td>8.6</td>\n",
       "      <td>3.5</td>\n",
       "      <td>3.2</td>\n",
       "      <td>2.9</td>\n",
       "    </tr>\n",
       "    <tr>\n",
       "      <th>3</th>\n",
       "      <td>3</td>\n",
       "      <td>1948-04-01</td>\n",
       "      <td>4.0</td>\n",
       "      <td>4.0</td>\n",
       "      <td>4.1</td>\n",
       "      <td>9.9</td>\n",
       "      <td>8.1</td>\n",
       "      <td>6.8</td>\n",
       "      <td>3.5</td>\n",
       "      <td>3.1</td>\n",
       "      <td>2.9</td>\n",
       "    </tr>\n",
       "    <tr>\n",
       "      <th>4</th>\n",
       "      <td>4</td>\n",
       "      <td>1948-05-01</td>\n",
       "      <td>3.4</td>\n",
       "      <td>3.3</td>\n",
       "      <td>3.4</td>\n",
       "      <td>6.4</td>\n",
       "      <td>7.2</td>\n",
       "      <td>6.3</td>\n",
       "      <td>2.8</td>\n",
       "      <td>2.5</td>\n",
       "      <td>2.3</td>\n",
       "    </tr>\n",
       "  </tbody>\n",
       "</table>\n",
       "</div>"
      ],
      "text/plain": [
       "   Unnamed: 0        date  unrate  u_men  u_women  u16_17  u18_19  u20_24  \\\n",
       "0           0  1948-01-01     4.0    4.2      3.5    10.8     9.6     6.6   \n",
       "1           1  1948-02-01     4.7    4.7      4.8    15.0     9.5     8.0   \n",
       "2           2  1948-03-01     4.5    4.5      4.4    13.2     9.3     8.6   \n",
       "3           3  1948-04-01     4.0    4.0      4.1     9.9     8.1     6.8   \n",
       "4           4  1948-05-01     3.4    3.3      3.4     6.4     7.2     6.3   \n",
       "\n",
       "   u25_34  u35_44  u45_54  \n",
       "0     3.6     2.6     2.7  \n",
       "1     4.0     3.2     3.4  \n",
       "2     3.5     3.2     2.9  \n",
       "3     3.5     3.1     2.9  \n",
       "4     2.8     2.5     2.3  "
      ]
     },
     "execution_count": 327,
     "metadata": {},
     "output_type": "execute_result"
    }
   ],
   "source": [
    "ucomplex_df.head(5)"
   ]
  },
  {
   "cell_type": "code",
   "execution_count": 328,
   "id": "9a1c8cb2",
   "metadata": {},
   "outputs": [
    {
     "data": {
      "text/html": [
       "<div>\n",
       "<style scoped>\n",
       "    .dataframe tbody tr th:only-of-type {\n",
       "        vertical-align: middle;\n",
       "    }\n",
       "\n",
       "    .dataframe tbody tr th {\n",
       "        vertical-align: top;\n",
       "    }\n",
       "\n",
       "    .dataframe thead th {\n",
       "        text-align: right;\n",
       "    }\n",
       "</style>\n",
       "<table border=\"1\" class=\"dataframe\">\n",
       "  <thead>\n",
       "    <tr style=\"text-align: right;\">\n",
       "      <th></th>\n",
       "      <th>Unnamed: 0</th>\n",
       "      <th>Interest Index</th>\n",
       "      <th>Date</th>\n",
       "      <th>Month</th>\n",
       "      <th>Year</th>\n",
       "    </tr>\n",
       "  </thead>\n",
       "  <tbody>\n",
       "    <tr>\n",
       "      <th>0</th>\n",
       "      <td>1</td>\n",
       "      <td>7</td>\n",
       "      <td>2004-01-01</td>\n",
       "      <td>1</td>\n",
       "      <td>2004</td>\n",
       "    </tr>\n",
       "    <tr>\n",
       "      <th>1</th>\n",
       "      <td>2</td>\n",
       "      <td>9</td>\n",
       "      <td>2004-02-01</td>\n",
       "      <td>2</td>\n",
       "      <td>2004</td>\n",
       "    </tr>\n",
       "    <tr>\n",
       "      <th>2</th>\n",
       "      <td>3</td>\n",
       "      <td>10</td>\n",
       "      <td>2004-03-01</td>\n",
       "      <td>3</td>\n",
       "      <td>2004</td>\n",
       "    </tr>\n",
       "    <tr>\n",
       "      <th>3</th>\n",
       "      <td>4</td>\n",
       "      <td>13</td>\n",
       "      <td>2004-04-01</td>\n",
       "      <td>4</td>\n",
       "      <td>2004</td>\n",
       "    </tr>\n",
       "    <tr>\n",
       "      <th>4</th>\n",
       "      <td>5</td>\n",
       "      <td>20</td>\n",
       "      <td>2004-05-01</td>\n",
       "      <td>5</td>\n",
       "      <td>2004</td>\n",
       "    </tr>\n",
       "  </tbody>\n",
       "</table>\n",
       "</div>"
      ],
      "text/plain": [
       "   Unnamed: 0  Interest Index        Date  Month  Year\n",
       "0           1               7  2004-01-01      1  2004\n",
       "1           2               9  2004-02-01      2  2004\n",
       "2           3              10  2004-03-01      3  2004\n",
       "3           4              13  2004-04-01      4  2004\n",
       "4           5              20  2004-05-01      5  2004"
      ]
     },
     "execution_count": 328,
     "metadata": {},
     "output_type": "execute_result"
    }
   ],
   "source": [
    "gtrends_df.head(5)"
   ]
  },
  {
   "cell_type": "code",
   "execution_count": 329,
   "id": "eeca8986",
   "metadata": {},
   "outputs": [
    {
     "name": "stdout",
     "output_type": "stream",
     "text": [
      "Returning data to local variable uandg_df\n"
     ]
    },
    {
     "data": {
      "text/html": [
       "<div>\n",
       "<style scoped>\n",
       "    .dataframe tbody tr th:only-of-type {\n",
       "        vertical-align: middle;\n",
       "    }\n",
       "\n",
       "    .dataframe tbody tr th {\n",
       "        vertical-align: top;\n",
       "    }\n",
       "\n",
       "    .dataframe thead th {\n",
       "        text-align: right;\n",
       "    }\n",
       "</style>\n",
       "<table border=\"1\" class=\"dataframe\">\n",
       "  <thead>\n",
       "    <tr style=\"text-align: right;\">\n",
       "      <th></th>\n",
       "      <th>Unnamed: 0</th>\n",
       "      <th>date</th>\n",
       "      <th>unrate</th>\n",
       "      <th>u_men</th>\n",
       "      <th>u_women</th>\n",
       "      <th>u16_17</th>\n",
       "      <th>u18_19</th>\n",
       "      <th>u20_24</th>\n",
       "      <th>u25_34</th>\n",
       "      <th>u35_44</th>\n",
       "      <th>u45_54</th>\n",
       "      <th>Unnamed: 0</th>\n",
       "      <th>Interest Index</th>\n",
       "      <th>Date</th>\n",
       "      <th>Month</th>\n",
       "      <th>Year</th>\n",
       "    </tr>\n",
       "  </thead>\n",
       "  <tbody>\n",
       "    <tr>\n",
       "      <th>0</th>\n",
       "      <td>672</td>\n",
       "      <td>2004-01-01</td>\n",
       "      <td>6.3</td>\n",
       "      <td>6.7</td>\n",
       "      <td>5.8</td>\n",
       "      <td>18.4</td>\n",
       "      <td>16.9</td>\n",
       "      <td>10.7</td>\n",
       "      <td>6.6</td>\n",
       "      <td>5.0</td>\n",
       "      <td>4.5</td>\n",
       "      <td>1</td>\n",
       "      <td>7</td>\n",
       "      <td>2004-01-01</td>\n",
       "      <td>1</td>\n",
       "      <td>2004</td>\n",
       "    </tr>\n",
       "    <tr>\n",
       "      <th>1</th>\n",
       "      <td>673</td>\n",
       "      <td>2004-02-01</td>\n",
       "      <td>6.0</td>\n",
       "      <td>6.4</td>\n",
       "      <td>5.5</td>\n",
       "      <td>17.9</td>\n",
       "      <td>16.6</td>\n",
       "      <td>10.1</td>\n",
       "      <td>6.2</td>\n",
       "      <td>4.9</td>\n",
       "      <td>4.3</td>\n",
       "      <td>2</td>\n",
       "      <td>9</td>\n",
       "      <td>2004-02-01</td>\n",
       "      <td>2</td>\n",
       "      <td>2004</td>\n",
       "    </tr>\n",
       "    <tr>\n",
       "      <th>2</th>\n",
       "      <td>674</td>\n",
       "      <td>2004-03-01</td>\n",
       "      <td>6.0</td>\n",
       "      <td>6.4</td>\n",
       "      <td>5.6</td>\n",
       "      <td>20.4</td>\n",
       "      <td>14.7</td>\n",
       "      <td>10.1</td>\n",
       "      <td>6.2</td>\n",
       "      <td>5.2</td>\n",
       "      <td>4.3</td>\n",
       "      <td>3</td>\n",
       "      <td>10</td>\n",
       "      <td>2004-03-01</td>\n",
       "      <td>3</td>\n",
       "      <td>2004</td>\n",
       "    </tr>\n",
       "    <tr>\n",
       "      <th>3</th>\n",
       "      <td>675</td>\n",
       "      <td>2004-04-01</td>\n",
       "      <td>5.4</td>\n",
       "      <td>5.6</td>\n",
       "      <td>5.1</td>\n",
       "      <td>21.1</td>\n",
       "      <td>13.3</td>\n",
       "      <td>8.7</td>\n",
       "      <td>5.4</td>\n",
       "      <td>4.3</td>\n",
       "      <td>4.0</td>\n",
       "      <td>4</td>\n",
       "      <td>13</td>\n",
       "      <td>2004-04-01</td>\n",
       "      <td>4</td>\n",
       "      <td>2004</td>\n",
       "    </tr>\n",
       "    <tr>\n",
       "      <th>4</th>\n",
       "      <td>676</td>\n",
       "      <td>2004-05-01</td>\n",
       "      <td>5.3</td>\n",
       "      <td>5.5</td>\n",
       "      <td>5.1</td>\n",
       "      <td>22.7</td>\n",
       "      <td>14.2</td>\n",
       "      <td>9.9</td>\n",
       "      <td>5.2</td>\n",
       "      <td>3.9</td>\n",
       "      <td>3.6</td>\n",
       "      <td>5</td>\n",
       "      <td>20</td>\n",
       "      <td>2004-05-01</td>\n",
       "      <td>5</td>\n",
       "      <td>2004</td>\n",
       "    </tr>\n",
       "  </tbody>\n",
       "</table>\n",
       "</div>"
      ],
      "text/plain": [
       "   Unnamed: 0        date  unrate  u_men  u_women  u16_17  u18_19  u20_24  \\\n",
       "0         672  2004-01-01     6.3    6.7      5.8    18.4    16.9    10.7   \n",
       "1         673  2004-02-01     6.0    6.4      5.5    17.9    16.6    10.1   \n",
       "2         674  2004-03-01     6.0    6.4      5.6    20.4    14.7    10.1   \n",
       "3         675  2004-04-01     5.4    5.6      5.1    21.1    13.3     8.7   \n",
       "4         676  2004-05-01     5.3    5.5      5.1    22.7    14.2     9.9   \n",
       "\n",
       "   u25_34  u35_44  u45_54  Unnamed: 0  Interest Index        Date  Month  Year  \n",
       "0     6.6     5.0     4.5           1               7  2004-01-01      1  2004  \n",
       "1     6.2     4.9     4.3           2               9  2004-02-01      2  2004  \n",
       "2     6.2     5.2     4.3           3              10  2004-03-01      3  2004  \n",
       "3     5.4     4.3     4.0           4              13  2004-04-01      4  2004  \n",
       "4     5.2     3.9     3.6           5              20  2004-05-01      5  2004  "
      ]
     },
     "execution_count": 329,
     "metadata": {},
     "output_type": "execute_result"
    }
   ],
   "source": [
    "%sql uandg_df << SELECT * FROM ucomplex_df INNER JOIN gtrends_df ON ucomplex_df.date=gtrends_df.Date\n",
    "uandg_df.head(5)"
   ]
  },
  {
   "cell_type": "code",
   "execution_count": 330,
   "id": "304b7400",
   "metadata": {},
   "outputs": [],
   "source": [
    "uandg_df.drop('Date',axis=1,inplace=True)"
   ]
  },
  {
   "cell_type": "code",
   "execution_count": 331,
   "id": "7c762e11",
   "metadata": {},
   "outputs": [],
   "source": [
    "uandg_df.drop('Unnamed: 0',axis=1,inplace=True)"
   ]
  },
  {
   "cell_type": "code",
   "execution_count": 332,
   "id": "499267dc",
   "metadata": {},
   "outputs": [
    {
     "data": {
      "text/html": [
       "<div>\n",
       "<style scoped>\n",
       "    .dataframe tbody tr th:only-of-type {\n",
       "        vertical-align: middle;\n",
       "    }\n",
       "\n",
       "    .dataframe tbody tr th {\n",
       "        vertical-align: top;\n",
       "    }\n",
       "\n",
       "    .dataframe thead th {\n",
       "        text-align: right;\n",
       "    }\n",
       "</style>\n",
       "<table border=\"1\" class=\"dataframe\">\n",
       "  <thead>\n",
       "    <tr style=\"text-align: right;\">\n",
       "      <th></th>\n",
       "      <th>date</th>\n",
       "      <th>unrate</th>\n",
       "      <th>u_men</th>\n",
       "      <th>u_women</th>\n",
       "      <th>u16_17</th>\n",
       "      <th>u18_19</th>\n",
       "      <th>u20_24</th>\n",
       "      <th>u25_34</th>\n",
       "      <th>u35_44</th>\n",
       "      <th>u45_54</th>\n",
       "      <th>Interest Index</th>\n",
       "      <th>Month</th>\n",
       "      <th>Year</th>\n",
       "    </tr>\n",
       "  </thead>\n",
       "  <tbody>\n",
       "    <tr>\n",
       "      <th>0</th>\n",
       "      <td>2004-01-01</td>\n",
       "      <td>6.3</td>\n",
       "      <td>6.7</td>\n",
       "      <td>5.8</td>\n",
       "      <td>18.4</td>\n",
       "      <td>16.9</td>\n",
       "      <td>10.7</td>\n",
       "      <td>6.6</td>\n",
       "      <td>5.0</td>\n",
       "      <td>4.5</td>\n",
       "      <td>7</td>\n",
       "      <td>1</td>\n",
       "      <td>2004</td>\n",
       "    </tr>\n",
       "    <tr>\n",
       "      <th>1</th>\n",
       "      <td>2004-02-01</td>\n",
       "      <td>6.0</td>\n",
       "      <td>6.4</td>\n",
       "      <td>5.5</td>\n",
       "      <td>17.9</td>\n",
       "      <td>16.6</td>\n",
       "      <td>10.1</td>\n",
       "      <td>6.2</td>\n",
       "      <td>4.9</td>\n",
       "      <td>4.3</td>\n",
       "      <td>9</td>\n",
       "      <td>2</td>\n",
       "      <td>2004</td>\n",
       "    </tr>\n",
       "    <tr>\n",
       "      <th>2</th>\n",
       "      <td>2004-03-01</td>\n",
       "      <td>6.0</td>\n",
       "      <td>6.4</td>\n",
       "      <td>5.6</td>\n",
       "      <td>20.4</td>\n",
       "      <td>14.7</td>\n",
       "      <td>10.1</td>\n",
       "      <td>6.2</td>\n",
       "      <td>5.2</td>\n",
       "      <td>4.3</td>\n",
       "      <td>10</td>\n",
       "      <td>3</td>\n",
       "      <td>2004</td>\n",
       "    </tr>\n",
       "    <tr>\n",
       "      <th>3</th>\n",
       "      <td>2004-04-01</td>\n",
       "      <td>5.4</td>\n",
       "      <td>5.6</td>\n",
       "      <td>5.1</td>\n",
       "      <td>21.1</td>\n",
       "      <td>13.3</td>\n",
       "      <td>8.7</td>\n",
       "      <td>5.4</td>\n",
       "      <td>4.3</td>\n",
       "      <td>4.0</td>\n",
       "      <td>13</td>\n",
       "      <td>4</td>\n",
       "      <td>2004</td>\n",
       "    </tr>\n",
       "    <tr>\n",
       "      <th>4</th>\n",
       "      <td>2004-05-01</td>\n",
       "      <td>5.3</td>\n",
       "      <td>5.5</td>\n",
       "      <td>5.1</td>\n",
       "      <td>22.7</td>\n",
       "      <td>14.2</td>\n",
       "      <td>9.9</td>\n",
       "      <td>5.2</td>\n",
       "      <td>3.9</td>\n",
       "      <td>3.6</td>\n",
       "      <td>20</td>\n",
       "      <td>5</td>\n",
       "      <td>2004</td>\n",
       "    </tr>\n",
       "  </tbody>\n",
       "</table>\n",
       "</div>"
      ],
      "text/plain": [
       "         date  unrate  u_men  u_women  u16_17  u18_19  u20_24  u25_34  u35_44  \\\n",
       "0  2004-01-01     6.3    6.7      5.8    18.4    16.9    10.7     6.6     5.0   \n",
       "1  2004-02-01     6.0    6.4      5.5    17.9    16.6    10.1     6.2     4.9   \n",
       "2  2004-03-01     6.0    6.4      5.6    20.4    14.7    10.1     6.2     5.2   \n",
       "3  2004-04-01     5.4    5.6      5.1    21.1    13.3     8.7     5.4     4.3   \n",
       "4  2004-05-01     5.3    5.5      5.1    22.7    14.2     9.9     5.2     3.9   \n",
       "\n",
       "   u45_54  Interest Index  Month  Year  \n",
       "0     4.5               7      1  2004  \n",
       "1     4.3               9      2  2004  \n",
       "2     4.3              10      3  2004  \n",
       "3     4.0              13      4  2004  \n",
       "4     3.6              20      5  2004  "
      ]
     },
     "execution_count": 332,
     "metadata": {},
     "output_type": "execute_result"
    }
   ],
   "source": [
    "uandg_df.head(5)"
   ]
  },
  {
   "cell_type": "code",
   "execution_count": 333,
   "id": "c9919738",
   "metadata": {},
   "outputs": [],
   "source": [
    "intcol=uandg_df.pop('Interest Index')\n",
    "mcol=uandg_df.pop('Month')\n",
    "ycol=uandg_df.pop('Year')\n",
    "uandg_df.insert(0, 'Year', ycol)"
   ]
  },
  {
   "cell_type": "code",
   "execution_count": 334,
   "id": "7aa4f485",
   "metadata": {},
   "outputs": [],
   "source": [
    "uandg_df.insert(1, 'Month', mcol)\n",
    "uandg_df.insert(2, 'Interest Index', intcol)"
   ]
  },
  {
   "cell_type": "code",
   "execution_count": 335,
   "id": "ab812c5f",
   "metadata": {},
   "outputs": [
    {
     "data": {
      "text/html": [
       "<div>\n",
       "<style scoped>\n",
       "    .dataframe tbody tr th:only-of-type {\n",
       "        vertical-align: middle;\n",
       "    }\n",
       "\n",
       "    .dataframe tbody tr th {\n",
       "        vertical-align: top;\n",
       "    }\n",
       "\n",
       "    .dataframe thead th {\n",
       "        text-align: right;\n",
       "    }\n",
       "</style>\n",
       "<table border=\"1\" class=\"dataframe\">\n",
       "  <thead>\n",
       "    <tr style=\"text-align: right;\">\n",
       "      <th></th>\n",
       "      <th>Year</th>\n",
       "      <th>Month</th>\n",
       "      <th>Interest Index</th>\n",
       "      <th>date</th>\n",
       "      <th>unrate</th>\n",
       "      <th>u_men</th>\n",
       "      <th>u_women</th>\n",
       "      <th>u16_17</th>\n",
       "      <th>u18_19</th>\n",
       "      <th>u20_24</th>\n",
       "      <th>u25_34</th>\n",
       "      <th>u35_44</th>\n",
       "      <th>u45_54</th>\n",
       "    </tr>\n",
       "  </thead>\n",
       "  <tbody>\n",
       "    <tr>\n",
       "      <th>0</th>\n",
       "      <td>2004</td>\n",
       "      <td>1</td>\n",
       "      <td>7</td>\n",
       "      <td>2004-01-01</td>\n",
       "      <td>6.3</td>\n",
       "      <td>6.7</td>\n",
       "      <td>5.8</td>\n",
       "      <td>18.4</td>\n",
       "      <td>16.9</td>\n",
       "      <td>10.7</td>\n",
       "      <td>6.6</td>\n",
       "      <td>5.0</td>\n",
       "      <td>4.5</td>\n",
       "    </tr>\n",
       "    <tr>\n",
       "      <th>1</th>\n",
       "      <td>2004</td>\n",
       "      <td>2</td>\n",
       "      <td>9</td>\n",
       "      <td>2004-02-01</td>\n",
       "      <td>6.0</td>\n",
       "      <td>6.4</td>\n",
       "      <td>5.5</td>\n",
       "      <td>17.9</td>\n",
       "      <td>16.6</td>\n",
       "      <td>10.1</td>\n",
       "      <td>6.2</td>\n",
       "      <td>4.9</td>\n",
       "      <td>4.3</td>\n",
       "    </tr>\n",
       "    <tr>\n",
       "      <th>2</th>\n",
       "      <td>2004</td>\n",
       "      <td>3</td>\n",
       "      <td>10</td>\n",
       "      <td>2004-03-01</td>\n",
       "      <td>6.0</td>\n",
       "      <td>6.4</td>\n",
       "      <td>5.6</td>\n",
       "      <td>20.4</td>\n",
       "      <td>14.7</td>\n",
       "      <td>10.1</td>\n",
       "      <td>6.2</td>\n",
       "      <td>5.2</td>\n",
       "      <td>4.3</td>\n",
       "    </tr>\n",
       "    <tr>\n",
       "      <th>3</th>\n",
       "      <td>2004</td>\n",
       "      <td>4</td>\n",
       "      <td>13</td>\n",
       "      <td>2004-04-01</td>\n",
       "      <td>5.4</td>\n",
       "      <td>5.6</td>\n",
       "      <td>5.1</td>\n",
       "      <td>21.1</td>\n",
       "      <td>13.3</td>\n",
       "      <td>8.7</td>\n",
       "      <td>5.4</td>\n",
       "      <td>4.3</td>\n",
       "      <td>4.0</td>\n",
       "    </tr>\n",
       "    <tr>\n",
       "      <th>4</th>\n",
       "      <td>2004</td>\n",
       "      <td>5</td>\n",
       "      <td>20</td>\n",
       "      <td>2004-05-01</td>\n",
       "      <td>5.3</td>\n",
       "      <td>5.5</td>\n",
       "      <td>5.1</td>\n",
       "      <td>22.7</td>\n",
       "      <td>14.2</td>\n",
       "      <td>9.9</td>\n",
       "      <td>5.2</td>\n",
       "      <td>3.9</td>\n",
       "      <td>3.6</td>\n",
       "    </tr>\n",
       "  </tbody>\n",
       "</table>\n",
       "</div>"
      ],
      "text/plain": [
       "   Year  Month  Interest Index        date  unrate  u_men  u_women  u16_17  \\\n",
       "0  2004      1               7  2004-01-01     6.3    6.7      5.8    18.4   \n",
       "1  2004      2               9  2004-02-01     6.0    6.4      5.5    17.9   \n",
       "2  2004      3              10  2004-03-01     6.0    6.4      5.6    20.4   \n",
       "3  2004      4              13  2004-04-01     5.4    5.6      5.1    21.1   \n",
       "4  2004      5              20  2004-05-01     5.3    5.5      5.1    22.7   \n",
       "\n",
       "   u18_19  u20_24  u25_34  u35_44  u45_54  \n",
       "0    16.9    10.7     6.6     5.0     4.5  \n",
       "1    16.6    10.1     6.2     4.9     4.3  \n",
       "2    14.7    10.1     6.2     5.2     4.3  \n",
       "3    13.3     8.7     5.4     4.3     4.0  \n",
       "4    14.2     9.9     5.2     3.9     3.6  "
      ]
     },
     "execution_count": 335,
     "metadata": {},
     "output_type": "execute_result"
    }
   ],
   "source": [
    "uandg_df.head(5)"
   ]
  },
  {
   "cell_type": "code",
   "execution_count": null,
   "id": "c6b71e36",
   "metadata": {},
   "outputs": [],
   "source": []
  }
 ],
 "metadata": {
  "kernelspec": {
   "display_name": "Python 3.9.13 ('info2950')",
   "language": "python",
   "name": "python3"
  },
  "language_info": {
   "codemirror_mode": {
    "name": "ipython",
    "version": 3
   },
   "file_extension": ".py",
   "mimetype": "text/x-python",
   "name": "python",
   "nbconvert_exporter": "python",
   "pygments_lexer": "ipython3",
   "version": "3.9.13"
  },
  "vscode": {
   "interpreter": {
    "hash": "8daba514033a87bf47d8f23dd57148c3350d20787ea38b0ee3e79ed68a01cd3b"
   }
  }
 },
 "nbformat": 4,
 "nbformat_minor": 5
}
