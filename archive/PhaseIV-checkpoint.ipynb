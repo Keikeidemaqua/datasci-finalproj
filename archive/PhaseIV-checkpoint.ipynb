{
 "cells": [
  {
   "cell_type": "code",
   "execution_count": 1,
   "id": "5d8c2e44",
   "metadata": {},
   "outputs": [],
   "source": [
    "import requests\n",
    "from bs4 import BeautifulSoup\n",
    "\n",
    "import pandas as pd\n",
    "import numpy as np\n",
    "import time\n",
    "\n",
    "import seaborn\n",
    "from matplotlib import pyplot as plt\n",
    "\n",
    "from sklearn.linear_model import LogisticRegression\n",
    "from sklearn.linear_model import LinearRegression\n",
    "from sklearn import preprocessing\n",
    "from sklearn import utils\n",
    "from scipy.stats import binom, poisson, norm"
   ]
  },
  {
   "cell_type": "code",
   "execution_count": 2,
   "id": "3c0814a9",
   "metadata": {},
   "outputs": [],
   "source": [
    "%load_ext sql\n",
    "\n",
    "%config SqlMagic.autopandas = True\n",
    "%config SqlMagic.feedback = False\n",
    "%config SqlMagic.displaycon = False\n",
    "\n",
    "%sql duckdb:///:memory:"
   ]
  },
  {
   "cell_type": "markdown",
   "id": "524f95a6",
   "metadata": {},
   "source": [
    "### Phase IV"
   ]
  },
  {
   "cell_type": "markdown",
   "id": "8472bfa5",
   "metadata": {},
   "source": [
    "Hypothesis #1- There's a correlation between an award in a given year being Latin and the unemployment rate fluctuating by a certain amount from 2009 to 2012.\n",
    "- We will perform a pff on the probability that given a song's award is Latin, the unemployment rate would fluctuate by a certain amount.\n",
    "- We will also utilize a correlation matrix."
   ]
  },
  {
   "cell_type": "code",
   "execution_count": 3,
   "id": "6ec88643",
   "metadata": {},
   "outputs": [],
   "source": [
    "unemployaward_df = pd.read_csv('unemployaward_df.csv')"
   ]
  },
  {
   "cell_type": "code",
   "execution_count": 4,
   "id": "3e0a7b17",
   "metadata": {},
   "outputs": [
    {
     "data": {
      "text/plain": [
       "<bound method IndexOpsMixin.value_counts of 0      0\n",
       "1      0\n",
       "2      0\n",
       "3      0\n",
       "4      0\n",
       "      ..\n",
       "895    1\n",
       "896    1\n",
       "897    1\n",
       "898    1\n",
       "899    1\n",
       "Name: Latin, Length: 900, dtype: int64>"
      ]
     },
     "execution_count": 4,
     "metadata": {},
     "output_type": "execute_result"
    }
   ],
   "source": []
  },
  {
   "cell_type": "markdown",
   "id": "8fea555c",
   "metadata": {},
   "source": [
    "Hypothesis #2- Given a host of variables in our unemployment data-- age range of those unemployed, their gender, and the cumulative unemployment rate-- we can predict whether or not Pitbull would make it onto the Billboard Charts.\n",
    " - We will use K-folds for a logistical regression to see if we can train the data set on unemployment-- given a host of variables-- to see if we can predict Pitbull's chart success, as well as understand the relationship and effect different variables have on Pitbull chart success"
   ]
  },
  {
   "cell_type": "code",
   "execution_count": 6,
   "id": "309cb1ed",
   "metadata": {
    "scrolled": true
   },
   "outputs": [
    {
     "data": {
      "text/html": [
       "<div>\n",
       "<style scoped>\n",
       "    .dataframe tbody tr th:only-of-type {\n",
       "        vertical-align: middle;\n",
       "    }\n",
       "\n",
       "    .dataframe tbody tr th {\n",
       "        vertical-align: top;\n",
       "    }\n",
       "\n",
       "    .dataframe thead th {\n",
       "        text-align: right;\n",
       "    }\n",
       "</style>\n",
       "<table border=\"1\" class=\"dataframe\">\n",
       "  <thead>\n",
       "    <tr style=\"text-align: right;\">\n",
       "      <th></th>\n",
       "      <th>Unnamed: 0</th>\n",
       "      <th>date</th>\n",
       "      <th>unrate</th>\n",
       "      <th>u_men</th>\n",
       "      <th>u_women</th>\n",
       "      <th>u16_17</th>\n",
       "      <th>u18_19</th>\n",
       "      <th>u20_24</th>\n",
       "      <th>u25_34</th>\n",
       "      <th>u35_44</th>\n",
       "      <th>u45_54</th>\n",
       "    </tr>\n",
       "  </thead>\n",
       "  <tbody>\n",
       "    <tr>\n",
       "      <th>0</th>\n",
       "      <td>0</td>\n",
       "      <td>1948-01-01</td>\n",
       "      <td>4.0</td>\n",
       "      <td>4.2</td>\n",
       "      <td>3.5</td>\n",
       "      <td>10.8</td>\n",
       "      <td>9.6</td>\n",
       "      <td>6.6</td>\n",
       "      <td>3.6</td>\n",
       "      <td>2.6</td>\n",
       "      <td>2.7</td>\n",
       "    </tr>\n",
       "    <tr>\n",
       "      <th>1</th>\n",
       "      <td>1</td>\n",
       "      <td>1948-02-01</td>\n",
       "      <td>4.7</td>\n",
       "      <td>4.7</td>\n",
       "      <td>4.8</td>\n",
       "      <td>15.0</td>\n",
       "      <td>9.5</td>\n",
       "      <td>8.0</td>\n",
       "      <td>4.0</td>\n",
       "      <td>3.2</td>\n",
       "      <td>3.4</td>\n",
       "    </tr>\n",
       "    <tr>\n",
       "      <th>2</th>\n",
       "      <td>2</td>\n",
       "      <td>1948-03-01</td>\n",
       "      <td>4.5</td>\n",
       "      <td>4.5</td>\n",
       "      <td>4.4</td>\n",
       "      <td>13.2</td>\n",
       "      <td>9.3</td>\n",
       "      <td>8.6</td>\n",
       "      <td>3.5</td>\n",
       "      <td>3.2</td>\n",
       "      <td>2.9</td>\n",
       "    </tr>\n",
       "    <tr>\n",
       "      <th>3</th>\n",
       "      <td>3</td>\n",
       "      <td>1948-04-01</td>\n",
       "      <td>4.0</td>\n",
       "      <td>4.0</td>\n",
       "      <td>4.1</td>\n",
       "      <td>9.9</td>\n",
       "      <td>8.1</td>\n",
       "      <td>6.8</td>\n",
       "      <td>3.5</td>\n",
       "      <td>3.1</td>\n",
       "      <td>2.9</td>\n",
       "    </tr>\n",
       "    <tr>\n",
       "      <th>4</th>\n",
       "      <td>4</td>\n",
       "      <td>1948-05-01</td>\n",
       "      <td>3.4</td>\n",
       "      <td>3.3</td>\n",
       "      <td>3.4</td>\n",
       "      <td>6.4</td>\n",
       "      <td>7.2</td>\n",
       "      <td>6.3</td>\n",
       "      <td>2.8</td>\n",
       "      <td>2.5</td>\n",
       "      <td>2.3</td>\n",
       "    </tr>\n",
       "  </tbody>\n",
       "</table>\n",
       "</div>"
      ],
      "text/plain": [
       "   Unnamed: 0        date  unrate  u_men  u_women  u16_17  u18_19  u20_24  \\\n",
       "0           0  1948-01-01     4.0    4.2      3.5    10.8     9.6     6.6   \n",
       "1           1  1948-02-01     4.7    4.7      4.8    15.0     9.5     8.0   \n",
       "2           2  1948-03-01     4.5    4.5      4.4    13.2     9.3     8.6   \n",
       "3           3  1948-04-01     4.0    4.0      4.1     9.9     8.1     6.8   \n",
       "4           4  1948-05-01     3.4    3.3      3.4     6.4     7.2     6.3   \n",
       "\n",
       "   u25_34  u35_44  u45_54  \n",
       "0     3.6     2.6     2.7  \n",
       "1     4.0     3.2     3.4  \n",
       "2     3.5     3.2     2.9  \n",
       "3     3.5     3.1     2.9  \n",
       "4     2.8     2.5     2.3  "
      ]
     },
     "execution_count": 6,
     "metadata": {},
     "output_type": "execute_result"
    }
   ],
   "source": [
    "ucomplex_df=pd.read_csv('ucomplex_df.csv')\n",
    "ucomplex_df.head(5)"
   ]
  },
  {
   "cell_type": "markdown",
   "id": "be3f3123",
   "metadata": {},
   "source": [
    "Limit the df to dates that we have data on for Billboard Hot 100 charts, 2009-2012"
   ]
  },
  {
   "cell_type": "code",
   "execution_count": 10,
   "id": "86874d7c",
   "metadata": {
    "scrolled": true
   },
   "outputs": [
    {
     "data": {
      "text/html": [
       "<div>\n",
       "<style scoped>\n",
       "    .dataframe tbody tr th:only-of-type {\n",
       "        vertical-align: middle;\n",
       "    }\n",
       "\n",
       "    .dataframe tbody tr th {\n",
       "        vertical-align: top;\n",
       "    }\n",
       "\n",
       "    .dataframe thead th {\n",
       "        text-align: right;\n",
       "    }\n",
       "</style>\n",
       "<table border=\"1\" class=\"dataframe\">\n",
       "  <thead>\n",
       "    <tr style=\"text-align: right;\">\n",
       "      <th></th>\n",
       "      <th>Unnamed: 0</th>\n",
       "      <th>date</th>\n",
       "      <th>unrate</th>\n",
       "      <th>u_men</th>\n",
       "      <th>u_women</th>\n",
       "      <th>u16_17</th>\n",
       "      <th>u18_19</th>\n",
       "      <th>u20_24</th>\n",
       "      <th>u25_34</th>\n",
       "      <th>u35_44</th>\n",
       "      <th>u45_54</th>\n",
       "    </tr>\n",
       "  </thead>\n",
       "  <tbody>\n",
       "    <tr>\n",
       "      <th>732</th>\n",
       "      <td>732</td>\n",
       "      <td>2009-01-01</td>\n",
       "      <td>8.5</td>\n",
       "      <td>9.7</td>\n",
       "      <td>7.0</td>\n",
       "      <td>20.8</td>\n",
       "      <td>21.7</td>\n",
       "      <td>13.5</td>\n",
       "      <td>9.2</td>\n",
       "      <td>7.4</td>\n",
       "      <td>6.7</td>\n",
       "    </tr>\n",
       "    <tr>\n",
       "      <th>733</th>\n",
       "      <td>733</td>\n",
       "      <td>2009-02-01</td>\n",
       "      <td>8.9</td>\n",
       "      <td>10.4</td>\n",
       "      <td>7.2</td>\n",
       "      <td>22.8</td>\n",
       "      <td>22.7</td>\n",
       "      <td>13.8</td>\n",
       "      <td>9.8</td>\n",
       "      <td>7.5</td>\n",
       "      <td>7.2</td>\n",
       "    </tr>\n",
       "    <tr>\n",
       "      <th>734</th>\n",
       "      <td>734</td>\n",
       "      <td>2009-03-01</td>\n",
       "      <td>9.0</td>\n",
       "      <td>10.6</td>\n",
       "      <td>7.3</td>\n",
       "      <td>23.6</td>\n",
       "      <td>20.4</td>\n",
       "      <td>13.9</td>\n",
       "      <td>10.0</td>\n",
       "      <td>7.8</td>\n",
       "      <td>7.2</td>\n",
       "    </tr>\n",
       "    <tr>\n",
       "      <th>735</th>\n",
       "      <td>735</td>\n",
       "      <td>2009-04-01</td>\n",
       "      <td>8.6</td>\n",
       "      <td>9.9</td>\n",
       "      <td>7.1</td>\n",
       "      <td>21.8</td>\n",
       "      <td>20.4</td>\n",
       "      <td>13.7</td>\n",
       "      <td>9.6</td>\n",
       "      <td>7.5</td>\n",
       "      <td>6.6</td>\n",
       "    </tr>\n",
       "    <tr>\n",
       "      <th>736</th>\n",
       "      <td>736</td>\n",
       "      <td>2009-05-01</td>\n",
       "      <td>9.1</td>\n",
       "      <td>10.2</td>\n",
       "      <td>7.7</td>\n",
       "      <td>24.2</td>\n",
       "      <td>23.3</td>\n",
       "      <td>15.5</td>\n",
       "      <td>10.1</td>\n",
       "      <td>7.5</td>\n",
       "      <td>6.5</td>\n",
       "    </tr>\n",
       "  </tbody>\n",
       "</table>\n",
       "</div>"
      ],
      "text/plain": [
       "     Unnamed: 0        date  unrate  u_men  u_women  u16_17  u18_19  u20_24  \\\n",
       "732         732  2009-01-01     8.5    9.7      7.0    20.8    21.7    13.5   \n",
       "733         733  2009-02-01     8.9   10.4      7.2    22.8    22.7    13.8   \n",
       "734         734  2009-03-01     9.0   10.6      7.3    23.6    20.4    13.9   \n",
       "735         735  2009-04-01     8.6    9.9      7.1    21.8    20.4    13.7   \n",
       "736         736  2009-05-01     9.1   10.2      7.7    24.2    23.3    15.5   \n",
       "\n",
       "     u25_34  u35_44  u45_54  \n",
       "732     9.2     7.4     6.7  \n",
       "733     9.8     7.5     7.2  \n",
       "734    10.0     7.8     7.2  \n",
       "735     9.6     7.5     6.6  \n",
       "736    10.1     7.5     6.5  "
      ]
     },
     "execution_count": 10,
     "metadata": {},
     "output_type": "execute_result"
    }
   ],
   "source": [
    "bb_ucomplex_df=ucomplex_df.loc[ucomplex_df['date'].between('2009-01-01', '2012-12-01')]\n",
    "bb_ucomplex_df.head(5)"
   ]
  },
  {
   "cell_type": "code",
   "execution_count": null,
   "id": "cbafa8b9",
   "metadata": {},
   "outputs": [],
   "source": [
    "#bb_train, bb_test = train_test_split(bb_ucomplex_df, test_size=.2)"
   ]
  }
 ],
 "metadata": {
  "kernelspec": {
   "display_name": "Python 3 (ipykernel)",
   "language": "python",
   "name": "python3"
  },
  "language_info": {
   "codemirror_mode": {
    "name": "ipython",
    "version": 3
   },
   "file_extension": ".py",
   "mimetype": "text/x-python",
   "name": "python",
   "nbconvert_exporter": "python",
   "pygments_lexer": "ipython3",
   "version": "3.9.12"
  }
 },
 "nbformat": 4,
 "nbformat_minor": 5
}
