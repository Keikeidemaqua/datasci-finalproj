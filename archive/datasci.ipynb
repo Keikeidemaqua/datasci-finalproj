{
 "cells": [
  {
   "cell_type": "code",
   "execution_count": 1,
   "metadata": {},
   "outputs": [
    {
     "name": "stdout",
     "output_type": "stream",
     "text": [
      "Requirement already satisfied: duckdb-engine in c:\\users\\yasmi\\anaconda3\\envs\\info2950\\lib\\site-packages (0.6.4)\n",
      "Requirement already satisfied: duckdb>=0.4.0 in c:\\users\\yasmi\\anaconda3\\envs\\info2950\\lib\\site-packages (from duckdb-engine) (0.5.1)\n",
      "Requirement already satisfied: sqlalchemy<2.0.0,>=1.3.19 in c:\\users\\yasmi\\anaconda3\\envs\\info2950\\lib\\site-packages (from duckdb-engine) (1.4.41)\n",
      "Requirement already satisfied: numpy in c:\\users\\yasmi\\anaconda3\\envs\\info2950\\lib\\site-packages (from duckdb-engine) (1.21.5)\n",
      "Requirement already satisfied: greenlet!=0.4.17 in c:\\users\\yasmi\\anaconda3\\envs\\info2950\\lib\\site-packages (from sqlalchemy<2.0.0,>=1.3.19->duckdb-engine) (1.1.3)\n",
      "Requirement already satisfied: ipython-sql in c:\\users\\yasmi\\anaconda3\\envs\\info2950\\lib\\site-packages (0.4.1)\n",
      "Requirement already satisfied: six in c:\\users\\yasmi\\anaconda3\\envs\\info2950\\lib\\site-packages (from ipython-sql) (1.16.0)\n",
      "Requirement already satisfied: ipython>=1.0 in c:\\users\\yasmi\\anaconda3\\envs\\info2950\\lib\\site-packages (from ipython-sql) (8.4.0)\n",
      "Requirement already satisfied: ipython-genutils>=0.1.0 in c:\\users\\yasmi\\anaconda3\\envs\\info2950\\lib\\site-packages (from ipython-sql) (0.2.0)\n",
      "Requirement already satisfied: sqlalchemy>=0.6.7 in c:\\users\\yasmi\\anaconda3\\envs\\info2950\\lib\\site-packages (from ipython-sql) (1.4.41)\n",
      "Requirement already satisfied: prettytable<1 in c:\\users\\yasmi\\anaconda3\\envs\\info2950\\lib\\site-packages (from ipython-sql) (0.7.2)\n",
      "Requirement already satisfied: sqlparse in c:\\users\\yasmi\\anaconda3\\envs\\info2950\\lib\\site-packages (from ipython-sql) (0.4.2)\n",
      "Requirement already satisfied: stack-data in c:\\users\\yasmi\\anaconda3\\envs\\info2950\\lib\\site-packages (from ipython>=1.0->ipython-sql) (0.2.0)\n",
      "Requirement already satisfied: colorama in c:\\users\\yasmi\\anaconda3\\envs\\info2950\\lib\\site-packages (from ipython>=1.0->ipython-sql) (0.4.5)\n",
      "Requirement already satisfied: prompt-toolkit!=3.0.0,!=3.0.1,<3.1.0,>=2.0.0 in c:\\users\\yasmi\\anaconda3\\envs\\info2950\\lib\\site-packages (from ipython>=1.0->ipython-sql) (3.0.20)\n",
      "Requirement already satisfied: pickleshare in c:\\users\\yasmi\\anaconda3\\envs\\info2950\\lib\\site-packages (from ipython>=1.0->ipython-sql) (0.7.5)\n",
      "Requirement already satisfied: setuptools>=18.5 in c:\\users\\yasmi\\anaconda3\\envs\\info2950\\lib\\site-packages (from ipython>=1.0->ipython-sql) (63.4.1)\n",
      "Requirement already satisfied: matplotlib-inline in c:\\users\\yasmi\\anaconda3\\envs\\info2950\\lib\\site-packages (from ipython>=1.0->ipython-sql) (0.1.6)\n",
      "Requirement already satisfied: traitlets>=5 in c:\\users\\yasmi\\anaconda3\\envs\\info2950\\lib\\site-packages (from ipython>=1.0->ipython-sql) (5.1.1)\n",
      "Requirement already satisfied: pygments>=2.4.0 in c:\\users\\yasmi\\anaconda3\\envs\\info2950\\lib\\site-packages (from ipython>=1.0->ipython-sql) (2.11.2)\n",
      "Requirement already satisfied: backcall in c:\\users\\yasmi\\anaconda3\\envs\\info2950\\lib\\site-packages (from ipython>=1.0->ipython-sql) (0.2.0)\n",
      "Requirement already satisfied: jedi>=0.16 in c:\\users\\yasmi\\anaconda3\\envs\\info2950\\lib\\site-packages (from ipython>=1.0->ipython-sql) (0.18.1)\n",
      "Requirement already satisfied: decorator in c:\\users\\yasmi\\anaconda3\\envs\\info2950\\lib\\site-packages (from ipython>=1.0->ipython-sql) (5.1.1)\n",
      "Requirement already satisfied: greenlet!=0.4.17 in c:\\users\\yasmi\\anaconda3\\envs\\info2950\\lib\\site-packages (from sqlalchemy>=0.6.7->ipython-sql) (1.1.3)\n",
      "Requirement already satisfied: parso<0.9.0,>=0.8.0 in c:\\users\\yasmi\\anaconda3\\envs\\info2950\\lib\\site-packages (from jedi>=0.16->ipython>=1.0->ipython-sql) (0.8.3)\n",
      "Requirement already satisfied: wcwidth in c:\\users\\yasmi\\anaconda3\\envs\\info2950\\lib\\site-packages (from prompt-toolkit!=3.0.0,!=3.0.1,<3.1.0,>=2.0.0->ipython>=1.0->ipython-sql) (0.2.5)\n",
      "Requirement already satisfied: asttokens in c:\\users\\yasmi\\anaconda3\\envs\\info2950\\lib\\site-packages (from stack-data->ipython>=1.0->ipython-sql) (2.0.5)\n",
      "Requirement already satisfied: pure-eval in c:\\users\\yasmi\\anaconda3\\envs\\info2950\\lib\\site-packages (from stack-data->ipython>=1.0->ipython-sql) (0.2.2)\n",
      "Requirement already satisfied: executing in c:\\users\\yasmi\\anaconda3\\envs\\info2950\\lib\\site-packages (from stack-data->ipython>=1.0->ipython-sql) (0.8.3)\n"
     ]
    }
   ],
   "source": [
    "import sys\n",
    "!{sys.executable} -m pip install duckdb-engine\n",
    "!{sys.executable} -m pip install ipython-sql"
   ]
  },
  {
   "cell_type": "code",
   "execution_count": 2,
   "metadata": {},
   "outputs": [],
   "source": [
    "import requests\n",
    "from bs4 import BeautifulSoup\n",
    "\n",
    "import pandas as pd\n",
    "import numpy as np\n",
    "import time\n",
    "\n",
    "import seaborn\n",
    "from matplotlib import pyplot as plt\n",
    "\n",
    "from sklearn.linear_model import LogisticRegression\n",
    "from sklearn.linear_model import LinearRegression\n",
    "from sklearn import preprocessing\n",
    "from sklearn import utils\n",
    "from scipy.stats import binom, poisson, norm"
   ]
  },
  {
   "cell_type": "code",
   "execution_count": 3,
   "metadata": {},
   "outputs": [],
   "source": [
    "%load_ext sql\n",
    "\n",
    "%config SqlMagic.autopandas = True\n",
    "%config SqlMagic.feedback = False\n",
    "%config SqlMagic.displaycon = False\n",
    "\n",
    "%sql duckdb:///:memory:"
   ]
  },
  {
   "cell_type": "markdown",
   "metadata": {},
   "source": [
    "Research Question: Is there a correlation between the popularity of Pitbull’s music (measured through Billboard awards and spots on Billboard Hot 100) with American unemployment since his breakthrough in 2009 to 2021, and what does that relationship look like?\n",
    "\n",
    "We measure popularity through 3 datasets: Appearance on Billboard's Hot 100 chart, Pitbull's Music Awards, and Google Search trends data\n",
    "\n",
    "Source datasets:\n",
    "https://www.kaggle.com/datasets/dhruvildave/billboard-the-hot-100-songs\n",
    "https://en.wikipedia.org/wiki/List_of_awards_and_nominations_received_by_Pitbull\n",
    "https://www.kaggle.com/code/qusaybtoush1990/us-unemployment-data-1948-2021\n",
    "https://trends.google.com/trends/explore?date=all&geo=US&q=%2Fm%2F03f0qd7\n",
    "\n",
    "Because the available data sets for Billboard Hot 100 data are only available until 2012, we will perform our analysis between 2009 (when Pitbull started his career) and 2012."
   ]
  },
  {
   "cell_type": "markdown",
   "metadata": {},
   "source": [
    "## Billboard Chart Appearance, Awards, & Unemployment Rate"
   ]
  },
  {
   "cell_type": "markdown",
   "metadata": {},
   "source": [
    "### Logistic Regression on unemployment rate and whether or not Pitbull appeared on Billboard's Hot 100"
   ]
  },
  {
   "cell_type": "code",
   "execution_count": 4,
   "metadata": {},
   "outputs": [
    {
     "name": "stdout",
     "output_type": "stream",
     "text": [
      "[[-0.21504496]] [2.09063966]\n"
     ]
    }
   ],
   "source": [
    "simplecomp_df = pd.read_csv('simplecomp_df.csv')\n",
    "simplecomp_df[['unrate','appearance']]\n",
    "y= simplecomp_df['appearance']\n",
    "x= simplecomp_df['unrate'].values.reshape(-1,1)\n",
    "x_train = x[:-20]\n",
    "x_test = x[-20:]\n",
    "y_train = y[:-20]\n",
    "y_test = y[-20:]\n",
    "pitbull_logreg = LogisticRegression()\n",
    "pitbull_logreg.fit(x_train, y_train)\n",
    "print (pitbull_logreg.coef_, pitbull_logreg.intercept_)"
   ]
  },
  {
   "cell_type": "code",
   "execution_count": 5,
   "metadata": {},
   "outputs": [
    {
     "data": {
      "text/plain": [
       "<AxesSubplot:xlabel='unrate', ylabel='appearance'>"
      ]
     },
     "execution_count": 5,
     "metadata": {},
     "output_type": "execute_result"
    },
    {
     "data": {
      "image/png": "[encoded data removed]",
      "text/plain": [
       "<Figure size 640x480 with 1 Axes>"
      ]
     },
     "metadata": {},
     "output_type": "display_data"
    }
   ],
   "source": [
    "seaborn.scatterplot (data= simplecomp_df, x = simplecomp_df['unrate'], y = simplecomp_df['appearance'])"
   ]
  },
  {
   "cell_type": "markdown",
   "metadata": {},
   "source": [
    "### Logistic Regression on unemployment rate and whether or not the award Pitbull recieved in a given year was Latin or not"
   ]
  },
  {
   "cell_type": "code",
   "execution_count": 6,
   "metadata": {},
   "outputs": [
    {
     "name": "stdout",
     "output_type": "stream",
     "text": [
      "[[-0.43264248]] [2.56041152]\n"
     ]
    }
   ],
   "source": [
    "unemployaward_df = pd.read_csv('unemployaward_df.csv')\n",
    "unemployaward_df[['unrate','Latin']]\n",
    "y= unemployaward_df['Latin']\n",
    "x= unemployaward_df['unrate'].values.reshape(-1,1)\n",
    "x_train = x[:-20]\n",
    "x_test = x[-20:]\n",
    "y_train = y[:-20]\n",
    "y_test = y[-20:]\n",
    "pitbullaward_logreg = LogisticRegression()\n",
    "pitbullaward_logreg.fit(x_train, y_train)\n",
    "print (pitbullaward_logreg.coef_, pitbullaward_logreg.intercept_)"
   ]
  },
  {
   "cell_type": "code",
   "execution_count": 7,
   "metadata": {},
   "outputs": [
    {
     "data": {
      "text/plain": [
       "<AxesSubplot:xlabel='unrate', ylabel='Latin'>"
      ]
     },
     "execution_count": 7,
     "metadata": {},
     "output_type": "execute_result"
    },
    {
     "data": {
      "image/png": "[encoded data removed]",
      "text/plain": [
       "<Figure size 640x480 with 1 Axes>"
      ]
     },
     "metadata": {},
     "output_type": "display_data"
    }
   ],
   "source": [
    "seaborn.scatterplot (data= unemployaward_df, x = unemployaward_df['unrate'], y = unemployaward_df['Latin'])"
   ]
  },
  {
   "cell_type": "markdown",
   "metadata": {},
   "source": [
    "### Linear Regression on the rate of unemployment and the frequency of the song on Hot100"
   ]
  },
  {
   "cell_type": "code",
   "execution_count": 8,
   "metadata": {},
   "outputs": [
    {
     "name": "stdout",
     "output_type": "stream",
     "text": [
      "The model's slope is -0.2692061166559845\n",
      "Intercept: 4.450233495101187\n"
     ]
    }
   ],
   "source": [
    "x= simplecomp_df['unrate']\n",
    "y= simplecomp_df['songfreq']\n",
    "x= np.array(x.values).reshape(-1,1)\n",
    "y= np.array(y.values).reshape(-1,1)\n",
    "linx_train = x[:-20]\n",
    "linx_test = x[-20:]\n",
    "liny_train = y[:-20]\n",
    "liny_test = y[-20:]\n",
    "pitbull_linreg = LinearRegression()\n",
    "pitbull_linreg.fit(linx_train, liny_train)\n",
    "slope= float(pitbull_linreg.coef_)\n",
    "intercept= float(pitbull_linreg.intercept_)\n",
    "print (\"The model's slope is\", slope)\n",
    "print ('Intercept:', intercept)"
   ]
  },
  {
   "cell_type": "markdown",
   "metadata": {},
   "source": [
    "### Time Series Concerning Pitbull's Song Frequency on Billboard Hot 100 Between 2009 and 2012"
   ]
  },
  {
   "cell_type": "code",
   "execution_count": 9,
   "metadata": {},
   "outputs": [
    {
     "data": {
      "text/html": [
       "<div>\n",
       "<style scoped>\n",
       "    .dataframe tbody tr th:only-of-type {\n",
       "        vertical-align: middle;\n",
       "    }\n",
       "\n",
       "    .dataframe tbody tr th {\n",
       "        vertical-align: top;\n",
       "    }\n",
       "\n",
       "    .dataframe thead th {\n",
       "        text-align: right;\n",
       "    }\n",
       "</style>\n",
       "<table border=\"1\" class=\"dataframe\">\n",
       "  <thead>\n",
       "    <tr style=\"text-align: right;\">\n",
       "      <th></th>\n",
       "      <th>Unnamed: 0</th>\n",
       "      <th>year</th>\n",
       "      <th>date</th>\n",
       "      <th>appearance</th>\n",
       "      <th>month</th>\n",
       "      <th>unrate</th>\n",
       "      <th>songfreq</th>\n",
       "    </tr>\n",
       "  </thead>\n",
       "  <tbody>\n",
       "    <tr>\n",
       "      <th>0</th>\n",
       "      <td>0</td>\n",
       "      <td>2009</td>\n",
       "      <td>2009-01-01</td>\n",
       "      <td>0</td>\n",
       "      <td>1</td>\n",
       "      <td>8.5</td>\n",
       "      <td>0.0</td>\n",
       "    </tr>\n",
       "    <tr>\n",
       "      <th>1</th>\n",
       "      <td>1</td>\n",
       "      <td>2009</td>\n",
       "      <td>2009-02-01</td>\n",
       "      <td>0</td>\n",
       "      <td>2</td>\n",
       "      <td>8.9</td>\n",
       "      <td>0.0</td>\n",
       "    </tr>\n",
       "    <tr>\n",
       "      <th>2</th>\n",
       "      <td>2</td>\n",
       "      <td>2009</td>\n",
       "      <td>2009-03-01</td>\n",
       "      <td>1</td>\n",
       "      <td>3</td>\n",
       "      <td>9.0</td>\n",
       "      <td>3.0</td>\n",
       "    </tr>\n",
       "    <tr>\n",
       "      <th>3</th>\n",
       "      <td>3</td>\n",
       "      <td>2009</td>\n",
       "      <td>2009-04-01</td>\n",
       "      <td>1</td>\n",
       "      <td>4</td>\n",
       "      <td>8.6</td>\n",
       "      <td>4.0</td>\n",
       "    </tr>\n",
       "    <tr>\n",
       "      <th>4</th>\n",
       "      <td>4</td>\n",
       "      <td>2009</td>\n",
       "      <td>2009-05-01</td>\n",
       "      <td>1</td>\n",
       "      <td>5</td>\n",
       "      <td>9.1</td>\n",
       "      <td>5.0</td>\n",
       "    </tr>\n",
       "  </tbody>\n",
       "</table>\n",
       "</div>"
      ],
      "text/plain": [
       "   Unnamed: 0  year        date  appearance  month  unrate  songfreq\n",
       "0           0  2009  2009-01-01           0      1     8.5       0.0\n",
       "1           1  2009  2009-02-01           0      2     8.9       0.0\n",
       "2           2  2009  2009-03-01           1      3     9.0       3.0\n",
       "3           3  2009  2009-04-01           1      4     8.6       4.0\n",
       "4           4  2009  2009-05-01           1      5     9.1       5.0"
      ]
     },
     "execution_count": 9,
     "metadata": {},
     "output_type": "execute_result"
    }
   ],
   "source": [
    "simplecomp_df.head(5)"
   ]
  },
  {
   "cell_type": "code",
   "execution_count": 10,
   "metadata": {},
   "outputs": [
    {
     "data": {
      "text/plain": [
       "([0,\n",
       "  1,\n",
       "  2,\n",
       "  3,\n",
       "  4,\n",
       "  5,\n",
       "  6,\n",
       "  7,\n",
       "  8,\n",
       "  9,\n",
       "  10,\n",
       "  11,\n",
       "  12,\n",
       "  13,\n",
       "  14,\n",
       "  15,\n",
       "  16,\n",
       "  17,\n",
       "  18,\n",
       "  19,\n",
       "  20,\n",
       "  21,\n",
       "  22,\n",
       "  23,\n",
       "  24,\n",
       "  25,\n",
       "  26,\n",
       "  27,\n",
       "  28,\n",
       "  29,\n",
       "  30,\n",
       "  31,\n",
       "  32,\n",
       "  33,\n",
       "  34,\n",
       "  35,\n",
       "  36,\n",
       "  37,\n",
       "  38,\n",
       "  39,\n",
       "  40,\n",
       "  41,\n",
       "  42,\n",
       "  43,\n",
       "  44,\n",
       "  45,\n",
       "  46,\n",
       "  47],\n",
       " [Text(0, 0, ''),\n",
       "  Text(0, 0, ''),\n",
       "  Text(0, 0, ''),\n",
       "  Text(0, 0, ''),\n",
       "  Text(0, 0, ''),\n",
       "  Text(0, 0, ''),\n",
       "  Text(0, 0, ''),\n",
       "  Text(0, 0, ''),\n",
       "  Text(0, 0, ''),\n",
       "  Text(0, 0, ''),\n",
       "  Text(0, 0, ''),\n",
       "  Text(0, 0, ''),\n",
       "  Text(0, 0, ''),\n",
       "  Text(0, 0, ''),\n",
       "  Text(0, 0, ''),\n",
       "  Text(0, 0, ''),\n",
       "  Text(0, 0, ''),\n",
       "  Text(0, 0, ''),\n",
       "  Text(0, 0, ''),\n",
       "  Text(0, 0, ''),\n",
       "  Text(0, 0, ''),\n",
       "  Text(0, 0, ''),\n",
       "  Text(0, 0, ''),\n",
       "  Text(0, 0, ''),\n",
       "  Text(0, 0, ''),\n",
       "  Text(0, 0, ''),\n",
       "  Text(0, 0, ''),\n",
       "  Text(0, 0, ''),\n",
       "  Text(0, 0, ''),\n",
       "  Text(0, 0, ''),\n",
       "  Text(0, 0, ''),\n",
       "  Text(0, 0, ''),\n",
       "  Text(0, 0, ''),\n",
       "  Text(0, 0, ''),\n",
       "  Text(0, 0, ''),\n",
       "  Text(0, 0, ''),\n",
       "  Text(0, 0, ''),\n",
       "  Text(0, 0, ''),\n",
       "  Text(0, 0, ''),\n",
       "  Text(0, 0, ''),\n",
       "  Text(0, 0, ''),\n",
       "  Text(0, 0, ''),\n",
       "  Text(0, 0, ''),\n",
       "  Text(0, 0, ''),\n",
       "  Text(0, 0, ''),\n",
       "  Text(0, 0, ''),\n",
       "  Text(0, 0, ''),\n",
       "  Text(0, 0, '')])"
      ]
     },
     "execution_count": 10,
     "metadata": {},
     "output_type": "execute_result"
    },
    {
     "data": {
      "image/png": "[encoded data removed]",
      "text/plain": [
       "<Figure size 640x480 with 1 Axes>"
      ]
     },
     "metadata": {},
     "output_type": "display_data"
    }
   ],
   "source": [
    "plt.scatter('date','songfreq', data=simplecomp_df)\n",
    "plt.xticks(rotation=60)"
   ]
  },
  {
   "cell_type": "markdown",
   "metadata": {},
   "source": [
    "### Time Series Concerning Unemployment Between 2009 and 2012"
   ]
  },
  {
   "cell_type": "code",
   "execution_count": 11,
   "metadata": {},
   "outputs": [
    {
     "data": {
      "text/plain": [
       "([0,\n",
       "  1,\n",
       "  2,\n",
       "  3,\n",
       "  4,\n",
       "  5,\n",
       "  6,\n",
       "  7,\n",
       "  8,\n",
       "  9,\n",
       "  10,\n",
       "  11,\n",
       "  12,\n",
       "  13,\n",
       "  14,\n",
       "  15,\n",
       "  16,\n",
       "  17,\n",
       "  18,\n",
       "  19,\n",
       "  20,\n",
       "  21,\n",
       "  22,\n",
       "  23,\n",
       "  24,\n",
       "  25,\n",
       "  26,\n",
       "  27,\n",
       "  28,\n",
       "  29,\n",
       "  30,\n",
       "  31,\n",
       "  32,\n",
       "  33,\n",
       "  34,\n",
       "  35,\n",
       "  36,\n",
       "  37,\n",
       "  38,\n",
       "  39,\n",
       "  40,\n",
       "  41,\n",
       "  42,\n",
       "  43,\n",
       "  44,\n",
       "  45,\n",
       "  46,\n",
       "  47],\n",
       " [Text(0, 0, ''),\n",
       "  Text(0, 0, ''),\n",
       "  Text(0, 0, ''),\n",
       "  Text(0, 0, ''),\n",
       "  Text(0, 0, ''),\n",
       "  Text(0, 0, ''),\n",
       "  Text(0, 0, ''),\n",
       "  Text(0, 0, ''),\n",
       "  Text(0, 0, ''),\n",
       "  Text(0, 0, ''),\n",
       "  Text(0, 0, ''),\n",
       "  Text(0, 0, ''),\n",
       "  Text(0, 0, ''),\n",
       "  Text(0, 0, ''),\n",
       "  Text(0, 0, ''),\n",
       "  Text(0, 0, ''),\n",
       "  Text(0, 0, ''),\n",
       "  Text(0, 0, ''),\n",
       "  Text(0, 0, ''),\n",
       "  Text(0, 0, ''),\n",
       "  Text(0, 0, ''),\n",
       "  Text(0, 0, ''),\n",
       "  Text(0, 0, ''),\n",
       "  Text(0, 0, ''),\n",
       "  Text(0, 0, ''),\n",
       "  Text(0, 0, ''),\n",
       "  Text(0, 0, ''),\n",
       "  Text(0, 0, ''),\n",
       "  Text(0, 0, ''),\n",
       "  Text(0, 0, ''),\n",
       "  Text(0, 0, ''),\n",
       "  Text(0, 0, ''),\n",
       "  Text(0, 0, ''),\n",
       "  Text(0, 0, ''),\n",
       "  Text(0, 0, ''),\n",
       "  Text(0, 0, ''),\n",
       "  Text(0, 0, ''),\n",
       "  Text(0, 0, ''),\n",
       "  Text(0, 0, ''),\n",
       "  Text(0, 0, ''),\n",
       "  Text(0, 0, ''),\n",
       "  Text(0, 0, ''),\n",
       "  Text(0, 0, ''),\n",
       "  Text(0, 0, ''),\n",
       "  Text(0, 0, ''),\n",
       "  Text(0, 0, ''),\n",
       "  Text(0, 0, ''),\n",
       "  Text(0, 0, '')])"
      ]
     },
     "execution_count": 11,
     "metadata": {},
     "output_type": "execute_result"
    },
    {
     "data": {
      "image/png": "[encoded data removed]",
      "text/plain": [
       "<Figure size 640x480 with 1 Axes>"
      ]
     },
     "metadata": {},
     "output_type": "display_data"
    }
   ],
   "source": [
    "plt.scatter('date','unrate', data=simplecomp_df)\n",
    "plt.xticks(rotation=60)"
   ]
  },
  {
   "cell_type": "markdown",
   "metadata": {},
   "source": [
    "### Exploratory data: Finding out the mean, median, variance, standard deviation of data concerning unemployment and Pitbull's appearances on Billboard Hot 100 "
   ]
  },
  {
   "cell_type": "markdown",
   "metadata": {},
   "source": [
    "Exploratory data concerning the frequency of Pitbull's music on Hot 100"
   ]
  },
  {
   "cell_type": "code",
   "execution_count": 12,
   "metadata": {},
   "outputs": [
    {
     "name": "stdout",
     "output_type": "stream",
     "text": [
      "billboard_freq_means\n",
      "1.5849056603773586\n",
      "billboard_freq_median\n",
      "0.0\n",
      "billboard_freq_variances\n",
      "3.978229317851962\n",
      "billboard_freq_std\n",
      "1.9945499035752305\n"
     ]
    }
   ],
   "source": [
    "billboard_freq_means = (simplecomp_df['songfreq'].mean(axis=0))\n",
    "print ('billboard_freq_means')\n",
    "print (billboard_freq_means)\n",
    "billboard_freq_median= (simplecomp_df['songfreq'].median(axis=0))\n",
    "print ('billboard_freq_median')\n",
    "print (billboard_freq_median)\n",
    "billboard_freq_variances= (simplecomp_df['songfreq'].var(axis=0))\n",
    "print ('billboard_freq_variances')\n",
    "print (billboard_freq_variances)\n",
    "billboard_freq_std= (simplecomp_df['songfreq'].std(axis=0))\n",
    "print ('billboard_freq_std')\n",
    "print (billboard_freq_std)"
   ]
  },
  {
   "cell_type": "markdown",
   "metadata": {},
   "source": [
    "Exploratory data concerning the unemployment rate between 2009 and 2012"
   ]
  },
  {
   "cell_type": "code",
   "execution_count": 13,
   "metadata": {},
   "outputs": [
    {
     "name": "stdout",
     "output_type": "stream",
     "text": [
      "unrate_means\n",
      "9.028301886792452\n",
      "unrate_median\n",
      "9.2\n",
      "unrate_variances\n",
      "0.537068214804064\n",
      "unrate_std\n",
      "0.732849380707976\n"
     ]
    }
   ],
   "source": [
    "unrate_means = (simplecomp_df['unrate'].mean(axis=0))\n",
    "print ('unrate_means')\n",
    "print (unrate_means)\n",
    "unrate_median= (simplecomp_df['unrate'].median(axis=0))\n",
    "print ('unrate_median')\n",
    "print (unrate_median)\n",
    "unrate_variances= (simplecomp_df['unrate'].var(axis=0))\n",
    "print ('unrate_variances')\n",
    "print (unrate_variances)\n",
    "unrate_std= (simplecomp_df['unrate'].std(axis=0))\n",
    "print ('unrate_std')\n",
    "print (unrate_std)"
   ]
  },
  {
   "cell_type": "markdown",
   "metadata": {},
   "source": [
    "## Summarizing Phase II"
   ]
  },
  {
   "cell_type": "markdown",
   "metadata": {},
   "source": [
    "### Data description. Have an initial draft of your data description section."
   ]
  },
  {
   "cell_type": "markdown",
   "metadata": {},
   "source": [
    "#### Summary\n",
    "\n",
    "Our data consists of csv files from Kaggle, noting unemployment data and Billboard Hot 100 data. Additionally, we underwent webscraping to collect Wikipedia data on Pitbull's billboard awards.The unemployment data we needed to remove NaN values and bound the dates in between 2009 and 2012. Additionally, we needed to merge the month and date columns so we could do a time series. The same could be said for the Billboard Hot 100 file, because we needed to merge the month and the data. We also had to make sure that the only artist we accounted for was Pitbull. The Pitbull awards data scraping involved using two Wikipedia tables to create a fuller picture of how successful he was according to the Billboard awards. This meant that we added an additional column regarding whether or not the award won was for the Billboard Latin Awards or the Billboard Awards. \n",
    "\n",
    "#### Detailed Information\n",
    "\n",
    "- The unemployment dataset was created to keep track of unemployment rate as an economic measure; the Wikipedia page for Pitbull's Billboard awards was likely created as a general information source for the public to learn about Pitbull as an artist and public figure; we are unsure about what the motivation was for creating the Billboard Hot 100 dataset other than to keep track of which songs appear on there and how often.\n",
    "\n",
    "- Although we used the unemployment dataset from Kaggle, the data is the same as in FRED (Federal Reserve Economic Data) and is government-funded, Wikipedia pages are usually funded through indvidual donations and volunteer contributions, and we are unsure of where the funding comes from (if any) for the Billboard Hot 100 dataset from Kaggle.\n",
    "\n",
    "- Since the Billboard Hot 100 data on Kaggle does not explicitly mention how the data is collected, and billboard.com (listed as the provenance) does not have a way to view past weeks, this can be a source of many human errors, including missing details from a given week or inputting incorrect details from manual data input (if the inpur process was manual). As for the unemployment dataset, the actual collection of such data can be found here: https://www.bls.gov/cps/cps_htgm.htm, but the main processes that would affect the recording process would be in the sample selection itself, which may result in the over-generalization of unemployment rate numbers. As for the Wikipedia page, any contributor must rely on other sources of data available to be reliable in order to compile those pieces of data into one page, in this case Billboard Awards.\n",
    "\n",
    "- Although we are unsure of what and how preprocessing was performed on any of these datasets, we do know that data had to be transferred from a different site (FRED and Billboard) into the datasets that we downloaded, which can have various problems as discussed previously.\n",
    "\n",
    "- For the unemployment data, people were aware of the data collection and probably expected it to be used for government purposes, which it was, though they may have not predicted it would be used to study correlation between unemployment and Pitbull popularity."
   ]
  },
  {
   "cell_type": "markdown",
   "metadata": {},
   "source": [
    "### Data limitations. Identify any potential problems with your dataset."
   ]
  },
  {
   "cell_type": "markdown",
   "metadata": {},
   "source": [
    " It could be very limited, because there are other metrics for popularity than Billboard Hot 100, like Spotify and Apple music. Additionally, because it's so niche, there is not a large amount of Pitbull popularity to draw on. Moreover, we may need to do some transformations to nomalize our values. We may also need to figure out how to utilize our test set without overusing it. We're trying to avoid overfitting."
   ]
  },
  {
   "cell_type": "markdown",
   "metadata": {},
   "source": [
    "### Exploratory data analysis. Perform an (initial) exploratory data analysis."
   ]
  },
  {
   "cell_type": "markdown",
   "metadata": {},
   "source": [
    "It shows pretty weak correlation. When we go off our logistic regressions with the binaries-- whether or not he appeared on the charts and whether or not an award was Latin or not, there's no definitive way to predict the unemployment rate. We need to utilize more analysis tools to see to our ends. Nevertheless, the time series do seem a little promising, given they have some points that seem to overlaps. The mean, median, variance, and standard deviation for the song frequency do not seem the most promising, because the variance is so high, while the unemployment rate variance is so low, being <1."
   ]
  },
  {
   "cell_type": "markdown",
   "metadata": {},
   "source": [
    "### Questions for reviewers. List specific questions for your peer reviewers"
   ]
  },
  {
   "cell_type": "markdown",
   "metadata": {},
   "source": [
    "\n",
    "- How can we make this more substantive?\n",
    "- How can we implement the awards dataframe in a manner to tell a story with data?\n",
    "- What do you suggest we transform and how can we normalize our data to work better together? \n"
   ]
  },
  {
   "cell_type": "markdown",
   "metadata": {},
   "source": [
    "### Phase III "
   ]
  },
  {
   "cell_type": "markdown",
   "metadata": {},
   "source": [
    "Our initial exploratory data analysis revealed a lot of variation, but we believe that given select factors, we can find some correlation between Pitbull's success as an artist as indicative of unemployment trends in from 2009-2012.\n",
    "\n",
    "Hypothesis #1- There's a correlation between an award in a given year being Latin and the unemployment rate fluctuating by a certain amount from 2009 to 2012.\n",
    "- We will perform a pmf on the probability that given a song's award is Latin, the unemployment rate would fluctuate by a certain amount.\n",
    "- We will also utilize a correlation matrix.\n",
    "\n",
    "Hypothesis #2- Given a host of variables in our unemployment data-- age range of those unemployed, their gender, and the cumulative unemployment rate-- we can predict whether or not Pitbull would make it onto the Billboard Charts.\n",
    " - We will do a train-test split logistical regression to see if we can train the data set on unemployment-- given a host of variables-- to see if we can predict Pitbull's chart success.\n",
    "\n",
    "Questions for reviewers-\n",
    "\n",
    "- How do we utilize the awards df better? Is a pmf function the best course of action, or should we utilize something else?\n",
    "- Instead of a train-test split, should we utilize K-folds for hypothesis #2, because our data set is so small?"
   ]
  },
  {
   "cell_type": "markdown",
   "metadata": {},
   "source": [
    "### Phase IV"
   ]
  },
  {
   "cell_type": "markdown",
   "metadata": {},
   "source": [
    "Hypothesis #1- There's a correlation between an award in a given year being Latin and the unemployment rate fluctuating by a certain amount from 2009 to 2012.\n",
    "- We will perform a pmf on the probability that given a song's award is Latin, the unemployment rate would fluctuate by a certain amount.\n",
    "- We will also utilize a correlation matrix."
   ]
  },
  {
   "cell_type": "code",
   "execution_count": 14,
   "metadata": {
    "scrolled": true
   },
   "outputs": [
    {
     "data": {
      "text/plain": [
       "<bound method IndexOpsMixin.value_counts of 0     0\n",
       "1     0\n",
       "2     0\n",
       "3     0\n",
       "4     0\n",
       "     ..\n",
       "64    1\n",
       "65    1\n",
       "66    0\n",
       "67    0\n",
       "68    0\n",
       "Name: Latin, Length: 69, dtype: int64>"
      ]
     },
     "execution_count": 14,
     "metadata": {},
     "output_type": "execute_result"
    }
   ],
   "source": [
    "unemployaward_df['Latin'].value_counts"
   ]
  },
  {
   "cell_type": "code",
   "execution_count": null,
   "metadata": {},
   "outputs": [],
   "source": []
  }
 ],
 "metadata": {
  "kernelspec": {
   "display_name": "Python 3 (ipykernel)",
   "language": "python",
   "name": "python3"
  },
  "language_info": {
   "codemirror_mode": {
    "name": "ipython",
    "version": 3
   },
   "file_extension": ".py",
   "mimetype": "text/x-python",
   "name": "python",
   "nbconvert_exporter": "python",
   "pygments_lexer": "ipython3",
   "version": "3.9.13"
  },
  "vscode": {
   "interpreter": {
    "hash": "8daba514033a87bf47d8f23dd57148c3350d20787ea38b0ee3e79ed68a01cd3b"
   }
  }
 },
 "nbformat": 4,
 "nbformat_minor": 2
}
