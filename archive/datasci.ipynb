{
 "cells": [
  {
   "cell_type": "code",
   "execution_count": null,
   "metadata": {},
   "outputs": [
    {
     "name": "stdout",
     "output_type": "stream",
     "text": [
      "Requirement already satisfied: duckdb-engine in c:\\users\\yasmi\\anaconda3\\envs\\info2950\\lib\\site-packages (0.6.4)\n",
      "Requirement already satisfied: numpy in c:\\users\\yasmi\\anaconda3\\envs\\info2950\\lib\\site-packages (from duckdb-engine) (1.21.5)\n",
      "Requirement already satisfied: duckdb>=0.4.0 in c:\\users\\yasmi\\anaconda3\\envs\\info2950\\lib\\site-packages (from duckdb-engine) (0.5.1)\n",
      "Requirement already satisfied: sqlalchemy<2.0.0,>=1.3.19 in c:\\users\\yasmi\\anaconda3\\envs\\info2950\\lib\\site-packages (from duckdb-engine) (1.4.41)\n",
      "Requirement already satisfied: greenlet!=0.4.17 in c:\\users\\yasmi\\anaconda3\\envs\\info2950\\lib\\site-packages (from sqlalchemy<2.0.0,>=1.3.19->duckdb-engine) (1.1.3)\n",
      "Requirement already satisfied: ipython-sql in c:\\users\\yasmi\\anaconda3\\envs\\info2950\\lib\\site-packages (0.4.1)\n",
      "Requirement already satisfied: sqlalchemy>=0.6.7 in c:\\users\\yasmi\\anaconda3\\envs\\info2950\\lib\\site-packages (from ipython-sql) (1.4.41)\n",
      "Requirement already satisfied: six in c:\\users\\yasmi\\anaconda3\\envs\\info2950\\lib\\site-packages (from ipython-sql) (1.16.0)\n",
      "Requirement already satisfied: sqlparse in c:\\users\\yasmi\\anaconda3\\envs\\info2950\\lib\\site-packages (from ipython-sql) (0.4.2)\n",
      "Requirement already satisfied: prettytable<1 in c:\\users\\yasmi\\anaconda3\\envs\\info2950\\lib\\site-packages (from ipython-sql) (0.7.2)\n",
      "Requirement already satisfied: ipython>=1.0 in c:\\users\\yasmi\\anaconda3\\envs\\info2950\\lib\\site-packages (from ipython-sql) (8.4.0)\n",
      "Requirement already satisfied: ipython-genutils>=0.1.0 in c:\\users\\yasmi\\anaconda3\\envs\\info2950\\lib\\site-packages (from ipython-sql) (0.2.0)\n",
      "Requirement already satisfied: decorator in c:\\users\\yasmi\\anaconda3\\envs\\info2950\\lib\\site-packages (from ipython>=1.0->ipython-sql) (5.1.1)\n",
      "Requirement already satisfied: prompt-toolkit!=3.0.0,!=3.0.1,<3.1.0,>=2.0.0 in c:\\users\\yasmi\\anaconda3\\envs\\info2950\\lib\\site-packages (from ipython>=1.0->ipython-sql) (3.0.20)\n",
      "Requirement already satisfied: stack-data in c:\\users\\yasmi\\anaconda3\\envs\\info2950\\lib\\site-packages (from ipython>=1.0->ipython-sql) (0.2.0)\n",
      "Requirement already satisfied: backcall in c:\\users\\yasmi\\anaconda3\\envs\\info2950\\lib\\site-packages (from ipython>=1.0->ipython-sql) (0.2.0)\n",
      "Requirement already satisfied: jedi>=0.16 in c:\\users\\yasmi\\anaconda3\\envs\\info2950\\lib\\site-packages (from ipython>=1.0->ipython-sql) (0.18.1)\n",
      "Requirement already satisfied: pygments>=2.4.0 in c:\\users\\yasmi\\anaconda3\\envs\\info2950\\lib\\site-packages (from ipython>=1.0->ipython-sql) (2.11.2)\n",
      "Requirement already satisfied: traitlets>=5 in c:\\users\\yasmi\\anaconda3\\envs\\info2950\\lib\\site-packages (from ipython>=1.0->ipython-sql) (5.1.1)\n",
      "Requirement already satisfied: setuptools>=18.5 in c:\\users\\yasmi\\anaconda3\\envs\\info2950\\lib\\site-packages (from ipython>=1.0->ipython-sql) (63.4.1)\n",
      "Requirement already satisfied: matplotlib-inline in c:\\users\\yasmi\\anaconda3\\envs\\info2950\\lib\\site-packages (from ipython>=1.0->ipython-sql) (0.1.6)\n",
      "Requirement already satisfied: pickleshare in c:\\users\\yasmi\\anaconda3\\envs\\info2950\\lib\\site-packages (from ipython>=1.0->ipython-sql) (0.7.5)\n",
      "Requirement already satisfied: colorama in c:\\users\\yasmi\\anaconda3\\envs\\info2950\\lib\\site-packages (from ipython>=1.0->ipython-sql) (0.4.5)\n",
      "Requirement already satisfied: greenlet!=0.4.17 in c:\\users\\yasmi\\anaconda3\\envs\\info2950\\lib\\site-packages (from sqlalchemy>=0.6.7->ipython-sql) (1.1.3)\n",
      "Requirement already satisfied: parso<0.9.0,>=0.8.0 in c:\\users\\yasmi\\anaconda3\\envs\\info2950\\lib\\site-packages (from jedi>=0.16->ipython>=1.0->ipython-sql) (0.8.3)\n",
      "Requirement already satisfied: wcwidth in c:\\users\\yasmi\\anaconda3\\envs\\info2950\\lib\\site-packages (from prompt-toolkit!=3.0.0,!=3.0.1,<3.1.0,>=2.0.0->ipython>=1.0->ipython-sql) (0.2.5)\n",
      "Requirement already satisfied: asttokens in c:\\users\\yasmi\\anaconda3\\envs\\info2950\\lib\\site-packages (from stack-data->ipython>=1.0->ipython-sql) (2.0.5)\n",
      "Requirement already satisfied: executing in c:\\users\\yasmi\\anaconda3\\envs\\info2950\\lib\\site-packages (from stack-data->ipython>=1.0->ipython-sql) (0.8.3)\n",
      "Requirement already satisfied: pure-eval in c:\\users\\yasmi\\anaconda3\\envs\\info2950\\lib\\site-packages (from stack-data->ipython>=1.0->ipython-sql) (0.2.2)\n"
     ]
    }
   ],
   "source": [
    "import sys\n",
    "!{sys.executable} -m pip install duckdb-engine\n",
    "!{sys.executable} -m pip install ipython-sql"
   ]
  },
  {
   "cell_type": "code",
   "execution_count": null,
   "metadata": {},
   "outputs": [],
   "source": [
    "import numpy as np\n",
    "import seaborn as sns\n",
    "import pandas as pd\n",
    "import matplotlib.pyplot as plt\n",
    "import duckdb, sqlalchemy"
   ]
  },
  {
   "cell_type": "code",
   "execution_count": null,
   "metadata": {},
   "outputs": [
    {
     "name": "stdout",
     "output_type": "stream",
     "text": [
      "The sql extension is already loaded. To reload it, use:\n",
      "  %reload_ext sql\n"
     ]
    }
   ],
   "source": [
    "%load_ext sql\n",
    "\n",
    "%config SqlMagic.autopandas = True\n",
    "%config SqlMagic.feedback = False\n",
    "%config SqlMagic.displaycon = False\n",
    "\n",
    "%sql duckdb:///:memory:"
   ]
  },
  {
   "cell_type": "markdown",
   "metadata": {},
   "source": [
    "Research Question: Does there exist correlation between the popularity of Pitbull’s music (measured through awards and spots on Billboard Hot 100) with American unemployment since his breakthrough in 2009 to the present day?\n",
    "\n",
    "Source datasets:\n",
    "https://www.kaggle.com/datasets/dhruvildave/billboard-the-hot-100-songs\n",
    "https://en.wikipedia.org/wiki/List_of_awards_and_nominations_received_by_Pitbull\n",
    "https://www.bls.gov/cps/tables.htm"
   ]
  },
  {
   "cell_type": "markdown",
   "metadata": {},
   "source": [
    "Billboard Hot 100 Data Cleaning:"
   ]
  },
  {
   "cell_type": "code",
   "execution_count": null,
   "metadata": {},
   "outputs": [
    {
     "name": "stdout",
     "output_type": "stream",
     "text": [
      "         date  rank           song                         artist  last-week  \\\n",
      "0  2021-11-06     1     Easy On Me                          Adele        1.0   \n",
      "1  2021-11-06     2           Stay  The Kid LAROI & Justin Bieber        2.0   \n",
      "2  2021-11-06     3  Industry Baby        Lil Nas X & Jack Harlow        3.0   \n",
      "3  2021-11-06     4     Fancy Like                   Walker Hayes        4.0   \n",
      "4  2021-11-06     5     Bad Habits                     Ed Sheeran        5.0   \n",
      "\n",
      "   peak-rank  weeks-on-board  \n",
      "0          1               3  \n",
      "1          1              16  \n",
      "2          1              14  \n",
      "3          3              19  \n",
      "4          2              18  \n"
     ]
    }
   ],
   "source": [
    "billboard_df = pd.read_csv('charts.csv')\n",
    "print (billboard_df.head())"
   ]
  },
  {
   "cell_type": "code",
   "execution_count": null,
   "metadata": {},
   "outputs": [],
   "source": [
    "pitbull_df= billboard_df.loc[billboard_df['artist'] == 'Pitbull']"
   ]
  },
  {
   "cell_type": "code",
   "execution_count": 29,
   "metadata": {},
   "outputs": [],
   "source": [
    "pitbull_df.loc[pitbull_df['date'].between('2009-01-01', '2022-10-15')]"
   ]
  }
 ],
 "metadata": {
  "kernelspec": {
   "display_name": "Python 3.9.13 ('info2950')",
   "language": "python",
   "name": "python3"
  },
  "language_info": {
   "codemirror_mode": {
    "name": "ipython",
    "version": 3
   },
   "file_extension": ".py",
   "mimetype": "text/x-python",
   "name": "python",
   "nbconvert_exporter": "python",
   "pygments_lexer": "ipython3",
   "version": "3.9.13"
  },
  "orig_nbformat": 4,
  "vscode": {
   "interpreter": {
    "hash": "8daba514033a87bf47d8f23dd57148c3350d20787ea38b0ee3e79ed68a01cd3b"
   }
  }
 },
 "nbformat": 4,
 "nbformat_minor": 2
}
